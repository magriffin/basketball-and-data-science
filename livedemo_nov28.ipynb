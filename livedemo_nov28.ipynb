{
 "cells": [
  {
   "cell_type": "markdown",
   "metadata": {},
   "source": [
    "Open this notebook in Callysto [here](https://hub.callysto.ca/jupyter/hub/user-redirect/git-pull?repo=https://github.com/pbeens/Data-Analysis&branch=main&subPath=Demos/where-can-we-get-data-from-csv.ipynb&depth=1) or in Colab [here](https://githubtocolab.com/pbeens/Data-Analysis/blob/main/Demos/where-can-we-get-data-from-csv.ipynb)."
   ]
  },
  {
   "cell_type": "markdown",
   "metadata": {},
   "source": [
    "## Program Setup"
   ]
  },
  {
   "cell_type": "markdown",
   "metadata": {},
   "source": [
    "This first code block may have to be run if these libraries haven't already been installed. Once this has been done once, it will never have to be done again. You can skip it for now, but if you get an error message related to a library not being installed, go ahead and run it."
   ]
  },
  {
   "cell_type": "code",
   "execution_count": 2,
   "metadata": {},
   "outputs": [
    {
     "name": "stdout",
     "output_type": "stream",
     "text": [
      "\u001b[33mWARNING: Skipping /opt/conda/lib/python3.11/site-packages/nlopt-2.7.1.dist-info due to invalid metadata entry 'name'\u001b[0m\u001b[33m\n",
      "\u001b[0m\u001b[33mWARNING: Skipping /opt/conda/lib/python3.11/site-packages/nlopt-2.7.1.dist-info due to invalid metadata entry 'name'\u001b[0m\u001b[33m\n",
      "\u001b[0mNote: you may need to restart the kernel to use updated packages.\n",
      "\u001b[33mWARNING: Skipping /opt/conda/lib/python3.11/site-packages/nlopt-2.7.1.dist-info due to invalid metadata entry 'name'\u001b[0m\u001b[33m\n",
      "\u001b[0m\u001b[33mWARNING: Skipping /opt/conda/lib/python3.11/site-packages/nlopt-2.7.1.dist-info due to invalid metadata entry 'name'\u001b[0m\u001b[33m\n",
      "\u001b[0mNote: you may need to restart the kernel to use updated packages.\n"
     ]
    }
   ],
   "source": [
    "%pip install pandas -q\n",
    "%pip install plotly_express -q"
   ]
  },
  {
   "cell_type": "markdown",
   "metadata": {},
   "source": [
    "## Introduction"
   ]
  },
  {
   "cell_type": "markdown",
   "metadata": {},
   "source": [
    "There are many ways we can import data, but the most common are from the program itself, a CSV (comma separated values) file, from an Excel spreadsheet, from a Google Sheet, or from a webpage. \n",
    "\n",
    "So far we have lookedd at how to get data from [in the Jupyter Notebook itself](where-can-we-get-data-from-internal.ipynb), from a [CSV file](where-can-we-get-data-from-csv.ipynb), from an [Excel file](where-can-we-get-data-from-excel.ipynb), and from a [webpage](where-can-we-get-data-from-webpage.ipynb).\n",
    "\n",
    "In this demo, we will demonstrate how to get data from a Google Sheet."
   ]
  },
  {
   "cell_type": "code",
   "execution_count": 3,
   "metadata": {},
   "outputs": [],
   "source": [
    "# import plotly.express and pandas\n",
    "import plotly.express as px\n",
    "import pandas as pd"
   ]
  },
  {
   "cell_type": "markdown",
   "metadata": {},
   "source": [
    "When we configure the URL of the Google Sheet, we make a change at the end, like this:\n",
    "\n",
    "If the URL is\n",
    "\n",
    "`https://docs.google.com/spreadsheets/d/1ZULKhYzsMd4eYwiprsyGgE9Df3gaVtO8WRalUQDn-xE/edit#gid=0`\n",
    "\n",
    "we change the last part after the last slash (/) to export?format=csv:\n",
    "\n",
    "`https://docs.google.com/spreadsheets/d/1ZULKhYzsMd4eYwiprsyGgE9Df3gaVtO8WRalUQDn-xE/export?format=csv`\n",
    "\n",
    "We then treat the Google Sheet like a CSV file.\n",
    "\n",
    "Here's our complete program, adapted from the CSV example above. "
   ]
  },
  {
   "cell_type": "code",
   "execution_count": 17,
   "metadata": {},
   "outputs": [
    {
     "data": {
      "text/html": [
       "<div>\n",
       "<style scoped>\n",
       "    .dataframe tbody tr th:only-of-type {\n",
       "        vertical-align: middle;\n",
       "    }\n",
       "\n",
       "    .dataframe tbody tr th {\n",
       "        vertical-align: top;\n",
       "    }\n",
       "\n",
       "    .dataframe thead th {\n",
       "        text-align: right;\n",
       "    }\n",
       "</style>\n",
       "<table border=\"1\" class=\"dataframe\">\n",
       "  <thead>\n",
       "    <tr style=\"text-align: right;\">\n",
       "      <th></th>\n",
       "      <th>timestamp</th>\n",
       "      <th>firstname</th>\n",
       "      <th>shotdistance</th>\n",
       "      <th>shotmade</th>\n",
       "    </tr>\n",
       "  </thead>\n",
       "  <tbody>\n",
       "    <tr>\n",
       "      <th>0</th>\n",
       "      <td>10/18/2023 10:51:01</td>\n",
       "      <td>David</td>\n",
       "      <td>10</td>\n",
       "      <td>False</td>\n",
       "    </tr>\n",
       "    <tr>\n",
       "      <th>1</th>\n",
       "      <td>10/18/2023 10:53:00</td>\n",
       "      <td>David</td>\n",
       "      <td>10</td>\n",
       "      <td>True</td>\n",
       "    </tr>\n",
       "    <tr>\n",
       "      <th>2</th>\n",
       "      <td>10/18/2023 13:38:16</td>\n",
       "      <td>MG</td>\n",
       "      <td>8</td>\n",
       "      <td>True</td>\n",
       "    </tr>\n",
       "    <tr>\n",
       "      <th>3</th>\n",
       "      <td>10/18/2023 13:38:25</td>\n",
       "      <td>MG</td>\n",
       "      <td>8</td>\n",
       "      <td>False</td>\n",
       "    </tr>\n",
       "    <tr>\n",
       "      <th>4</th>\n",
       "      <td>10/18/2023 13:38:33</td>\n",
       "      <td>MG</td>\n",
       "      <td>8</td>\n",
       "      <td>False</td>\n",
       "    </tr>\n",
       "    <tr>\n",
       "      <th>...</th>\n",
       "      <td>...</td>\n",
       "      <td>...</td>\n",
       "      <td>...</td>\n",
       "      <td>...</td>\n",
       "    </tr>\n",
       "    <tr>\n",
       "      <th>462</th>\n",
       "      <td>11/27/2023 16:09:45</td>\n",
       "      <td>PB</td>\n",
       "      <td>6</td>\n",
       "      <td>False</td>\n",
       "    </tr>\n",
       "    <tr>\n",
       "      <th>463</th>\n",
       "      <td>11/28/2023 13:11:19</td>\n",
       "      <td>AA_Milne</td>\n",
       "      <td>2</td>\n",
       "      <td>False</td>\n",
       "    </tr>\n",
       "    <tr>\n",
       "      <th>464</th>\n",
       "      <td>11/28/2023 13:11:28</td>\n",
       "      <td>AA_Milne</td>\n",
       "      <td>2</td>\n",
       "      <td>False</td>\n",
       "    </tr>\n",
       "    <tr>\n",
       "      <th>465</th>\n",
       "      <td>11/28/2023 13:11:37</td>\n",
       "      <td>AA_Milne</td>\n",
       "      <td>2</td>\n",
       "      <td>False</td>\n",
       "    </tr>\n",
       "    <tr>\n",
       "      <th>466</th>\n",
       "      <td>11/28/2023 13:11:45</td>\n",
       "      <td>AA_Milne</td>\n",
       "      <td>2</td>\n",
       "      <td>True</td>\n",
       "    </tr>\n",
       "  </tbody>\n",
       "</table>\n",
       "<p>467 rows × 4 columns</p>\n",
       "</div>"
      ],
      "text/plain": [
       "               timestamp firstname  shotdistance  shotmade\n",
       "0    10/18/2023 10:51:01     David            10     False\n",
       "1    10/18/2023 10:53:00     David            10      True\n",
       "2    10/18/2023 13:38:16        MG             8      True\n",
       "3    10/18/2023 13:38:25        MG             8     False\n",
       "4    10/18/2023 13:38:33        MG             8     False\n",
       "..                   ...       ...           ...       ...\n",
       "462  11/27/2023 16:09:45        PB             6     False\n",
       "463  11/28/2023 13:11:19  AA_Milne             2     False\n",
       "464  11/28/2023 13:11:28  AA_Milne             2     False\n",
       "465  11/28/2023 13:11:37  AA_Milne             2     False\n",
       "466  11/28/2023 13:11:45  AA_Milne             2      True\n",
       "\n",
       "[467 rows x 4 columns]"
      ]
     },
     "metadata": {},
     "output_type": "display_data"
    }
   ],
   "source": [
    "# import plotly.express and pandas\n",
    "import plotly.express as px\n",
    "import pandas as pd\n",
    "\n",
    "# Google Sheet URL variable, with modified /export?format=csv ending\n",
    "url = 'https://docs.google.com/spreadsheets/d/1peJis68KbNsD1jKwW32g3VOGCqMmdfjwGdGcpeukli8/export?format=csv'\n",
    "\n",
    "# Read the Google Sheet into a DataFrame named df\n",
    "# Note we are using the url variable\n",
    "df = pd.read_csv(url)\n",
    "\n",
    "#accuracy by distance array variable\n",
    "accuracy = [0 , 0]\n",
    "\n",
    "\n",
    "df.rename(columns={\"Timestamp\": \"timestamp\", \"First Name\": \"firstname\", \"Shot Distance (feet)\": \"shotdistance\", \"Shot Made?\": \"shotmade\"}, inplace=True)\n",
    "\n",
    "display(df)\n",
    "\n"
   ]
  },
  {
   "cell_type": "code",
   "execution_count": 6,
   "metadata": {},
   "outputs": [
    {
     "name": "stdout",
     "output_type": "stream",
     "text": [
      "shotmade                Percentage_True\n",
      "firstname shotdistance                 \n",
      " Hope     10                      100.0\n",
      "AD        4                         0.0\n",
      "          10                        0.0\n",
      "AT        2                       100.0\n",
      "          6                         0.0\n",
      "...                                 ...\n",
      "naya      2                        75.0\n",
      "          4                        50.0\n",
      "          6                       100.0\n",
      "          8                        50.0\n",
      "          10                       50.0\n",
      "\n",
      "[260 rows x 1 columns]\n"
     ]
    }
   ],
   "source": [
    "# Create a pivot table to get the count of made and missed shots for each player and distance\n",
    "pivot_table = df.pivot_table(index=['firstname', 'shotdistance'], columns='shotmade', aggfunc='size', fill_value=0)\n",
    "\n",
    "# Calculate the percentage of made shots for each player and distance\n",
    "pivot_table['Percentage_True'] = (pivot_table[True] / (pivot_table[True] + pivot_table[False])) * 100\n",
    "\n",
    "# Print the result\n",
    "print(pivot_table[['Percentage_True']])"
   ]
  },
  {
   "cell_type": "code",
   "execution_count": 13,
   "metadata": {},
   "outputs": [
    {
     "data": {
      "application/vnd.plotly.v1+json": {
       "config": {
        "plotlyServerURL": "https://plot.ly"
       },
       "data": [
        {
         "hovertemplate": "firstname= Hope<br>Shot Distance=%{x}<br>Percentage of Made Shots=%{y}<extra></extra>",
         "legendgroup": " Hope",
         "marker": {
          "color": "#636efa",
          "symbol": "circle"
         },
         "mode": "markers",
         "name": " Hope",
         "orientation": "v",
         "showlegend": true,
         "type": "scatter",
         "x": [
          10
         ],
         "xaxis": "x",
         "y": [
          100
         ],
         "yaxis": "y"
        },
        {
         "hovertemplate": "firstname=AD<br>Shot Distance=%{x}<br>Percentage of Made Shots=%{y}<extra></extra>",
         "legendgroup": "AD",
         "marker": {
          "color": "#EF553B",
          "symbol": "circle"
         },
         "mode": "markers",
         "name": "AD",
         "orientation": "v",
         "showlegend": true,
         "type": "scatter",
         "x": [
          4,
          10
         ],
         "xaxis": "x",
         "y": [
          0,
          0
         ],
         "yaxis": "y"
        },
        {
         "hovertemplate": "firstname=AT<br>Shot Distance=%{x}<br>Percentage of Made Shots=%{y}<extra></extra>",
         "legendgroup": "AT",
         "marker": {
          "color": "#00cc96",
          "symbol": "circle"
         },
         "mode": "markers",
         "name": "AT",
         "orientation": "v",
         "showlegend": true,
         "type": "scatter",
         "x": [
          2,
          6
         ],
         "xaxis": "x",
         "y": [
          100,
          0
         ],
         "yaxis": "y"
        },
        {
         "hovertemplate": "firstname=Adrianna<br>Shot Distance=%{x}<br>Percentage of Made Shots=%{y}<extra></extra>",
         "legendgroup": "Adrianna",
         "marker": {
          "color": "#ab63fa",
          "symbol": "circle"
         },
         "mode": "markers",
         "name": "Adrianna",
         "orientation": "v",
         "showlegend": true,
         "type": "scatter",
         "x": [
          2,
          4,
          6,
          8,
          10
         ],
         "xaxis": "x",
         "y": [
          100,
          100,
          83.33333333333334,
          0,
          33.33333333333333
         ],
         "yaxis": "y"
        },
        {
         "hovertemplate": "firstname=Alejandro<br>Shot Distance=%{x}<br>Percentage of Made Shots=%{y}<extra></extra>",
         "legendgroup": "Alejandro",
         "marker": {
          "color": "#FFA15A",
          "symbol": "circle"
         },
         "mode": "markers",
         "name": "Alejandro",
         "orientation": "v",
         "showlegend": true,
         "type": "scatter",
         "x": [
          10
         ],
         "xaxis": "x",
         "y": [
          0
         ],
         "yaxis": "y"
        },
        {
         "hovertemplate": "firstname=Alina<br>Shot Distance=%{x}<br>Percentage of Made Shots=%{y}<extra></extra>",
         "legendgroup": "Alina",
         "marker": {
          "color": "#19d3f3",
          "symbol": "circle"
         },
         "mode": "markers",
         "name": "Alina",
         "orientation": "v",
         "showlegend": true,
         "type": "scatter",
         "x": [
          4,
          8
         ],
         "xaxis": "x",
         "y": [
          100,
          0
         ],
         "yaxis": "y"
        },
        {
         "hovertemplate": "firstname=Anna<br>Shot Distance=%{x}<br>Percentage of Made Shots=%{y}<extra></extra>",
         "legendgroup": "Anna",
         "marker": {
          "color": "#FF6692",
          "symbol": "circle"
         },
         "mode": "markers",
         "name": "Anna",
         "orientation": "v",
         "showlegend": true,
         "type": "scatter",
         "x": [
          2
         ],
         "xaxis": "x",
         "y": [
          100
         ],
         "yaxis": "y"
        },
        {
         "hovertemplate": "firstname=Anna <br>Shot Distance=%{x}<br>Percentage of Made Shots=%{y}<extra></extra>",
         "legendgroup": "Anna ",
         "marker": {
          "color": "#B6E880",
          "symbol": "circle"
         },
         "mode": "markers",
         "name": "Anna ",
         "orientation": "v",
         "showlegend": true,
         "type": "scatter",
         "x": [
          4
         ],
         "xaxis": "x",
         "y": [
          0
         ],
         "yaxis": "y"
        },
        {
         "hovertemplate": "firstname=Annamaria<br>Shot Distance=%{x}<br>Percentage of Made Shots=%{y}<extra></extra>",
         "legendgroup": "Annamaria",
         "marker": {
          "color": "#FF97FF",
          "symbol": "circle"
         },
         "mode": "markers",
         "name": "Annamaria",
         "orientation": "v",
         "showlegend": true,
         "type": "scatter",
         "x": [
          2
         ],
         "xaxis": "x",
         "y": [
          50
         ],
         "yaxis": "y"
        },
        {
         "hovertemplate": "firstname=Ava<br>Shot Distance=%{x}<br>Percentage of Made Shots=%{y}<extra></extra>",
         "legendgroup": "Ava",
         "marker": {
          "color": "#FECB52",
          "symbol": "circle"
         },
         "mode": "markers",
         "name": "Ava",
         "orientation": "v",
         "showlegend": true,
         "type": "scatter",
         "x": [
          2,
          4,
          6,
          8,
          10
         ],
         "xaxis": "x",
         "y": [
          100,
          100,
          50,
          100,
          100
         ],
         "yaxis": "y"
        },
        {
         "hovertemplate": "firstname=Ava <br>Shot Distance=%{x}<br>Percentage of Made Shots=%{y}<extra></extra>",
         "legendgroup": "Ava ",
         "marker": {
          "color": "#636efa",
          "symbol": "circle"
         },
         "mode": "markers",
         "name": "Ava ",
         "orientation": "v",
         "showlegend": true,
         "type": "scatter",
         "x": [
          2,
          4,
          10
         ],
         "xaxis": "x",
         "y": [
          0,
          0,
          0
         ],
         "yaxis": "y"
        },
        {
         "hovertemplate": "firstname=Barry<br>Shot Distance=%{x}<br>Percentage of Made Shots=%{y}<extra></extra>",
         "legendgroup": "Barry",
         "marker": {
          "color": "#EF553B",
          "symbol": "circle"
         },
         "mode": "markers",
         "name": "Barry",
         "orientation": "v",
         "showlegend": true,
         "type": "scatter",
         "x": [
          10
         ],
         "xaxis": "x",
         "y": [
          0
         ],
         "yaxis": "y"
        },
        {
         "hovertemplate": "firstname=Benjie<br>Shot Distance=%{x}<br>Percentage of Made Shots=%{y}<extra></extra>",
         "legendgroup": "Benjie",
         "marker": {
          "color": "#00cc96",
          "symbol": "circle"
         },
         "mode": "markers",
         "name": "Benjie",
         "orientation": "v",
         "showlegend": true,
         "type": "scatter",
         "x": [
          2,
          4,
          6,
          10
         ],
         "xaxis": "x",
         "y": [
          50,
          50,
          100,
          0
         ],
         "yaxis": "y"
        },
        {
         "hovertemplate": "firstname=Bernadette <br>Shot Distance=%{x}<br>Percentage of Made Shots=%{y}<extra></extra>",
         "legendgroup": "Bernadette ",
         "marker": {
          "color": "#ab63fa",
          "symbol": "circle"
         },
         "mode": "markers",
         "name": "Bernadette ",
         "orientation": "v",
         "showlegend": true,
         "type": "scatter",
         "x": [
          2,
          4,
          8,
          10
         ],
         "xaxis": "x",
         "y": [
          66.66666666666666,
          100,
          0,
          0
         ],
         "yaxis": "y"
        },
        {
         "hovertemplate": "firstname=Bill<br>Shot Distance=%{x}<br>Percentage of Made Shots=%{y}<extra></extra>",
         "legendgroup": "Bill",
         "marker": {
          "color": "#FFA15A",
          "symbol": "circle"
         },
         "mode": "markers",
         "name": "Bill",
         "orientation": "v",
         "showlegend": true,
         "type": "scatter",
         "x": [
          4,
          8,
          10
         ],
         "xaxis": "x",
         "y": [
          50,
          0,
          100
         ],
         "yaxis": "y"
        },
        {
         "hovertemplate": "firstname=Bill <br>Shot Distance=%{x}<br>Percentage of Made Shots=%{y}<extra></extra>",
         "legendgroup": "Bill ",
         "marker": {
          "color": "#19d3f3",
          "symbol": "circle"
         },
         "mode": "markers",
         "name": "Bill ",
         "orientation": "v",
         "showlegend": true,
         "type": "scatter",
         "x": [
          10
         ],
         "xaxis": "x",
         "y": [
          100
         ],
         "yaxis": "y"
        },
        {
         "hovertemplate": "firstname=Brad<br>Shot Distance=%{x}<br>Percentage of Made Shots=%{y}<extra></extra>",
         "legendgroup": "Brad",
         "marker": {
          "color": "#FF6692",
          "symbol": "circle"
         },
         "mode": "markers",
         "name": "Brad",
         "orientation": "v",
         "showlegend": true,
         "type": "scatter",
         "x": [
          6,
          8,
          10
         ],
         "xaxis": "x",
         "y": [
          0,
          33.33333333333333,
          0
         ],
         "yaxis": "y"
        },
        {
         "hovertemplate": "firstname=Breanna <br>Shot Distance=%{x}<br>Percentage of Made Shots=%{y}<extra></extra>",
         "legendgroup": "Breanna ",
         "marker": {
          "color": "#B6E880",
          "symbol": "circle"
         },
         "mode": "markers",
         "name": "Breanna ",
         "orientation": "v",
         "showlegend": true,
         "type": "scatter",
         "x": [
          2
         ],
         "xaxis": "x",
         "y": [
          100
         ],
         "yaxis": "y"
        },
        {
         "hovertemplate": "firstname=C.Z.<br>Shot Distance=%{x}<br>Percentage of Made Shots=%{y}<extra></extra>",
         "legendgroup": "C.Z.",
         "marker": {
          "color": "#FF97FF",
          "symbol": "circle"
         },
         "mode": "markers",
         "name": "C.Z.",
         "orientation": "v",
         "showlegend": true,
         "type": "scatter",
         "x": [
          4
         ],
         "xaxis": "x",
         "y": [
          100
         ],
         "yaxis": "y"
        },
        {
         "hovertemplate": "firstname=Carolyn <br>Shot Distance=%{x}<br>Percentage of Made Shots=%{y}<extra></extra>",
         "legendgroup": "Carolyn ",
         "marker": {
          "color": "#FECB52",
          "symbol": "circle"
         },
         "mode": "markers",
         "name": "Carolyn ",
         "orientation": "v",
         "showlegend": true,
         "type": "scatter",
         "x": [
          2
         ],
         "xaxis": "x",
         "y": [
          100
         ],
         "yaxis": "y"
        },
        {
         "hovertemplate": "firstname=Daryl<br>Shot Distance=%{x}<br>Percentage of Made Shots=%{y}<extra></extra>",
         "legendgroup": "Daryl",
         "marker": {
          "color": "#636efa",
          "symbol": "circle"
         },
         "mode": "markers",
         "name": "Daryl",
         "orientation": "v",
         "showlegend": true,
         "type": "scatter",
         "x": [
          6
         ],
         "xaxis": "x",
         "y": [
          0
         ],
         "yaxis": "y"
        },
        {
         "hovertemplate": "firstname=Dave<br>Shot Distance=%{x}<br>Percentage of Made Shots=%{y}<extra></extra>",
         "legendgroup": "Dave",
         "marker": {
          "color": "#EF553B",
          "symbol": "circle"
         },
         "mode": "markers",
         "name": "Dave",
         "orientation": "v",
         "showlegend": true,
         "type": "scatter",
         "x": [
          2,
          6
         ],
         "xaxis": "x",
         "y": [
          100,
          0
         ],
         "yaxis": "y"
        },
        {
         "hovertemplate": "firstname=David<br>Shot Distance=%{x}<br>Percentage of Made Shots=%{y}<extra></extra>",
         "legendgroup": "David",
         "marker": {
          "color": "#00cc96",
          "symbol": "circle"
         },
         "mode": "markers",
         "name": "David",
         "orientation": "v",
         "showlegend": true,
         "type": "scatter",
         "x": [
          2,
          4,
          10
         ],
         "xaxis": "x",
         "y": [
          100,
          50,
          50
         ],
         "yaxis": "y"
        },
        {
         "hovertemplate": "firstname=David <br>Shot Distance=%{x}<br>Percentage of Made Shots=%{y}<extra></extra>",
         "legendgroup": "David ",
         "marker": {
          "color": "#ab63fa",
          "symbol": "circle"
         },
         "mode": "markers",
         "name": "David ",
         "orientation": "v",
         "showlegend": true,
         "type": "scatter",
         "x": [
          4
         ],
         "xaxis": "x",
         "y": [
          0
         ],
         "yaxis": "y"
        },
        {
         "hovertemplate": "firstname=Dean<br>Shot Distance=%{x}<br>Percentage of Made Shots=%{y}<extra></extra>",
         "legendgroup": "Dean",
         "marker": {
          "color": "#FFA15A",
          "symbol": "circle"
         },
         "mode": "markers",
         "name": "Dean",
         "orientation": "v",
         "showlegend": true,
         "type": "scatter",
         "x": [
          4,
          6
         ],
         "xaxis": "x",
         "y": [
          100,
          0
         ],
         "yaxis": "y"
        },
        {
         "hovertemplate": "firstname=Dennis<br>Shot Distance=%{x}<br>Percentage of Made Shots=%{y}<extra></extra>",
         "legendgroup": "Dennis",
         "marker": {
          "color": "#19d3f3",
          "symbol": "circle"
         },
         "mode": "markers",
         "name": "Dennis",
         "orientation": "v",
         "showlegend": true,
         "type": "scatter",
         "x": [
          2
         ],
         "xaxis": "x",
         "y": [
          100
         ],
         "yaxis": "y"
        },
        {
         "hovertemplate": "firstname=Dirk<br>Shot Distance=%{x}<br>Percentage of Made Shots=%{y}<extra></extra>",
         "legendgroup": "Dirk",
         "marker": {
          "color": "#FF6692",
          "symbol": "circle"
         },
         "mode": "markers",
         "name": "Dirk",
         "orientation": "v",
         "showlegend": true,
         "type": "scatter",
         "x": [
          10
         ],
         "xaxis": "x",
         "y": [
          0
         ],
         "yaxis": "y"
        },
        {
         "hovertemplate": "firstname=Divine<br>Shot Distance=%{x}<br>Percentage of Made Shots=%{y}<extra></extra>",
         "legendgroup": "Divine",
         "marker": {
          "color": "#B6E880",
          "symbol": "circle"
         },
         "mode": "markers",
         "name": "Divine",
         "orientation": "v",
         "showlegend": true,
         "type": "scatter",
         "x": [
          2,
          6
         ],
         "xaxis": "x",
         "y": [
          50,
          0
         ],
         "yaxis": "y"
        },
        {
         "hovertemplate": "firstname=Don<br>Shot Distance=%{x}<br>Percentage of Made Shots=%{y}<extra></extra>",
         "legendgroup": "Don",
         "marker": {
          "color": "#FF97FF",
          "symbol": "circle"
         },
         "mode": "markers",
         "name": "Don",
         "orientation": "v",
         "showlegend": true,
         "type": "scatter",
         "x": [
          2
         ],
         "xaxis": "x",
         "y": [
          0
         ],
         "yaxis": "y"
        },
        {
         "hovertemplate": "firstname=Dustin<br>Shot Distance=%{x}<br>Percentage of Made Shots=%{y}<extra></extra>",
         "legendgroup": "Dustin",
         "marker": {
          "color": "#FECB52",
          "symbol": "circle"
         },
         "mode": "markers",
         "name": "Dustin",
         "orientation": "v",
         "showlegend": true,
         "type": "scatter",
         "x": [
          8,
          10
         ],
         "xaxis": "x",
         "y": [
          0,
          0
         ],
         "yaxis": "y"
        },
        {
         "hovertemplate": "firstname=Dylan <br>Shot Distance=%{x}<br>Percentage of Made Shots=%{y}<extra></extra>",
         "legendgroup": "Dylan ",
         "marker": {
          "color": "#636efa",
          "symbol": "circle"
         },
         "mode": "markers",
         "name": "Dylan ",
         "orientation": "v",
         "showlegend": true,
         "type": "scatter",
         "x": [
          10
         ],
         "xaxis": "x",
         "y": [
          0
         ],
         "yaxis": "y"
        },
        {
         "hovertemplate": "firstname=Edgar<br>Shot Distance=%{x}<br>Percentage of Made Shots=%{y}<extra></extra>",
         "legendgroup": "Edgar",
         "marker": {
          "color": "#EF553B",
          "symbol": "circle"
         },
         "mode": "markers",
         "name": "Edgar",
         "orientation": "v",
         "showlegend": true,
         "type": "scatter",
         "x": [
          2,
          4,
          6,
          8,
          10
         ],
         "xaxis": "x",
         "y": [
          100,
          100,
          0,
          0,
          100
         ],
         "yaxis": "y"
        },
        {
         "hovertemplate": "firstname=Francisco<br>Shot Distance=%{x}<br>Percentage of Made Shots=%{y}<extra></extra>",
         "legendgroup": "Francisco",
         "marker": {
          "color": "#00cc96",
          "symbol": "circle"
         },
         "mode": "markers",
         "name": "Francisco",
         "orientation": "v",
         "showlegend": true,
         "type": "scatter",
         "x": [
          2,
          4,
          6,
          8,
          10
         ],
         "xaxis": "x",
         "y": [
          100,
          100,
          100,
          0,
          25
         ],
         "yaxis": "y"
        },
        {
         "hovertemplate": "firstname=Geoff<br>Shot Distance=%{x}<br>Percentage of Made Shots=%{y}<extra></extra>",
         "legendgroup": "Geoff",
         "marker": {
          "color": "#ab63fa",
          "symbol": "circle"
         },
         "mode": "markers",
         "name": "Geoff",
         "orientation": "v",
         "showlegend": true,
         "type": "scatter",
         "x": [
          2
         ],
         "xaxis": "x",
         "y": [
          100
         ],
         "yaxis": "y"
        },
        {
         "hovertemplate": "firstname=Grant<br>Shot Distance=%{x}<br>Percentage of Made Shots=%{y}<extra></extra>",
         "legendgroup": "Grant",
         "marker": {
          "color": "#FFA15A",
          "symbol": "circle"
         },
         "mode": "markers",
         "name": "Grant",
         "orientation": "v",
         "showlegend": true,
         "type": "scatter",
         "x": [
          4,
          8
         ],
         "xaxis": "x",
         "y": [
          100,
          50
         ],
         "yaxis": "y"
        },
        {
         "hovertemplate": "firstname=Grant <br>Shot Distance=%{x}<br>Percentage of Made Shots=%{y}<extra></extra>",
         "legendgroup": "Grant ",
         "marker": {
          "color": "#19d3f3",
          "symbol": "circle"
         },
         "mode": "markers",
         "name": "Grant ",
         "orientation": "v",
         "showlegend": true,
         "type": "scatter",
         "x": [
          4
         ],
         "xaxis": "x",
         "y": [
          0
         ],
         "yaxis": "y"
        },
        {
         "hovertemplate": "firstname=Greg<br>Shot Distance=%{x}<br>Percentage of Made Shots=%{y}<extra></extra>",
         "legendgroup": "Greg",
         "marker": {
          "color": "#FF6692",
          "symbol": "circle"
         },
         "mode": "markers",
         "name": "Greg",
         "orientation": "v",
         "showlegend": true,
         "type": "scatter",
         "x": [
          10
         ],
         "xaxis": "x",
         "y": [
          0
         ],
         "yaxis": "y"
        },
        {
         "hovertemplate": "firstname=Grorge<br>Shot Distance=%{x}<br>Percentage of Made Shots=%{y}<extra></extra>",
         "legendgroup": "Grorge",
         "marker": {
          "color": "#B6E880",
          "symbol": "circle"
         },
         "mode": "markers",
         "name": "Grorge",
         "orientation": "v",
         "showlegend": true,
         "type": "scatter",
         "x": [
          2
         ],
         "xaxis": "x",
         "y": [
          0
         ],
         "yaxis": "y"
        },
        {
         "hovertemplate": "firstname=Gurm<br>Shot Distance=%{x}<br>Percentage of Made Shots=%{y}<extra></extra>",
         "legendgroup": "Gurm",
         "marker": {
          "color": "#FF97FF",
          "symbol": "circle"
         },
         "mode": "markers",
         "name": "Gurm",
         "orientation": "v",
         "showlegend": true,
         "type": "scatter",
         "x": [
          2
         ],
         "xaxis": "x",
         "y": [
          100
         ],
         "yaxis": "y"
        },
        {
         "hovertemplate": "firstname=Heoff<br>Shot Distance=%{x}<br>Percentage of Made Shots=%{y}<extra></extra>",
         "legendgroup": "Heoff",
         "marker": {
          "color": "#FECB52",
          "symbol": "circle"
         },
         "mode": "markers",
         "name": "Heoff",
         "orientation": "v",
         "showlegend": true,
         "type": "scatter",
         "x": [
          2
         ],
         "xaxis": "x",
         "y": [
          100
         ],
         "yaxis": "y"
        },
        {
         "hovertemplate": "firstname=Hope<br>Shot Distance=%{x}<br>Percentage of Made Shots=%{y}<extra></extra>",
         "legendgroup": "Hope",
         "marker": {
          "color": "#636efa",
          "symbol": "circle"
         },
         "mode": "markers",
         "name": "Hope",
         "orientation": "v",
         "showlegend": true,
         "type": "scatter",
         "x": [
          2,
          4,
          6,
          8,
          10
         ],
         "xaxis": "x",
         "y": [
          66.66666666666666,
          50,
          25,
          0,
          100
         ],
         "yaxis": "y"
        },
        {
         "hovertemplate": "firstname=Hope <br>Shot Distance=%{x}<br>Percentage of Made Shots=%{y}<extra></extra>",
         "legendgroup": "Hope ",
         "marker": {
          "color": "#EF553B",
          "symbol": "circle"
         },
         "mode": "markers",
         "name": "Hope ",
         "orientation": "v",
         "showlegend": true,
         "type": "scatter",
         "x": [
          4
         ],
         "xaxis": "x",
         "y": [
          0
         ],
         "yaxis": "y"
        },
        {
         "hovertemplate": "firstname=I<br>Shot Distance=%{x}<br>Percentage of Made Shots=%{y}<extra></extra>",
         "legendgroup": "I",
         "marker": {
          "color": "#00cc96",
          "symbol": "circle"
         },
         "mode": "markers",
         "name": "I",
         "orientation": "v",
         "showlegend": true,
         "type": "scatter",
         "x": [
          8
         ],
         "xaxis": "x",
         "y": [
          0
         ],
         "yaxis": "y"
        },
        {
         "hovertemplate": "firstname=IT dept<br>Shot Distance=%{x}<br>Percentage of Made Shots=%{y}<extra></extra>",
         "legendgroup": "IT dept",
         "marker": {
          "color": "#ab63fa",
          "symbol": "circle"
         },
         "mode": "markers",
         "name": "IT dept",
         "orientation": "v",
         "showlegend": true,
         "type": "scatter",
         "x": [
          2,
          4,
          6,
          8,
          10
         ],
         "xaxis": "x",
         "y": [
          0,
          0,
          0,
          100,
          0
         ],
         "yaxis": "y"
        },
        {
         "hovertemplate": "firstname=Imran <br>Shot Distance=%{x}<br>Percentage of Made Shots=%{y}<extra></extra>",
         "legendgroup": "Imran ",
         "marker": {
          "color": "#FFA15A",
          "symbol": "circle"
         },
         "mode": "markers",
         "name": "Imran ",
         "orientation": "v",
         "showlegend": true,
         "type": "scatter",
         "x": [
          4
         ],
         "xaxis": "x",
         "y": [
          0
         ],
         "yaxis": "y"
        },
        {
         "hovertemplate": "firstname=Ishruna<br>Shot Distance=%{x}<br>Percentage of Made Shots=%{y}<extra></extra>",
         "legendgroup": "Ishruna",
         "marker": {
          "color": "#19d3f3",
          "symbol": "circle"
         },
         "mode": "markers",
         "name": "Ishruna",
         "orientation": "v",
         "showlegend": true,
         "type": "scatter",
         "x": [
          8
         ],
         "xaxis": "x",
         "y": [
          0
         ],
         "yaxis": "y"
        },
        {
         "hovertemplate": "firstname=J.G<br>Shot Distance=%{x}<br>Percentage of Made Shots=%{y}<extra></extra>",
         "legendgroup": "J.G",
         "marker": {
          "color": "#FF6692",
          "symbol": "circle"
         },
         "mode": "markers",
         "name": "J.G",
         "orientation": "v",
         "showlegend": true,
         "type": "scatter",
         "x": [
          8,
          10
         ],
         "xaxis": "x",
         "y": [
          0,
          0
         ],
         "yaxis": "y"
        },
        {
         "hovertemplate": "firstname=JE<br>Shot Distance=%{x}<br>Percentage of Made Shots=%{y}<extra></extra>",
         "legendgroup": "JE",
         "marker": {
          "color": "#B6E880",
          "symbol": "circle"
         },
         "mode": "markers",
         "name": "JE",
         "orientation": "v",
         "showlegend": true,
         "type": "scatter",
         "x": [
          2,
          4,
          6,
          8
         ],
         "xaxis": "x",
         "y": [
          50,
          100,
          25,
          50
         ],
         "yaxis": "y"
        },
        {
         "hovertemplate": "firstname=Jessica<br>Shot Distance=%{x}<br>Percentage of Made Shots=%{y}<extra></extra>",
         "legendgroup": "Jessica",
         "marker": {
          "color": "#FF97FF",
          "symbol": "circle"
         },
         "mode": "markers",
         "name": "Jessica",
         "orientation": "v",
         "showlegend": true,
         "type": "scatter",
         "x": [
          2
         ],
         "xaxis": "x",
         "y": [
          100
         ],
         "yaxis": "y"
        },
        {
         "hovertemplate": "firstname=Jether<br>Shot Distance=%{x}<br>Percentage of Made Shots=%{y}<extra></extra>",
         "legendgroup": "Jether",
         "marker": {
          "color": "#FECB52",
          "symbol": "circle"
         },
         "mode": "markers",
         "name": "Jether",
         "orientation": "v",
         "showlegend": true,
         "type": "scatter",
         "x": [
          2,
          4,
          6,
          8,
          10
         ],
         "xaxis": "x",
         "y": [
          100,
          100,
          66.66666666666666,
          100,
          0
         ],
         "yaxis": "y"
        },
        {
         "hovertemplate": "firstname=Jether <br>Shot Distance=%{x}<br>Percentage of Made Shots=%{y}<extra></extra>",
         "legendgroup": "Jether ",
         "marker": {
          "color": "#636efa",
          "symbol": "circle"
         },
         "mode": "markers",
         "name": "Jether ",
         "orientation": "v",
         "showlegend": true,
         "type": "scatter",
         "x": [
          8
         ],
         "xaxis": "x",
         "y": [
          100
         ],
         "yaxis": "y"
        },
        {
         "hovertemplate": "firstname=Jhustin<br>Shot Distance=%{x}<br>Percentage of Made Shots=%{y}<extra></extra>",
         "legendgroup": "Jhustin",
         "marker": {
          "color": "#EF553B",
          "symbol": "circle"
         },
         "mode": "markers",
         "name": "Jhustin",
         "orientation": "v",
         "showlegend": true,
         "type": "scatter",
         "x": [
          8
         ],
         "xaxis": "x",
         "y": [
          100
         ],
         "yaxis": "y"
        },
        {
         "hovertemplate": "firstname=Jhustin <br>Shot Distance=%{x}<br>Percentage of Made Shots=%{y}<extra></extra>",
         "legendgroup": "Jhustin ",
         "marker": {
          "color": "#00cc96",
          "symbol": "circle"
         },
         "mode": "markers",
         "name": "Jhustin ",
         "orientation": "v",
         "showlegend": true,
         "type": "scatter",
         "x": [
          4,
          6
         ],
         "xaxis": "x",
         "y": [
          100,
          100
         ],
         "yaxis": "y"
        },
        {
         "hovertemplate": "firstname=John<br>Shot Distance=%{x}<br>Percentage of Made Shots=%{y}<extra></extra>",
         "legendgroup": "John",
         "marker": {
          "color": "#ab63fa",
          "symbol": "circle"
         },
         "mode": "markers",
         "name": "John",
         "orientation": "v",
         "showlegend": true,
         "type": "scatter",
         "x": [
          4
         ],
         "xaxis": "x",
         "y": [
          71.42857142857143
         ],
         "yaxis": "y"
        },
        {
         "hovertemplate": "firstname=Jordan<br>Shot Distance=%{x}<br>Percentage of Made Shots=%{y}<extra></extra>",
         "legendgroup": "Jordan",
         "marker": {
          "color": "#FFA15A",
          "symbol": "circle"
         },
         "mode": "markers",
         "name": "Jordan",
         "orientation": "v",
         "showlegend": true,
         "type": "scatter",
         "x": [
          2,
          4
         ],
         "xaxis": "x",
         "y": [
          0,
          0
         ],
         "yaxis": "y"
        },
        {
         "hovertemplate": "firstname=Joshua G<br>Shot Distance=%{x}<br>Percentage of Made Shots=%{y}<extra></extra>",
         "legendgroup": "Joshua G",
         "marker": {
          "color": "#19d3f3",
          "symbol": "circle"
         },
         "mode": "markers",
         "name": "Joshua G",
         "orientation": "v",
         "showlegend": true,
         "type": "scatter",
         "x": [
          8,
          10
         ],
         "xaxis": "x",
         "y": [
          0,
          0
         ],
         "yaxis": "y"
        },
        {
         "hovertemplate": "firstname=Josip<br>Shot Distance=%{x}<br>Percentage of Made Shots=%{y}<extra></extra>",
         "legendgroup": "Josip",
         "marker": {
          "color": "#FF6692",
          "symbol": "circle"
         },
         "mode": "markers",
         "name": "Josip",
         "orientation": "v",
         "showlegend": true,
         "type": "scatter",
         "x": [
          2
         ],
         "xaxis": "x",
         "y": [
          100
         ],
         "yaxis": "y"
        },
        {
         "hovertemplate": "firstname=Julie<br>Shot Distance=%{x}<br>Percentage of Made Shots=%{y}<extra></extra>",
         "legendgroup": "Julie",
         "marker": {
          "color": "#B6E880",
          "symbol": "circle"
         },
         "mode": "markers",
         "name": "Julie",
         "orientation": "v",
         "showlegend": true,
         "type": "scatter",
         "x": [
          2
         ],
         "xaxis": "x",
         "y": [
          100
         ],
         "yaxis": "y"
        },
        {
         "hovertemplate": "firstname=KELVIN<br>Shot Distance=%{x}<br>Percentage of Made Shots=%{y}<extra></extra>",
         "legendgroup": "KELVIN",
         "marker": {
          "color": "#FF97FF",
          "symbol": "circle"
         },
         "mode": "markers",
         "name": "KELVIN",
         "orientation": "v",
         "showlegend": true,
         "type": "scatter",
         "x": [
          4,
          8
         ],
         "xaxis": "x",
         "y": [
          0,
          0
         ],
         "yaxis": "y"
        },
        {
         "hovertemplate": "firstname=Kal<br>Shot Distance=%{x}<br>Percentage of Made Shots=%{y}<extra></extra>",
         "legendgroup": "Kal",
         "marker": {
          "color": "#FECB52",
          "symbol": "circle"
         },
         "mode": "markers",
         "name": "Kal",
         "orientation": "v",
         "showlegend": true,
         "type": "scatter",
         "x": [
          6
         ],
         "xaxis": "x",
         "y": [
          100
         ],
         "yaxis": "y"
        },
        {
         "hovertemplate": "firstname=Kate<br>Shot Distance=%{x}<br>Percentage of Made Shots=%{y}<extra></extra>",
         "legendgroup": "Kate",
         "marker": {
          "color": "#636efa",
          "symbol": "circle"
         },
         "mode": "markers",
         "name": "Kate",
         "orientation": "v",
         "showlegend": true,
         "type": "scatter",
         "x": [
          10
         ],
         "xaxis": "x",
         "y": [
          0
         ],
         "yaxis": "y"
        },
        {
         "hovertemplate": "firstname=Kelly<br>Shot Distance=%{x}<br>Percentage of Made Shots=%{y}<extra></extra>",
         "legendgroup": "Kelly",
         "marker": {
          "color": "#EF553B",
          "symbol": "circle"
         },
         "mode": "markers",
         "name": "Kelly",
         "orientation": "v",
         "showlegend": true,
         "type": "scatter",
         "x": [
          4
         ],
         "xaxis": "x",
         "y": [
          0
         ],
         "yaxis": "y"
        },
        {
         "hovertemplate": "firstname=Kevin<br>Shot Distance=%{x}<br>Percentage of Made Shots=%{y}<extra></extra>",
         "legendgroup": "Kevin",
         "marker": {
          "color": "#00cc96",
          "symbol": "circle"
         },
         "mode": "markers",
         "name": "Kevin",
         "orientation": "v",
         "showlegend": true,
         "type": "scatter",
         "x": [
          6
         ],
         "xaxis": "x",
         "y": [
          100
         ],
         "yaxis": "y"
        },
        {
         "hovertemplate": "firstname=Kirsten<br>Shot Distance=%{x}<br>Percentage of Made Shots=%{y}<extra></extra>",
         "legendgroup": "Kirsten",
         "marker": {
          "color": "#ab63fa",
          "symbol": "circle"
         },
         "mode": "markers",
         "name": "Kirsten",
         "orientation": "v",
         "showlegend": true,
         "type": "scatter",
         "x": [
          6
         ],
         "xaxis": "x",
         "y": [
          0
         ],
         "yaxis": "y"
        },
        {
         "hovertemplate": "firstname=Kobe<br>Shot Distance=%{x}<br>Percentage of Made Shots=%{y}<extra></extra>",
         "legendgroup": "Kobe",
         "marker": {
          "color": "#FFA15A",
          "symbol": "circle"
         },
         "mode": "markers",
         "name": "Kobe",
         "orientation": "v",
         "showlegend": true,
         "type": "scatter",
         "x": [
          4,
          6,
          8,
          10
         ],
         "xaxis": "x",
         "y": [
          100,
          100,
          100,
          100
         ],
         "yaxis": "y"
        },
        {
         "hovertemplate": "firstname=Kylie<br>Shot Distance=%{x}<br>Percentage of Made Shots=%{y}<extra></extra>",
         "legendgroup": "Kylie",
         "marker": {
          "color": "#19d3f3",
          "symbol": "circle"
         },
         "mode": "markers",
         "name": "Kylie",
         "orientation": "v",
         "showlegend": true,
         "type": "scatter",
         "x": [
          10
         ],
         "xaxis": "x",
         "y": [
          0
         ],
         "yaxis": "y"
        },
        {
         "hovertemplate": "firstname=LN<br>Shot Distance=%{x}<br>Percentage of Made Shots=%{y}<extra></extra>",
         "legendgroup": "LN",
         "marker": {
          "color": "#FF6692",
          "symbol": "circle"
         },
         "mode": "markers",
         "name": "LN",
         "orientation": "v",
         "showlegend": true,
         "type": "scatter",
         "x": [
          8
         ],
         "xaxis": "x",
         "y": [
          0
         ],
         "yaxis": "y"
        },
        {
         "hovertemplate": "firstname=Lebron<br>Shot Distance=%{x}<br>Percentage of Made Shots=%{y}<extra></extra>",
         "legendgroup": "Lebron",
         "marker": {
          "color": "#B6E880",
          "symbol": "circle"
         },
         "mode": "markers",
         "name": "Lebron",
         "orientation": "v",
         "showlegend": true,
         "type": "scatter",
         "x": [
          10
         ],
         "xaxis": "x",
         "y": [
          100
         ],
         "yaxis": "y"
        },
        {
         "hovertemplate": "firstname=Lesley<br>Shot Distance=%{x}<br>Percentage of Made Shots=%{y}<extra></extra>",
         "legendgroup": "Lesley",
         "marker": {
          "color": "#FF97FF",
          "symbol": "circle"
         },
         "mode": "markers",
         "name": "Lesley",
         "orientation": "v",
         "showlegend": true,
         "type": "scatter",
         "x": [
          4
         ],
         "xaxis": "x",
         "y": [
          100
         ],
         "yaxis": "y"
        },
        {
         "hovertemplate": "firstname=MG<br>Shot Distance=%{x}<br>Percentage of Made Shots=%{y}<extra></extra>",
         "legendgroup": "MG",
         "marker": {
          "color": "#FECB52",
          "symbol": "circle"
         },
         "mode": "markers",
         "name": "MG",
         "orientation": "v",
         "showlegend": true,
         "type": "scatter",
         "x": [
          2,
          8,
          10
         ],
         "xaxis": "x",
         "y": [
          100,
          60,
          66.66666666666666
         ],
         "yaxis": "y"
        },
        {
         "hovertemplate": "firstname=MPT<br>Shot Distance=%{x}<br>Percentage of Made Shots=%{y}<extra></extra>",
         "legendgroup": "MPT",
         "marker": {
          "color": "#636efa",
          "symbol": "circle"
         },
         "mode": "markers",
         "name": "MPT",
         "orientation": "v",
         "showlegend": true,
         "type": "scatter",
         "x": [
          4
         ],
         "xaxis": "x",
         "y": [
          25
         ],
         "yaxis": "y"
        },
        {
         "hovertemplate": "firstname=Mac<br>Shot Distance=%{x}<br>Percentage of Made Shots=%{y}<extra></extra>",
         "legendgroup": "Mac",
         "marker": {
          "color": "#EF553B",
          "symbol": "circle"
         },
         "mode": "markers",
         "name": "Mac",
         "orientation": "v",
         "showlegend": true,
         "type": "scatter",
         "x": [
          6
         ],
         "xaxis": "x",
         "y": [
          100
         ],
         "yaxis": "y"
        },
        {
         "hovertemplate": "firstname=Marco<br>Shot Distance=%{x}<br>Percentage of Made Shots=%{y}<extra></extra>",
         "legendgroup": "Marco",
         "marker": {
          "color": "#00cc96",
          "symbol": "circle"
         },
         "mode": "markers",
         "name": "Marco",
         "orientation": "v",
         "showlegend": true,
         "type": "scatter",
         "x": [
          6
         ],
         "xaxis": "x",
         "y": [
          100
         ],
         "yaxis": "y"
        },
        {
         "hovertemplate": "firstname=Marina C<br>Shot Distance=%{x}<br>Percentage of Made Shots=%{y}<extra></extra>",
         "legendgroup": "Marina C",
         "marker": {
          "color": "#ab63fa",
          "symbol": "circle"
         },
         "mode": "markers",
         "name": "Marina C",
         "orientation": "v",
         "showlegend": true,
         "type": "scatter",
         "x": [
          4,
          6
         ],
         "xaxis": "x",
         "y": [
          40,
          54.54545454545454
         ],
         "yaxis": "y"
        },
        {
         "hovertemplate": "firstname=Marjoire<br>Shot Distance=%{x}<br>Percentage of Made Shots=%{y}<extra></extra>",
         "legendgroup": "Marjoire",
         "marker": {
          "color": "#FFA15A",
          "symbol": "circle"
         },
         "mode": "markers",
         "name": "Marjoire",
         "orientation": "v",
         "showlegend": true,
         "type": "scatter",
         "x": [
          4,
          6
         ],
         "xaxis": "x",
         "y": [
          0,
          0
         ],
         "yaxis": "y"
        },
        {
         "hovertemplate": "firstname=Marjorie<br>Shot Distance=%{x}<br>Percentage of Made Shots=%{y}<extra></extra>",
         "legendgroup": "Marjorie",
         "marker": {
          "color": "#19d3f3",
          "symbol": "circle"
         },
         "mode": "markers",
         "name": "Marjorie",
         "orientation": "v",
         "showlegend": true,
         "type": "scatter",
         "x": [
          2,
          4,
          6,
          8,
          10
         ],
         "xaxis": "x",
         "y": [
          100,
          50,
          0,
          66.66666666666666,
          0
         ],
         "yaxis": "y"
        },
        {
         "hovertemplate": "firstname=Marjorie <br>Shot Distance=%{x}<br>Percentage of Made Shots=%{y}<extra></extra>",
         "legendgroup": "Marjorie ",
         "marker": {
          "color": "#FF6692",
          "symbol": "circle"
         },
         "mode": "markers",
         "name": "Marjorie ",
         "orientation": "v",
         "showlegend": true,
         "type": "scatter",
         "x": [
          2,
          4,
          6,
          8,
          10
         ],
         "xaxis": "x",
         "y": [
          100,
          100,
          100,
          0,
          0
         ],
         "yaxis": "y"
        },
        {
         "hovertemplate": "firstname=Mark<br>Shot Distance=%{x}<br>Percentage of Made Shots=%{y}<extra></extra>",
         "legendgroup": "Mark",
         "marker": {
          "color": "#B6E880",
          "symbol": "circle"
         },
         "mode": "markers",
         "name": "Mark",
         "orientation": "v",
         "showlegend": true,
         "type": "scatter",
         "x": [
          6
         ],
         "xaxis": "x",
         "y": [
          66.66666666666666
         ],
         "yaxis": "y"
        },
        {
         "hovertemplate": "firstname=Meagan<br>Shot Distance=%{x}<br>Percentage of Made Shots=%{y}<extra></extra>",
         "legendgroup": "Meagan",
         "marker": {
          "color": "#FF97FF",
          "symbol": "circle"
         },
         "mode": "markers",
         "name": "Meagan",
         "orientation": "v",
         "showlegend": true,
         "type": "scatter",
         "x": [
          2
         ],
         "xaxis": "x",
         "y": [
          0
         ],
         "yaxis": "y"
        },
        {
         "hovertemplate": "firstname=Michelle<br>Shot Distance=%{x}<br>Percentage of Made Shots=%{y}<extra></extra>",
         "legendgroup": "Michelle",
         "marker": {
          "color": "#FECB52",
          "symbol": "circle"
         },
         "mode": "markers",
         "name": "Michelle",
         "orientation": "v",
         "showlegend": true,
         "type": "scatter",
         "x": [
          6,
          8
         ],
         "xaxis": "x",
         "y": [
          0,
          0
         ],
         "yaxis": "y"
        },
        {
         "hovertemplate": "firstname=Mike<br>Shot Distance=%{x}<br>Percentage of Made Shots=%{y}<extra></extra>",
         "legendgroup": "Mike",
         "marker": {
          "color": "#636efa",
          "symbol": "circle"
         },
         "mode": "markers",
         "name": "Mike",
         "orientation": "v",
         "showlegend": true,
         "type": "scatter",
         "x": [
          8,
          10
         ],
         "xaxis": "x",
         "y": [
          0,
          0
         ],
         "yaxis": "y"
        },
        {
         "hovertemplate": "firstname=NP<br>Shot Distance=%{x}<br>Percentage of Made Shots=%{y}<extra></extra>",
         "legendgroup": "NP",
         "marker": {
          "color": "#EF553B",
          "symbol": "circle"
         },
         "mode": "markers",
         "name": "NP",
         "orientation": "v",
         "showlegend": true,
         "type": "scatter",
         "x": [
          4,
          10
         ],
         "xaxis": "x",
         "y": [
          100,
          0
         ],
         "yaxis": "y"
        },
        {
         "hovertemplate": "firstname=Nathan<br>Shot Distance=%{x}<br>Percentage of Made Shots=%{y}<extra></extra>",
         "legendgroup": "Nathan",
         "marker": {
          "color": "#00cc96",
          "symbol": "circle"
         },
         "mode": "markers",
         "name": "Nathan",
         "orientation": "v",
         "showlegend": true,
         "type": "scatter",
         "x": [
          2,
          8
         ],
         "xaxis": "x",
         "y": [
          100,
          0
         ],
         "yaxis": "y"
        },
        {
         "hovertemplate": "firstname=Naya<br>Shot Distance=%{x}<br>Percentage of Made Shots=%{y}<extra></extra>",
         "legendgroup": "Naya",
         "marker": {
          "color": "#ab63fa",
          "symbol": "circle"
         },
         "mode": "markers",
         "name": "Naya",
         "orientation": "v",
         "showlegend": true,
         "type": "scatter",
         "x": [
          2,
          4,
          6,
          8,
          10
         ],
         "xaxis": "x",
         "y": [
          100,
          100,
          0,
          25,
          0
         ],
         "yaxis": "y"
        },
        {
         "hovertemplate": "firstname=Nico<br>Shot Distance=%{x}<br>Percentage of Made Shots=%{y}<extra></extra>",
         "legendgroup": "Nico",
         "marker": {
          "color": "#FFA15A",
          "symbol": "circle"
         },
         "mode": "markers",
         "name": "Nico",
         "orientation": "v",
         "showlegend": true,
         "type": "scatter",
         "x": [
          10
         ],
         "xaxis": "x",
         "y": [
          42.857142857142854
         ],
         "yaxis": "y"
        },
        {
         "hovertemplate": "firstname=Omar<br>Shot Distance=%{x}<br>Percentage of Made Shots=%{y}<extra></extra>",
         "legendgroup": "Omar",
         "marker": {
          "color": "#19d3f3",
          "symbol": "circle"
         },
         "mode": "markers",
         "name": "Omar",
         "orientation": "v",
         "showlegend": true,
         "type": "scatter",
         "x": [
          4
         ],
         "xaxis": "x",
         "y": [
          100
         ],
         "yaxis": "y"
        },
        {
         "hovertemplate": "firstname=PB<br>Shot Distance=%{x}<br>Percentage of Made Shots=%{y}<extra></extra>",
         "legendgroup": "PB",
         "marker": {
          "color": "#FF6692",
          "symbol": "circle"
         },
         "mode": "markers",
         "name": "PB",
         "orientation": "v",
         "showlegend": true,
         "type": "scatter",
         "x": [
          2,
          4,
          6,
          8
         ],
         "xaxis": "x",
         "y": [
          100,
          100,
          50,
          0
         ],
         "yaxis": "y"
        },
        {
         "hovertemplate": "firstname=Pooja<br>Shot Distance=%{x}<br>Percentage of Made Shots=%{y}<extra></extra>",
         "legendgroup": "Pooja",
         "marker": {
          "color": "#B6E880",
          "symbol": "circle"
         },
         "mode": "markers",
         "name": "Pooja",
         "orientation": "v",
         "showlegend": true,
         "type": "scatter",
         "x": [
          6
         ],
         "xaxis": "x",
         "y": [
          0
         ],
         "yaxis": "y"
        },
        {
         "hovertemplate": "firstname=R.M<br>Shot Distance=%{x}<br>Percentage of Made Shots=%{y}<extra></extra>",
         "legendgroup": "R.M",
         "marker": {
          "color": "#FF97FF",
          "symbol": "circle"
         },
         "mode": "markers",
         "name": "R.M",
         "orientation": "v",
         "showlegend": true,
         "type": "scatter",
         "x": [
          2,
          4,
          8,
          10
         ],
         "xaxis": "x",
         "y": [
          100,
          100,
          66.66666666666666,
          22.22222222222222
         ],
         "yaxis": "y"
        },
        {
         "hovertemplate": "firstname=Rebecca<br>Shot Distance=%{x}<br>Percentage of Made Shots=%{y}<extra></extra>",
         "legendgroup": "Rebecca",
         "marker": {
          "color": "#FECB52",
          "symbol": "circle"
         },
         "mode": "markers",
         "name": "Rebecca",
         "orientation": "v",
         "showlegend": true,
         "type": "scatter",
         "x": [
          8
         ],
         "xaxis": "x",
         "y": [
          100
         ],
         "yaxis": "y"
        },
        {
         "hovertemplate": "firstname=Riley<br>Shot Distance=%{x}<br>Percentage of Made Shots=%{y}<extra></extra>",
         "legendgroup": "Riley",
         "marker": {
          "color": "#636efa",
          "symbol": "circle"
         },
         "mode": "markers",
         "name": "Riley",
         "orientation": "v",
         "showlegend": true,
         "type": "scatter",
         "x": [
          4,
          10
         ],
         "xaxis": "x",
         "y": [
          0,
          0
         ],
         "yaxis": "y"
        },
        {
         "hovertemplate": "firstname=Rolland<br>Shot Distance=%{x}<br>Percentage of Made Shots=%{y}<extra></extra>",
         "legendgroup": "Rolland",
         "marker": {
          "color": "#EF553B",
          "symbol": "circle"
         },
         "mode": "markers",
         "name": "Rolland",
         "orientation": "v",
         "showlegend": true,
         "type": "scatter",
         "x": [
          2,
          4,
          6,
          8
         ],
         "xaxis": "x",
         "y": [
          0,
          0,
          0,
          100
         ],
         "yaxis": "y"
        },
        {
         "hovertemplate": "firstname=Ryan<br>Shot Distance=%{x}<br>Percentage of Made Shots=%{y}<extra></extra>",
         "legendgroup": "Ryan",
         "marker": {
          "color": "#00cc96",
          "symbol": "circle"
         },
         "mode": "markers",
         "name": "Ryan",
         "orientation": "v",
         "showlegend": true,
         "type": "scatter",
         "x": [
          4,
          10
         ],
         "xaxis": "x",
         "y": [
          0,
          0
         ],
         "yaxis": "y"
        },
        {
         "hovertemplate": "firstname=SB<br>Shot Distance=%{x}<br>Percentage of Made Shots=%{y}<extra></extra>",
         "legendgroup": "SB",
         "marker": {
          "color": "#ab63fa",
          "symbol": "circle"
         },
         "mode": "markers",
         "name": "SB",
         "orientation": "v",
         "showlegend": true,
         "type": "scatter",
         "x": [
          4,
          8
         ],
         "xaxis": "x",
         "y": [
          100,
          0
         ],
         "yaxis": "y"
        },
        {
         "hovertemplate": "firstname=Scooter<br>Shot Distance=%{x}<br>Percentage of Made Shots=%{y}<extra></extra>",
         "legendgroup": "Scooter",
         "marker": {
          "color": "#FFA15A",
          "symbol": "circle"
         },
         "mode": "markers",
         "name": "Scooter",
         "orientation": "v",
         "showlegend": true,
         "type": "scatter",
         "x": [
          2
         ],
         "xaxis": "x",
         "y": [
          0
         ],
         "yaxis": "y"
        },
        {
         "hovertemplate": "firstname=Scooter <br>Shot Distance=%{x}<br>Percentage of Made Shots=%{y}<extra></extra>",
         "legendgroup": "Scooter ",
         "marker": {
          "color": "#19d3f3",
          "symbol": "circle"
         },
         "mode": "markers",
         "name": "Scooter ",
         "orientation": "v",
         "showlegend": true,
         "type": "scatter",
         "x": [
          4,
          6
         ],
         "xaxis": "x",
         "y": [
          0,
          0
         ],
         "yaxis": "y"
        },
        {
         "hovertemplate": "firstname=Scott<br>Shot Distance=%{x}<br>Percentage of Made Shots=%{y}<extra></extra>",
         "legendgroup": "Scott",
         "marker": {
          "color": "#FF6692",
          "symbol": "circle"
         },
         "mode": "markers",
         "name": "Scott",
         "orientation": "v",
         "showlegend": true,
         "type": "scatter",
         "x": [
          2,
          4,
          6,
          8,
          10
         ],
         "xaxis": "x",
         "y": [
          0,
          0,
          0,
          0,
          0
         ],
         "yaxis": "y"
        },
        {
         "hovertemplate": "firstname=Simon<br>Shot Distance=%{x}<br>Percentage of Made Shots=%{y}<extra></extra>",
         "legendgroup": "Simon",
         "marker": {
          "color": "#B6E880",
          "symbol": "circle"
         },
         "mode": "markers",
         "name": "Simon",
         "orientation": "v",
         "showlegend": true,
         "type": "scatter",
         "x": [
          10
         ],
         "xaxis": "x",
         "y": [
          100
         ],
         "yaxis": "y"
        },
        {
         "hovertemplate": "firstname=Sophia<br>Shot Distance=%{x}<br>Percentage of Made Shots=%{y}<extra></extra>",
         "legendgroup": "Sophia",
         "marker": {
          "color": "#FF97FF",
          "symbol": "circle"
         },
         "mode": "markers",
         "name": "Sophia",
         "orientation": "v",
         "showlegend": true,
         "type": "scatter",
         "x": [
          2,
          4,
          6,
          8,
          10
         ],
         "xaxis": "x",
         "y": [
          100,
          50,
          50,
          100,
          100
         ],
         "yaxis": "y"
        },
        {
         "hovertemplate": "firstname=Sophia <br>Shot Distance=%{x}<br>Percentage of Made Shots=%{y}<extra></extra>",
         "legendgroup": "Sophia ",
         "marker": {
          "color": "#FECB52",
          "symbol": "circle"
         },
         "mode": "markers",
         "name": "Sophia ",
         "orientation": "v",
         "showlegend": true,
         "type": "scatter",
         "x": [
          2,
          4,
          6,
          8
         ],
         "xaxis": "x",
         "y": [
          100,
          100,
          100,
          50
         ],
         "yaxis": "y"
        },
        {
         "hovertemplate": "firstname=Stefano<br>Shot Distance=%{x}<br>Percentage of Made Shots=%{y}<extra></extra>",
         "legendgroup": "Stefano",
         "marker": {
          "color": "#636efa",
          "symbol": "circle"
         },
         "mode": "markers",
         "name": "Stefano",
         "orientation": "v",
         "showlegend": true,
         "type": "scatter",
         "x": [
          8,
          10
         ],
         "xaxis": "x",
         "y": [
          100,
          33.33333333333333
         ],
         "yaxis": "y"
        },
        {
         "hovertemplate": "firstname=Tainy<br>Shot Distance=%{x}<br>Percentage of Made Shots=%{y}<extra></extra>",
         "legendgroup": "Tainy",
         "marker": {
          "color": "#EF553B",
          "symbol": "circle"
         },
         "mode": "markers",
         "name": "Tainy",
         "orientation": "v",
         "showlegend": true,
         "type": "scatter",
         "x": [
          2,
          8
         ],
         "xaxis": "x",
         "y": [
          100,
          0
         ],
         "yaxis": "y"
        },
        {
         "hovertemplate": "firstname=Terry<br>Shot Distance=%{x}<br>Percentage of Made Shots=%{y}<extra></extra>",
         "legendgroup": "Terry",
         "marker": {
          "color": "#00cc96",
          "symbol": "circle"
         },
         "mode": "markers",
         "name": "Terry",
         "orientation": "v",
         "showlegend": true,
         "type": "scatter",
         "x": [
          8
         ],
         "xaxis": "x",
         "y": [
          100
         ],
         "yaxis": "y"
        },
        {
         "hovertemplate": "firstname=Terry <br>Shot Distance=%{x}<br>Percentage of Made Shots=%{y}<extra></extra>",
         "legendgroup": "Terry ",
         "marker": {
          "color": "#ab63fa",
          "symbol": "circle"
         },
         "mode": "markers",
         "name": "Terry ",
         "orientation": "v",
         "showlegend": true,
         "type": "scatter",
         "x": [
          8
         ],
         "xaxis": "x",
         "y": [
          25
         ],
         "yaxis": "y"
        },
        {
         "hovertemplate": "firstname=VSS<br>Shot Distance=%{x}<br>Percentage of Made Shots=%{y}<extra></extra>",
         "legendgroup": "VSS",
         "marker": {
          "color": "#FFA15A",
          "symbol": "circle"
         },
         "mode": "markers",
         "name": "VSS",
         "orientation": "v",
         "showlegend": true,
         "type": "scatter",
         "x": [
          2,
          4
         ],
         "xaxis": "x",
         "y": [
          100,
          0
         ],
         "yaxis": "y"
        },
        {
         "hovertemplate": "firstname=ale<br>Shot Distance=%{x}<br>Percentage of Made Shots=%{y}<extra></extra>",
         "legendgroup": "ale",
         "marker": {
          "color": "#19d3f3",
          "symbol": "circle"
         },
         "mode": "markers",
         "name": "ale",
         "orientation": "v",
         "showlegend": true,
         "type": "scatter",
         "x": [
          2,
          4,
          6,
          8,
          10
         ],
         "xaxis": "x",
         "y": [
          57.14285714285714,
          66.66666666666666,
          50,
          50,
          100
         ],
         "yaxis": "y"
        },
        {
         "hovertemplate": "firstname=ben<br>Shot Distance=%{x}<br>Percentage of Made Shots=%{y}<extra></extra>",
         "legendgroup": "ben",
         "marker": {
          "color": "#FF6692",
          "symbol": "circle"
         },
         "mode": "markers",
         "name": "ben",
         "orientation": "v",
         "showlegend": true,
         "type": "scatter",
         "x": [
          2,
          4,
          6,
          8,
          10
         ],
         "xaxis": "x",
         "y": [
          0,
          0,
          50,
          0,
          0
         ],
         "yaxis": "y"
        },
        {
         "hovertemplate": "firstname=ben <br>Shot Distance=%{x}<br>Percentage of Made Shots=%{y}<extra></extra>",
         "legendgroup": "ben ",
         "marker": {
          "color": "#B6E880",
          "symbol": "circle"
         },
         "mode": "markers",
         "name": "ben ",
         "orientation": "v",
         "showlegend": true,
         "type": "scatter",
         "x": [
          8,
          10
         ],
         "xaxis": "x",
         "y": [
          0,
          0
         ],
         "yaxis": "y"
        },
        {
         "hovertemplate": "firstname=benjamin <br>Shot Distance=%{x}<br>Percentage of Made Shots=%{y}<extra></extra>",
         "legendgroup": "benjamin ",
         "marker": {
          "color": "#FF97FF",
          "symbol": "circle"
         },
         "mode": "markers",
         "name": "benjamin ",
         "orientation": "v",
         "showlegend": true,
         "type": "scatter",
         "x": [
          8,
          10
         ],
         "xaxis": "x",
         "y": [
          0,
          0
         ],
         "yaxis": "y"
        },
        {
         "hovertemplate": "firstname=dyaln<br>Shot Distance=%{x}<br>Percentage of Made Shots=%{y}<extra></extra>",
         "legendgroup": "dyaln",
         "marker": {
          "color": "#FECB52",
          "symbol": "circle"
         },
         "mode": "markers",
         "name": "dyaln",
         "orientation": "v",
         "showlegend": true,
         "type": "scatter",
         "x": [
          6
         ],
         "xaxis": "x",
         "y": [
          100
         ],
         "yaxis": "y"
        },
        {
         "hovertemplate": "firstname=dylan<br>Shot Distance=%{x}<br>Percentage of Made Shots=%{y}<extra></extra>",
         "legendgroup": "dylan",
         "marker": {
          "color": "#636efa",
          "symbol": "circle"
         },
         "mode": "markers",
         "name": "dylan",
         "orientation": "v",
         "showlegend": true,
         "type": "scatter",
         "x": [
          2,
          10
         ],
         "xaxis": "x",
         "y": [
          100,
          33.33333333333333
         ],
         "yaxis": "y"
        },
        {
         "hovertemplate": "firstname=dylan <br>Shot Distance=%{x}<br>Percentage of Made Shots=%{y}<extra></extra>",
         "legendgroup": "dylan ",
         "marker": {
          "color": "#EF553B",
          "symbol": "circle"
         },
         "mode": "markers",
         "name": "dylan ",
         "orientation": "v",
         "showlegend": true,
         "type": "scatter",
         "x": [
          6,
          8,
          10
         ],
         "xaxis": "x",
         "y": [
          0,
          0,
          0
         ],
         "yaxis": "y"
        },
        {
         "hovertemplate": "firstname=jacob<br>Shot Distance=%{x}<br>Percentage of Made Shots=%{y}<extra></extra>",
         "legendgroup": "jacob",
         "marker": {
          "color": "#00cc96",
          "symbol": "circle"
         },
         "mode": "markers",
         "name": "jacob",
         "orientation": "v",
         "showlegend": true,
         "type": "scatter",
         "x": [
          10
         ],
         "xaxis": "x",
         "y": [
          0
         ],
         "yaxis": "y"
        },
        {
         "hovertemplate": "firstname=jhustin<br>Shot Distance=%{x}<br>Percentage of Made Shots=%{y}<extra></extra>",
         "legendgroup": "jhustin",
         "marker": {
          "color": "#ab63fa",
          "symbol": "circle"
         },
         "mode": "markers",
         "name": "jhustin",
         "orientation": "v",
         "showlegend": true,
         "type": "scatter",
         "x": [
          2
         ],
         "xaxis": "x",
         "y": [
          100
         ],
         "yaxis": "y"
        },
        {
         "hovertemplate": "firstname=josh<br>Shot Distance=%{x}<br>Percentage of Made Shots=%{y}<extra></extra>",
         "legendgroup": "josh",
         "marker": {
          "color": "#FFA15A",
          "symbol": "circle"
         },
         "mode": "markers",
         "name": "josh",
         "orientation": "v",
         "showlegend": true,
         "type": "scatter",
         "x": [
          2,
          4,
          6,
          10
         ],
         "xaxis": "x",
         "y": [
          100,
          0,
          0,
          0
         ],
         "yaxis": "y"
        },
        {
         "hovertemplate": "firstname=josh <br>Shot Distance=%{x}<br>Percentage of Made Shots=%{y}<extra></extra>",
         "legendgroup": "josh ",
         "marker": {
          "color": "#19d3f3",
          "symbol": "circle"
         },
         "mode": "markers",
         "name": "josh ",
         "orientation": "v",
         "showlegend": true,
         "type": "scatter",
         "x": [
          6,
          8,
          10
         ],
         "xaxis": "x",
         "y": [
          0,
          0,
          0
         ],
         "yaxis": "y"
        },
        {
         "hovertemplate": "firstname=kirsten<br>Shot Distance=%{x}<br>Percentage of Made Shots=%{y}<extra></extra>",
         "legendgroup": "kirsten",
         "marker": {
          "color": "#FF6692",
          "symbol": "circle"
         },
         "mode": "markers",
         "name": "kirsten",
         "orientation": "v",
         "showlegend": true,
         "type": "scatter",
         "x": [
          6,
          8
         ],
         "xaxis": "x",
         "y": [
          100,
          50
         ],
         "yaxis": "y"
        },
        {
         "hovertemplate": "firstname=m.o<br>Shot Distance=%{x}<br>Percentage of Made Shots=%{y}<extra></extra>",
         "legendgroup": "m.o",
         "marker": {
          "color": "#B6E880",
          "symbol": "circle"
         },
         "mode": "markers",
         "name": "m.o",
         "orientation": "v",
         "showlegend": true,
         "type": "scatter",
         "x": [
          2,
          4,
          8,
          10
         ],
         "xaxis": "x",
         "y": [
          100,
          100,
          0,
          0
         ],
         "yaxis": "y"
        },
        {
         "hovertemplate": "firstname=mubarak<br>Shot Distance=%{x}<br>Percentage of Made Shots=%{y}<extra></extra>",
         "legendgroup": "mubarak",
         "marker": {
          "color": "#FF97FF",
          "symbol": "circle"
         },
         "mode": "markers",
         "name": "mubarak",
         "orientation": "v",
         "showlegend": true,
         "type": "scatter",
         "x": [
          4,
          6,
          8
         ],
         "xaxis": "x",
         "y": [
          100,
          0,
          0
         ],
         "yaxis": "y"
        },
        {
         "hovertemplate": "firstname=mubarak <br>Shot Distance=%{x}<br>Percentage of Made Shots=%{y}<extra></extra>",
         "legendgroup": "mubarak ",
         "marker": {
          "color": "#FECB52",
          "symbol": "circle"
         },
         "mode": "markers",
         "name": "mubarak ",
         "orientation": "v",
         "showlegend": true,
         "type": "scatter",
         "x": [
          2,
          6,
          8,
          10
         ],
         "xaxis": "x",
         "y": [
          100,
          0,
          0,
          0
         ],
         "yaxis": "y"
        },
        {
         "hovertemplate": "firstname=naya<br>Shot Distance=%{x}<br>Percentage of Made Shots=%{y}<extra></extra>",
         "legendgroup": "naya",
         "marker": {
          "color": "#636efa",
          "symbol": "circle"
         },
         "mode": "markers",
         "name": "naya",
         "orientation": "v",
         "showlegend": true,
         "type": "scatter",
         "x": [
          2,
          4,
          6,
          8,
          10
         ],
         "xaxis": "x",
         "y": [
          75,
          50,
          100,
          50,
          50
         ],
         "yaxis": "y"
        }
       ],
       "layout": {
        "legend": {
         "title": {
          "text": "firstname"
         },
         "tracegroupgap": 0
        },
        "template": {
         "data": {
          "bar": [
           {
            "error_x": {
             "color": "#2a3f5f"
            },
            "error_y": {
             "color": "#2a3f5f"
            },
            "marker": {
             "line": {
              "color": "#E5ECF6",
              "width": 0.5
             },
             "pattern": {
              "fillmode": "overlay",
              "size": 10,
              "solidity": 0.2
             }
            },
            "type": "bar"
           }
          ],
          "barpolar": [
           {
            "marker": {
             "line": {
              "color": "#E5ECF6",
              "width": 0.5
             },
             "pattern": {
              "fillmode": "overlay",
              "size": 10,
              "solidity": 0.2
             }
            },
            "type": "barpolar"
           }
          ],
          "carpet": [
           {
            "aaxis": {
             "endlinecolor": "#2a3f5f",
             "gridcolor": "white",
             "linecolor": "white",
             "minorgridcolor": "white",
             "startlinecolor": "#2a3f5f"
            },
            "baxis": {
             "endlinecolor": "#2a3f5f",
             "gridcolor": "white",
             "linecolor": "white",
             "minorgridcolor": "white",
             "startlinecolor": "#2a3f5f"
            },
            "type": "carpet"
           }
          ],
          "choropleth": [
           {
            "colorbar": {
             "outlinewidth": 0,
             "ticks": ""
            },
            "type": "choropleth"
           }
          ],
          "contour": [
           {
            "colorbar": {
             "outlinewidth": 0,
             "ticks": ""
            },
            "colorscale": [
             [
              0,
              "#0d0887"
             ],
             [
              0.1111111111111111,
              "#46039f"
             ],
             [
              0.2222222222222222,
              "#7201a8"
             ],
             [
              0.3333333333333333,
              "#9c179e"
             ],
             [
              0.4444444444444444,
              "#bd3786"
             ],
             [
              0.5555555555555556,
              "#d8576b"
             ],
             [
              0.6666666666666666,
              "#ed7953"
             ],
             [
              0.7777777777777778,
              "#fb9f3a"
             ],
             [
              0.8888888888888888,
              "#fdca26"
             ],
             [
              1,
              "#f0f921"
             ]
            ],
            "type": "contour"
           }
          ],
          "contourcarpet": [
           {
            "colorbar": {
             "outlinewidth": 0,
             "ticks": ""
            },
            "type": "contourcarpet"
           }
          ],
          "heatmap": [
           {
            "colorbar": {
             "outlinewidth": 0,
             "ticks": ""
            },
            "colorscale": [
             [
              0,
              "#0d0887"
             ],
             [
              0.1111111111111111,
              "#46039f"
             ],
             [
              0.2222222222222222,
              "#7201a8"
             ],
             [
              0.3333333333333333,
              "#9c179e"
             ],
             [
              0.4444444444444444,
              "#bd3786"
             ],
             [
              0.5555555555555556,
              "#d8576b"
             ],
             [
              0.6666666666666666,
              "#ed7953"
             ],
             [
              0.7777777777777778,
              "#fb9f3a"
             ],
             [
              0.8888888888888888,
              "#fdca26"
             ],
             [
              1,
              "#f0f921"
             ]
            ],
            "type": "heatmap"
           }
          ],
          "heatmapgl": [
           {
            "colorbar": {
             "outlinewidth": 0,
             "ticks": ""
            },
            "colorscale": [
             [
              0,
              "#0d0887"
             ],
             [
              0.1111111111111111,
              "#46039f"
             ],
             [
              0.2222222222222222,
              "#7201a8"
             ],
             [
              0.3333333333333333,
              "#9c179e"
             ],
             [
              0.4444444444444444,
              "#bd3786"
             ],
             [
              0.5555555555555556,
              "#d8576b"
             ],
             [
              0.6666666666666666,
              "#ed7953"
             ],
             [
              0.7777777777777778,
              "#fb9f3a"
             ],
             [
              0.8888888888888888,
              "#fdca26"
             ],
             [
              1,
              "#f0f921"
             ]
            ],
            "type": "heatmapgl"
           }
          ],
          "histogram": [
           {
            "marker": {
             "pattern": {
              "fillmode": "overlay",
              "size": 10,
              "solidity": 0.2
             }
            },
            "type": "histogram"
           }
          ],
          "histogram2d": [
           {
            "colorbar": {
             "outlinewidth": 0,
             "ticks": ""
            },
            "colorscale": [
             [
              0,
              "#0d0887"
             ],
             [
              0.1111111111111111,
              "#46039f"
             ],
             [
              0.2222222222222222,
              "#7201a8"
             ],
             [
              0.3333333333333333,
              "#9c179e"
             ],
             [
              0.4444444444444444,
              "#bd3786"
             ],
             [
              0.5555555555555556,
              "#d8576b"
             ],
             [
              0.6666666666666666,
              "#ed7953"
             ],
             [
              0.7777777777777778,
              "#fb9f3a"
             ],
             [
              0.8888888888888888,
              "#fdca26"
             ],
             [
              1,
              "#f0f921"
             ]
            ],
            "type": "histogram2d"
           }
          ],
          "histogram2dcontour": [
           {
            "colorbar": {
             "outlinewidth": 0,
             "ticks": ""
            },
            "colorscale": [
             [
              0,
              "#0d0887"
             ],
             [
              0.1111111111111111,
              "#46039f"
             ],
             [
              0.2222222222222222,
              "#7201a8"
             ],
             [
              0.3333333333333333,
              "#9c179e"
             ],
             [
              0.4444444444444444,
              "#bd3786"
             ],
             [
              0.5555555555555556,
              "#d8576b"
             ],
             [
              0.6666666666666666,
              "#ed7953"
             ],
             [
              0.7777777777777778,
              "#fb9f3a"
             ],
             [
              0.8888888888888888,
              "#fdca26"
             ],
             [
              1,
              "#f0f921"
             ]
            ],
            "type": "histogram2dcontour"
           }
          ],
          "mesh3d": [
           {
            "colorbar": {
             "outlinewidth": 0,
             "ticks": ""
            },
            "type": "mesh3d"
           }
          ],
          "parcoords": [
           {
            "line": {
             "colorbar": {
              "outlinewidth": 0,
              "ticks": ""
             }
            },
            "type": "parcoords"
           }
          ],
          "pie": [
           {
            "automargin": true,
            "type": "pie"
           }
          ],
          "scatter": [
           {
            "fillpattern": {
             "fillmode": "overlay",
             "size": 10,
             "solidity": 0.2
            },
            "type": "scatter"
           }
          ],
          "scatter3d": [
           {
            "line": {
             "colorbar": {
              "outlinewidth": 0,
              "ticks": ""
             }
            },
            "marker": {
             "colorbar": {
              "outlinewidth": 0,
              "ticks": ""
             }
            },
            "type": "scatter3d"
           }
          ],
          "scattercarpet": [
           {
            "marker": {
             "colorbar": {
              "outlinewidth": 0,
              "ticks": ""
             }
            },
            "type": "scattercarpet"
           }
          ],
          "scattergeo": [
           {
            "marker": {
             "colorbar": {
              "outlinewidth": 0,
              "ticks": ""
             }
            },
            "type": "scattergeo"
           }
          ],
          "scattergl": [
           {
            "marker": {
             "colorbar": {
              "outlinewidth": 0,
              "ticks": ""
             }
            },
            "type": "scattergl"
           }
          ],
          "scattermapbox": [
           {
            "marker": {
             "colorbar": {
              "outlinewidth": 0,
              "ticks": ""
             }
            },
            "type": "scattermapbox"
           }
          ],
          "scatterpolar": [
           {
            "marker": {
             "colorbar": {
              "outlinewidth": 0,
              "ticks": ""
             }
            },
            "type": "scatterpolar"
           }
          ],
          "scatterpolargl": [
           {
            "marker": {
             "colorbar": {
              "outlinewidth": 0,
              "ticks": ""
             }
            },
            "type": "scatterpolargl"
           }
          ],
          "scatterternary": [
           {
            "marker": {
             "colorbar": {
              "outlinewidth": 0,
              "ticks": ""
             }
            },
            "type": "scatterternary"
           }
          ],
          "surface": [
           {
            "colorbar": {
             "outlinewidth": 0,
             "ticks": ""
            },
            "colorscale": [
             [
              0,
              "#0d0887"
             ],
             [
              0.1111111111111111,
              "#46039f"
             ],
             [
              0.2222222222222222,
              "#7201a8"
             ],
             [
              0.3333333333333333,
              "#9c179e"
             ],
             [
              0.4444444444444444,
              "#bd3786"
             ],
             [
              0.5555555555555556,
              "#d8576b"
             ],
             [
              0.6666666666666666,
              "#ed7953"
             ],
             [
              0.7777777777777778,
              "#fb9f3a"
             ],
             [
              0.8888888888888888,
              "#fdca26"
             ],
             [
              1,
              "#f0f921"
             ]
            ],
            "type": "surface"
           }
          ],
          "table": [
           {
            "cells": {
             "fill": {
              "color": "#EBF0F8"
             },
             "line": {
              "color": "white"
             }
            },
            "header": {
             "fill": {
              "color": "#C8D4E3"
             },
             "line": {
              "color": "white"
             }
            },
            "type": "table"
           }
          ]
         },
         "layout": {
          "annotationdefaults": {
           "arrowcolor": "#2a3f5f",
           "arrowhead": 0,
           "arrowwidth": 1
          },
          "autotypenumbers": "strict",
          "coloraxis": {
           "colorbar": {
            "outlinewidth": 0,
            "ticks": ""
           }
          },
          "colorscale": {
           "diverging": [
            [
             0,
             "#8e0152"
            ],
            [
             0.1,
             "#c51b7d"
            ],
            [
             0.2,
             "#de77ae"
            ],
            [
             0.3,
             "#f1b6da"
            ],
            [
             0.4,
             "#fde0ef"
            ],
            [
             0.5,
             "#f7f7f7"
            ],
            [
             0.6,
             "#e6f5d0"
            ],
            [
             0.7,
             "#b8e186"
            ],
            [
             0.8,
             "#7fbc41"
            ],
            [
             0.9,
             "#4d9221"
            ],
            [
             1,
             "#276419"
            ]
           ],
           "sequential": [
            [
             0,
             "#0d0887"
            ],
            [
             0.1111111111111111,
             "#46039f"
            ],
            [
             0.2222222222222222,
             "#7201a8"
            ],
            [
             0.3333333333333333,
             "#9c179e"
            ],
            [
             0.4444444444444444,
             "#bd3786"
            ],
            [
             0.5555555555555556,
             "#d8576b"
            ],
            [
             0.6666666666666666,
             "#ed7953"
            ],
            [
             0.7777777777777778,
             "#fb9f3a"
            ],
            [
             0.8888888888888888,
             "#fdca26"
            ],
            [
             1,
             "#f0f921"
            ]
           ],
           "sequentialminus": [
            [
             0,
             "#0d0887"
            ],
            [
             0.1111111111111111,
             "#46039f"
            ],
            [
             0.2222222222222222,
             "#7201a8"
            ],
            [
             0.3333333333333333,
             "#9c179e"
            ],
            [
             0.4444444444444444,
             "#bd3786"
            ],
            [
             0.5555555555555556,
             "#d8576b"
            ],
            [
             0.6666666666666666,
             "#ed7953"
            ],
            [
             0.7777777777777778,
             "#fb9f3a"
            ],
            [
             0.8888888888888888,
             "#fdca26"
            ],
            [
             1,
             "#f0f921"
            ]
           ]
          },
          "colorway": [
           "#636efa",
           "#EF553B",
           "#00cc96",
           "#ab63fa",
           "#FFA15A",
           "#19d3f3",
           "#FF6692",
           "#B6E880",
           "#FF97FF",
           "#FECB52"
          ],
          "font": {
           "color": "#2a3f5f"
          },
          "geo": {
           "bgcolor": "white",
           "lakecolor": "white",
           "landcolor": "#E5ECF6",
           "showlakes": true,
           "showland": true,
           "subunitcolor": "white"
          },
          "hoverlabel": {
           "align": "left"
          },
          "hovermode": "closest",
          "mapbox": {
           "style": "light"
          },
          "paper_bgcolor": "white",
          "plot_bgcolor": "#E5ECF6",
          "polar": {
           "angularaxis": {
            "gridcolor": "white",
            "linecolor": "white",
            "ticks": ""
           },
           "bgcolor": "#E5ECF6",
           "radialaxis": {
            "gridcolor": "white",
            "linecolor": "white",
            "ticks": ""
           }
          },
          "scene": {
           "xaxis": {
            "backgroundcolor": "#E5ECF6",
            "gridcolor": "white",
            "gridwidth": 2,
            "linecolor": "white",
            "showbackground": true,
            "ticks": "",
            "zerolinecolor": "white"
           },
           "yaxis": {
            "backgroundcolor": "#E5ECF6",
            "gridcolor": "white",
            "gridwidth": 2,
            "linecolor": "white",
            "showbackground": true,
            "ticks": "",
            "zerolinecolor": "white"
           },
           "zaxis": {
            "backgroundcolor": "#E5ECF6",
            "gridcolor": "white",
            "gridwidth": 2,
            "linecolor": "white",
            "showbackground": true,
            "ticks": "",
            "zerolinecolor": "white"
           }
          },
          "shapedefaults": {
           "line": {
            "color": "#2a3f5f"
           }
          },
          "ternary": {
           "aaxis": {
            "gridcolor": "white",
            "linecolor": "white",
            "ticks": ""
           },
           "baxis": {
            "gridcolor": "white",
            "linecolor": "white",
            "ticks": ""
           },
           "bgcolor": "#E5ECF6",
           "caxis": {
            "gridcolor": "white",
            "linecolor": "white",
            "ticks": ""
           }
          },
          "title": {
           "x": 0.05
          },
          "xaxis": {
           "automargin": true,
           "gridcolor": "white",
           "linecolor": "white",
           "ticks": "",
           "title": {
            "standoff": 15
           },
           "zerolinecolor": "white",
           "zerolinewidth": 2
          },
          "yaxis": {
           "automargin": true,
           "gridcolor": "white",
           "linecolor": "white",
           "ticks": "",
           "title": {
            "standoff": 15
           },
           "zerolinecolor": "white",
           "zerolinewidth": 2
          }
         }
        },
        "title": {
         "text": "Percentage of Made Shots at Different Distances"
        },
        "xaxis": {
         "anchor": "y",
         "domain": [
          0,
          1
         ],
         "title": {
          "text": "Shot Distance"
         }
        },
        "yaxis": {
         "anchor": "x",
         "domain": [
          0,
          1
         ],
         "title": {
          "text": "Percentage of Made Shots"
         }
        }
       }
      },
      "text/html": [
       "<div>                            <div id=\"846f88fb-ed92-4a25-9c62-e627f56631c6\" class=\"plotly-graph-div\" style=\"height:525px; width:100%;\"></div>            <script type=\"text/javascript\">                require([\"plotly\"], function(Plotly) {                    window.PLOTLYENV=window.PLOTLYENV || {};                                    if (document.getElementById(\"846f88fb-ed92-4a25-9c62-e627f56631c6\")) {                    Plotly.newPlot(                        \"846f88fb-ed92-4a25-9c62-e627f56631c6\",                        [{\"hovertemplate\":\"firstname= Hope\\u003cbr\\u003eShot Distance=%{x}\\u003cbr\\u003ePercentage of Made Shots=%{y}\\u003cextra\\u003e\\u003c\\u002fextra\\u003e\",\"legendgroup\":\" Hope\",\"marker\":{\"color\":\"#636efa\",\"symbol\":\"circle\"},\"mode\":\"markers\",\"name\":\" Hope\",\"orientation\":\"v\",\"showlegend\":true,\"x\":[10],\"xaxis\":\"x\",\"y\":[100.0],\"yaxis\":\"y\",\"type\":\"scatter\"},{\"hovertemplate\":\"firstname=AD\\u003cbr\\u003eShot Distance=%{x}\\u003cbr\\u003ePercentage of Made Shots=%{y}\\u003cextra\\u003e\\u003c\\u002fextra\\u003e\",\"legendgroup\":\"AD\",\"marker\":{\"color\":\"#EF553B\",\"symbol\":\"circle\"},\"mode\":\"markers\",\"name\":\"AD\",\"orientation\":\"v\",\"showlegend\":true,\"x\":[4,10],\"xaxis\":\"x\",\"y\":[0.0,0.0],\"yaxis\":\"y\",\"type\":\"scatter\"},{\"hovertemplate\":\"firstname=AT\\u003cbr\\u003eShot Distance=%{x}\\u003cbr\\u003ePercentage of Made Shots=%{y}\\u003cextra\\u003e\\u003c\\u002fextra\\u003e\",\"legendgroup\":\"AT\",\"marker\":{\"color\":\"#00cc96\",\"symbol\":\"circle\"},\"mode\":\"markers\",\"name\":\"AT\",\"orientation\":\"v\",\"showlegend\":true,\"x\":[2,6],\"xaxis\":\"x\",\"y\":[100.0,0.0],\"yaxis\":\"y\",\"type\":\"scatter\"},{\"hovertemplate\":\"firstname=Adrianna\\u003cbr\\u003eShot Distance=%{x}\\u003cbr\\u003ePercentage of Made Shots=%{y}\\u003cextra\\u003e\\u003c\\u002fextra\\u003e\",\"legendgroup\":\"Adrianna\",\"marker\":{\"color\":\"#ab63fa\",\"symbol\":\"circle\"},\"mode\":\"markers\",\"name\":\"Adrianna\",\"orientation\":\"v\",\"showlegend\":true,\"x\":[2,4,6,8,10],\"xaxis\":\"x\",\"y\":[100.0,100.0,83.33333333333334,0.0,33.33333333333333],\"yaxis\":\"y\",\"type\":\"scatter\"},{\"hovertemplate\":\"firstname=Alejandro\\u003cbr\\u003eShot Distance=%{x}\\u003cbr\\u003ePercentage of Made Shots=%{y}\\u003cextra\\u003e\\u003c\\u002fextra\\u003e\",\"legendgroup\":\"Alejandro\",\"marker\":{\"color\":\"#FFA15A\",\"symbol\":\"circle\"},\"mode\":\"markers\",\"name\":\"Alejandro\",\"orientation\":\"v\",\"showlegend\":true,\"x\":[10],\"xaxis\":\"x\",\"y\":[0.0],\"yaxis\":\"y\",\"type\":\"scatter\"},{\"hovertemplate\":\"firstname=Alina\\u003cbr\\u003eShot Distance=%{x}\\u003cbr\\u003ePercentage of Made Shots=%{y}\\u003cextra\\u003e\\u003c\\u002fextra\\u003e\",\"legendgroup\":\"Alina\",\"marker\":{\"color\":\"#19d3f3\",\"symbol\":\"circle\"},\"mode\":\"markers\",\"name\":\"Alina\",\"orientation\":\"v\",\"showlegend\":true,\"x\":[4,8],\"xaxis\":\"x\",\"y\":[100.0,0.0],\"yaxis\":\"y\",\"type\":\"scatter\"},{\"hovertemplate\":\"firstname=Anna\\u003cbr\\u003eShot Distance=%{x}\\u003cbr\\u003ePercentage of Made Shots=%{y}\\u003cextra\\u003e\\u003c\\u002fextra\\u003e\",\"legendgroup\":\"Anna\",\"marker\":{\"color\":\"#FF6692\",\"symbol\":\"circle\"},\"mode\":\"markers\",\"name\":\"Anna\",\"orientation\":\"v\",\"showlegend\":true,\"x\":[2],\"xaxis\":\"x\",\"y\":[100.0],\"yaxis\":\"y\",\"type\":\"scatter\"},{\"hovertemplate\":\"firstname=Anna \\u003cbr\\u003eShot Distance=%{x}\\u003cbr\\u003ePercentage of Made Shots=%{y}\\u003cextra\\u003e\\u003c\\u002fextra\\u003e\",\"legendgroup\":\"Anna \",\"marker\":{\"color\":\"#B6E880\",\"symbol\":\"circle\"},\"mode\":\"markers\",\"name\":\"Anna \",\"orientation\":\"v\",\"showlegend\":true,\"x\":[4],\"xaxis\":\"x\",\"y\":[0.0],\"yaxis\":\"y\",\"type\":\"scatter\"},{\"hovertemplate\":\"firstname=Annamaria\\u003cbr\\u003eShot Distance=%{x}\\u003cbr\\u003ePercentage of Made Shots=%{y}\\u003cextra\\u003e\\u003c\\u002fextra\\u003e\",\"legendgroup\":\"Annamaria\",\"marker\":{\"color\":\"#FF97FF\",\"symbol\":\"circle\"},\"mode\":\"markers\",\"name\":\"Annamaria\",\"orientation\":\"v\",\"showlegend\":true,\"x\":[2],\"xaxis\":\"x\",\"y\":[50.0],\"yaxis\":\"y\",\"type\":\"scatter\"},{\"hovertemplate\":\"firstname=Ava\\u003cbr\\u003eShot Distance=%{x}\\u003cbr\\u003ePercentage of Made Shots=%{y}\\u003cextra\\u003e\\u003c\\u002fextra\\u003e\",\"legendgroup\":\"Ava\",\"marker\":{\"color\":\"#FECB52\",\"symbol\":\"circle\"},\"mode\":\"markers\",\"name\":\"Ava\",\"orientation\":\"v\",\"showlegend\":true,\"x\":[2,4,6,8,10],\"xaxis\":\"x\",\"y\":[100.0,100.0,50.0,100.0,100.0],\"yaxis\":\"y\",\"type\":\"scatter\"},{\"hovertemplate\":\"firstname=Ava \\u003cbr\\u003eShot Distance=%{x}\\u003cbr\\u003ePercentage of Made Shots=%{y}\\u003cextra\\u003e\\u003c\\u002fextra\\u003e\",\"legendgroup\":\"Ava \",\"marker\":{\"color\":\"#636efa\",\"symbol\":\"circle\"},\"mode\":\"markers\",\"name\":\"Ava \",\"orientation\":\"v\",\"showlegend\":true,\"x\":[2,4,10],\"xaxis\":\"x\",\"y\":[0.0,0.0,0.0],\"yaxis\":\"y\",\"type\":\"scatter\"},{\"hovertemplate\":\"firstname=Barry\\u003cbr\\u003eShot Distance=%{x}\\u003cbr\\u003ePercentage of Made Shots=%{y}\\u003cextra\\u003e\\u003c\\u002fextra\\u003e\",\"legendgroup\":\"Barry\",\"marker\":{\"color\":\"#EF553B\",\"symbol\":\"circle\"},\"mode\":\"markers\",\"name\":\"Barry\",\"orientation\":\"v\",\"showlegend\":true,\"x\":[10],\"xaxis\":\"x\",\"y\":[0.0],\"yaxis\":\"y\",\"type\":\"scatter\"},{\"hovertemplate\":\"firstname=Benjie\\u003cbr\\u003eShot Distance=%{x}\\u003cbr\\u003ePercentage of Made Shots=%{y}\\u003cextra\\u003e\\u003c\\u002fextra\\u003e\",\"legendgroup\":\"Benjie\",\"marker\":{\"color\":\"#00cc96\",\"symbol\":\"circle\"},\"mode\":\"markers\",\"name\":\"Benjie\",\"orientation\":\"v\",\"showlegend\":true,\"x\":[2,4,6,10],\"xaxis\":\"x\",\"y\":[50.0,50.0,100.0,0.0],\"yaxis\":\"y\",\"type\":\"scatter\"},{\"hovertemplate\":\"firstname=Bernadette \\u003cbr\\u003eShot Distance=%{x}\\u003cbr\\u003ePercentage of Made Shots=%{y}\\u003cextra\\u003e\\u003c\\u002fextra\\u003e\",\"legendgroup\":\"Bernadette \",\"marker\":{\"color\":\"#ab63fa\",\"symbol\":\"circle\"},\"mode\":\"markers\",\"name\":\"Bernadette \",\"orientation\":\"v\",\"showlegend\":true,\"x\":[2,4,8,10],\"xaxis\":\"x\",\"y\":[66.66666666666666,100.0,0.0,0.0],\"yaxis\":\"y\",\"type\":\"scatter\"},{\"hovertemplate\":\"firstname=Bill\\u003cbr\\u003eShot Distance=%{x}\\u003cbr\\u003ePercentage of Made Shots=%{y}\\u003cextra\\u003e\\u003c\\u002fextra\\u003e\",\"legendgroup\":\"Bill\",\"marker\":{\"color\":\"#FFA15A\",\"symbol\":\"circle\"},\"mode\":\"markers\",\"name\":\"Bill\",\"orientation\":\"v\",\"showlegend\":true,\"x\":[4,8,10],\"xaxis\":\"x\",\"y\":[50.0,0.0,100.0],\"yaxis\":\"y\",\"type\":\"scatter\"},{\"hovertemplate\":\"firstname=Bill \\u003cbr\\u003eShot Distance=%{x}\\u003cbr\\u003ePercentage of Made Shots=%{y}\\u003cextra\\u003e\\u003c\\u002fextra\\u003e\",\"legendgroup\":\"Bill \",\"marker\":{\"color\":\"#19d3f3\",\"symbol\":\"circle\"},\"mode\":\"markers\",\"name\":\"Bill \",\"orientation\":\"v\",\"showlegend\":true,\"x\":[10],\"xaxis\":\"x\",\"y\":[100.0],\"yaxis\":\"y\",\"type\":\"scatter\"},{\"hovertemplate\":\"firstname=Brad\\u003cbr\\u003eShot Distance=%{x}\\u003cbr\\u003ePercentage of Made Shots=%{y}\\u003cextra\\u003e\\u003c\\u002fextra\\u003e\",\"legendgroup\":\"Brad\",\"marker\":{\"color\":\"#FF6692\",\"symbol\":\"circle\"},\"mode\":\"markers\",\"name\":\"Brad\",\"orientation\":\"v\",\"showlegend\":true,\"x\":[6,8,10],\"xaxis\":\"x\",\"y\":[0.0,33.33333333333333,0.0],\"yaxis\":\"y\",\"type\":\"scatter\"},{\"hovertemplate\":\"firstname=Breanna \\u003cbr\\u003eShot Distance=%{x}\\u003cbr\\u003ePercentage of Made Shots=%{y}\\u003cextra\\u003e\\u003c\\u002fextra\\u003e\",\"legendgroup\":\"Breanna \",\"marker\":{\"color\":\"#B6E880\",\"symbol\":\"circle\"},\"mode\":\"markers\",\"name\":\"Breanna \",\"orientation\":\"v\",\"showlegend\":true,\"x\":[2],\"xaxis\":\"x\",\"y\":[100.0],\"yaxis\":\"y\",\"type\":\"scatter\"},{\"hovertemplate\":\"firstname=C.Z.\\u003cbr\\u003eShot Distance=%{x}\\u003cbr\\u003ePercentage of Made Shots=%{y}\\u003cextra\\u003e\\u003c\\u002fextra\\u003e\",\"legendgroup\":\"C.Z.\",\"marker\":{\"color\":\"#FF97FF\",\"symbol\":\"circle\"},\"mode\":\"markers\",\"name\":\"C.Z.\",\"orientation\":\"v\",\"showlegend\":true,\"x\":[4],\"xaxis\":\"x\",\"y\":[100.0],\"yaxis\":\"y\",\"type\":\"scatter\"},{\"hovertemplate\":\"firstname=Carolyn \\u003cbr\\u003eShot Distance=%{x}\\u003cbr\\u003ePercentage of Made Shots=%{y}\\u003cextra\\u003e\\u003c\\u002fextra\\u003e\",\"legendgroup\":\"Carolyn \",\"marker\":{\"color\":\"#FECB52\",\"symbol\":\"circle\"},\"mode\":\"markers\",\"name\":\"Carolyn \",\"orientation\":\"v\",\"showlegend\":true,\"x\":[2],\"xaxis\":\"x\",\"y\":[100.0],\"yaxis\":\"y\",\"type\":\"scatter\"},{\"hovertemplate\":\"firstname=Daryl\\u003cbr\\u003eShot Distance=%{x}\\u003cbr\\u003ePercentage of Made Shots=%{y}\\u003cextra\\u003e\\u003c\\u002fextra\\u003e\",\"legendgroup\":\"Daryl\",\"marker\":{\"color\":\"#636efa\",\"symbol\":\"circle\"},\"mode\":\"markers\",\"name\":\"Daryl\",\"orientation\":\"v\",\"showlegend\":true,\"x\":[6],\"xaxis\":\"x\",\"y\":[0.0],\"yaxis\":\"y\",\"type\":\"scatter\"},{\"hovertemplate\":\"firstname=Dave\\u003cbr\\u003eShot Distance=%{x}\\u003cbr\\u003ePercentage of Made Shots=%{y}\\u003cextra\\u003e\\u003c\\u002fextra\\u003e\",\"legendgroup\":\"Dave\",\"marker\":{\"color\":\"#EF553B\",\"symbol\":\"circle\"},\"mode\":\"markers\",\"name\":\"Dave\",\"orientation\":\"v\",\"showlegend\":true,\"x\":[2,6],\"xaxis\":\"x\",\"y\":[100.0,0.0],\"yaxis\":\"y\",\"type\":\"scatter\"},{\"hovertemplate\":\"firstname=David\\u003cbr\\u003eShot Distance=%{x}\\u003cbr\\u003ePercentage of Made Shots=%{y}\\u003cextra\\u003e\\u003c\\u002fextra\\u003e\",\"legendgroup\":\"David\",\"marker\":{\"color\":\"#00cc96\",\"symbol\":\"circle\"},\"mode\":\"markers\",\"name\":\"David\",\"orientation\":\"v\",\"showlegend\":true,\"x\":[2,4,10],\"xaxis\":\"x\",\"y\":[100.0,50.0,50.0],\"yaxis\":\"y\",\"type\":\"scatter\"},{\"hovertemplate\":\"firstname=David \\u003cbr\\u003eShot Distance=%{x}\\u003cbr\\u003ePercentage of Made Shots=%{y}\\u003cextra\\u003e\\u003c\\u002fextra\\u003e\",\"legendgroup\":\"David \",\"marker\":{\"color\":\"#ab63fa\",\"symbol\":\"circle\"},\"mode\":\"markers\",\"name\":\"David \",\"orientation\":\"v\",\"showlegend\":true,\"x\":[4],\"xaxis\":\"x\",\"y\":[0.0],\"yaxis\":\"y\",\"type\":\"scatter\"},{\"hovertemplate\":\"firstname=Dean\\u003cbr\\u003eShot Distance=%{x}\\u003cbr\\u003ePercentage of Made Shots=%{y}\\u003cextra\\u003e\\u003c\\u002fextra\\u003e\",\"legendgroup\":\"Dean\",\"marker\":{\"color\":\"#FFA15A\",\"symbol\":\"circle\"},\"mode\":\"markers\",\"name\":\"Dean\",\"orientation\":\"v\",\"showlegend\":true,\"x\":[4,6],\"xaxis\":\"x\",\"y\":[100.0,0.0],\"yaxis\":\"y\",\"type\":\"scatter\"},{\"hovertemplate\":\"firstname=Dennis\\u003cbr\\u003eShot Distance=%{x}\\u003cbr\\u003ePercentage of Made Shots=%{y}\\u003cextra\\u003e\\u003c\\u002fextra\\u003e\",\"legendgroup\":\"Dennis\",\"marker\":{\"color\":\"#19d3f3\",\"symbol\":\"circle\"},\"mode\":\"markers\",\"name\":\"Dennis\",\"orientation\":\"v\",\"showlegend\":true,\"x\":[2],\"xaxis\":\"x\",\"y\":[100.0],\"yaxis\":\"y\",\"type\":\"scatter\"},{\"hovertemplate\":\"firstname=Dirk\\u003cbr\\u003eShot Distance=%{x}\\u003cbr\\u003ePercentage of Made Shots=%{y}\\u003cextra\\u003e\\u003c\\u002fextra\\u003e\",\"legendgroup\":\"Dirk\",\"marker\":{\"color\":\"#FF6692\",\"symbol\":\"circle\"},\"mode\":\"markers\",\"name\":\"Dirk\",\"orientation\":\"v\",\"showlegend\":true,\"x\":[10],\"xaxis\":\"x\",\"y\":[0.0],\"yaxis\":\"y\",\"type\":\"scatter\"},{\"hovertemplate\":\"firstname=Divine\\u003cbr\\u003eShot Distance=%{x}\\u003cbr\\u003ePercentage of Made Shots=%{y}\\u003cextra\\u003e\\u003c\\u002fextra\\u003e\",\"legendgroup\":\"Divine\",\"marker\":{\"color\":\"#B6E880\",\"symbol\":\"circle\"},\"mode\":\"markers\",\"name\":\"Divine\",\"orientation\":\"v\",\"showlegend\":true,\"x\":[2,6],\"xaxis\":\"x\",\"y\":[50.0,0.0],\"yaxis\":\"y\",\"type\":\"scatter\"},{\"hovertemplate\":\"firstname=Don\\u003cbr\\u003eShot Distance=%{x}\\u003cbr\\u003ePercentage of Made Shots=%{y}\\u003cextra\\u003e\\u003c\\u002fextra\\u003e\",\"legendgroup\":\"Don\",\"marker\":{\"color\":\"#FF97FF\",\"symbol\":\"circle\"},\"mode\":\"markers\",\"name\":\"Don\",\"orientation\":\"v\",\"showlegend\":true,\"x\":[2],\"xaxis\":\"x\",\"y\":[0.0],\"yaxis\":\"y\",\"type\":\"scatter\"},{\"hovertemplate\":\"firstname=Dustin\\u003cbr\\u003eShot Distance=%{x}\\u003cbr\\u003ePercentage of Made Shots=%{y}\\u003cextra\\u003e\\u003c\\u002fextra\\u003e\",\"legendgroup\":\"Dustin\",\"marker\":{\"color\":\"#FECB52\",\"symbol\":\"circle\"},\"mode\":\"markers\",\"name\":\"Dustin\",\"orientation\":\"v\",\"showlegend\":true,\"x\":[8,10],\"xaxis\":\"x\",\"y\":[0.0,0.0],\"yaxis\":\"y\",\"type\":\"scatter\"},{\"hovertemplate\":\"firstname=Dylan \\u003cbr\\u003eShot Distance=%{x}\\u003cbr\\u003ePercentage of Made Shots=%{y}\\u003cextra\\u003e\\u003c\\u002fextra\\u003e\",\"legendgroup\":\"Dylan \",\"marker\":{\"color\":\"#636efa\",\"symbol\":\"circle\"},\"mode\":\"markers\",\"name\":\"Dylan \",\"orientation\":\"v\",\"showlegend\":true,\"x\":[10],\"xaxis\":\"x\",\"y\":[0.0],\"yaxis\":\"y\",\"type\":\"scatter\"},{\"hovertemplate\":\"firstname=Edgar\\u003cbr\\u003eShot Distance=%{x}\\u003cbr\\u003ePercentage of Made Shots=%{y}\\u003cextra\\u003e\\u003c\\u002fextra\\u003e\",\"legendgroup\":\"Edgar\",\"marker\":{\"color\":\"#EF553B\",\"symbol\":\"circle\"},\"mode\":\"markers\",\"name\":\"Edgar\",\"orientation\":\"v\",\"showlegend\":true,\"x\":[2,4,6,8,10],\"xaxis\":\"x\",\"y\":[100.0,100.0,0.0,0.0,100.0],\"yaxis\":\"y\",\"type\":\"scatter\"},{\"hovertemplate\":\"firstname=Francisco\\u003cbr\\u003eShot Distance=%{x}\\u003cbr\\u003ePercentage of Made Shots=%{y}\\u003cextra\\u003e\\u003c\\u002fextra\\u003e\",\"legendgroup\":\"Francisco\",\"marker\":{\"color\":\"#00cc96\",\"symbol\":\"circle\"},\"mode\":\"markers\",\"name\":\"Francisco\",\"orientation\":\"v\",\"showlegend\":true,\"x\":[2,4,6,8,10],\"xaxis\":\"x\",\"y\":[100.0,100.0,100.0,0.0,25.0],\"yaxis\":\"y\",\"type\":\"scatter\"},{\"hovertemplate\":\"firstname=Geoff\\u003cbr\\u003eShot Distance=%{x}\\u003cbr\\u003ePercentage of Made Shots=%{y}\\u003cextra\\u003e\\u003c\\u002fextra\\u003e\",\"legendgroup\":\"Geoff\",\"marker\":{\"color\":\"#ab63fa\",\"symbol\":\"circle\"},\"mode\":\"markers\",\"name\":\"Geoff\",\"orientation\":\"v\",\"showlegend\":true,\"x\":[2],\"xaxis\":\"x\",\"y\":[100.0],\"yaxis\":\"y\",\"type\":\"scatter\"},{\"hovertemplate\":\"firstname=Grant\\u003cbr\\u003eShot Distance=%{x}\\u003cbr\\u003ePercentage of Made Shots=%{y}\\u003cextra\\u003e\\u003c\\u002fextra\\u003e\",\"legendgroup\":\"Grant\",\"marker\":{\"color\":\"#FFA15A\",\"symbol\":\"circle\"},\"mode\":\"markers\",\"name\":\"Grant\",\"orientation\":\"v\",\"showlegend\":true,\"x\":[4,8],\"xaxis\":\"x\",\"y\":[100.0,50.0],\"yaxis\":\"y\",\"type\":\"scatter\"},{\"hovertemplate\":\"firstname=Grant \\u003cbr\\u003eShot Distance=%{x}\\u003cbr\\u003ePercentage of Made Shots=%{y}\\u003cextra\\u003e\\u003c\\u002fextra\\u003e\",\"legendgroup\":\"Grant \",\"marker\":{\"color\":\"#19d3f3\",\"symbol\":\"circle\"},\"mode\":\"markers\",\"name\":\"Grant \",\"orientation\":\"v\",\"showlegend\":true,\"x\":[4],\"xaxis\":\"x\",\"y\":[0.0],\"yaxis\":\"y\",\"type\":\"scatter\"},{\"hovertemplate\":\"firstname=Greg\\u003cbr\\u003eShot Distance=%{x}\\u003cbr\\u003ePercentage of Made Shots=%{y}\\u003cextra\\u003e\\u003c\\u002fextra\\u003e\",\"legendgroup\":\"Greg\",\"marker\":{\"color\":\"#FF6692\",\"symbol\":\"circle\"},\"mode\":\"markers\",\"name\":\"Greg\",\"orientation\":\"v\",\"showlegend\":true,\"x\":[10],\"xaxis\":\"x\",\"y\":[0.0],\"yaxis\":\"y\",\"type\":\"scatter\"},{\"hovertemplate\":\"firstname=Grorge\\u003cbr\\u003eShot Distance=%{x}\\u003cbr\\u003ePercentage of Made Shots=%{y}\\u003cextra\\u003e\\u003c\\u002fextra\\u003e\",\"legendgroup\":\"Grorge\",\"marker\":{\"color\":\"#B6E880\",\"symbol\":\"circle\"},\"mode\":\"markers\",\"name\":\"Grorge\",\"orientation\":\"v\",\"showlegend\":true,\"x\":[2],\"xaxis\":\"x\",\"y\":[0.0],\"yaxis\":\"y\",\"type\":\"scatter\"},{\"hovertemplate\":\"firstname=Gurm\\u003cbr\\u003eShot Distance=%{x}\\u003cbr\\u003ePercentage of Made Shots=%{y}\\u003cextra\\u003e\\u003c\\u002fextra\\u003e\",\"legendgroup\":\"Gurm\",\"marker\":{\"color\":\"#FF97FF\",\"symbol\":\"circle\"},\"mode\":\"markers\",\"name\":\"Gurm\",\"orientation\":\"v\",\"showlegend\":true,\"x\":[2],\"xaxis\":\"x\",\"y\":[100.0],\"yaxis\":\"y\",\"type\":\"scatter\"},{\"hovertemplate\":\"firstname=Heoff\\u003cbr\\u003eShot Distance=%{x}\\u003cbr\\u003ePercentage of Made Shots=%{y}\\u003cextra\\u003e\\u003c\\u002fextra\\u003e\",\"legendgroup\":\"Heoff\",\"marker\":{\"color\":\"#FECB52\",\"symbol\":\"circle\"},\"mode\":\"markers\",\"name\":\"Heoff\",\"orientation\":\"v\",\"showlegend\":true,\"x\":[2],\"xaxis\":\"x\",\"y\":[100.0],\"yaxis\":\"y\",\"type\":\"scatter\"},{\"hovertemplate\":\"firstname=Hope\\u003cbr\\u003eShot Distance=%{x}\\u003cbr\\u003ePercentage of Made Shots=%{y}\\u003cextra\\u003e\\u003c\\u002fextra\\u003e\",\"legendgroup\":\"Hope\",\"marker\":{\"color\":\"#636efa\",\"symbol\":\"circle\"},\"mode\":\"markers\",\"name\":\"Hope\",\"orientation\":\"v\",\"showlegend\":true,\"x\":[2,4,6,8,10],\"xaxis\":\"x\",\"y\":[66.66666666666666,50.0,25.0,0.0,100.0],\"yaxis\":\"y\",\"type\":\"scatter\"},{\"hovertemplate\":\"firstname=Hope \\u003cbr\\u003eShot Distance=%{x}\\u003cbr\\u003ePercentage of Made Shots=%{y}\\u003cextra\\u003e\\u003c\\u002fextra\\u003e\",\"legendgroup\":\"Hope \",\"marker\":{\"color\":\"#EF553B\",\"symbol\":\"circle\"},\"mode\":\"markers\",\"name\":\"Hope \",\"orientation\":\"v\",\"showlegend\":true,\"x\":[4],\"xaxis\":\"x\",\"y\":[0.0],\"yaxis\":\"y\",\"type\":\"scatter\"},{\"hovertemplate\":\"firstname=I\\u003cbr\\u003eShot Distance=%{x}\\u003cbr\\u003ePercentage of Made Shots=%{y}\\u003cextra\\u003e\\u003c\\u002fextra\\u003e\",\"legendgroup\":\"I\",\"marker\":{\"color\":\"#00cc96\",\"symbol\":\"circle\"},\"mode\":\"markers\",\"name\":\"I\",\"orientation\":\"v\",\"showlegend\":true,\"x\":[8],\"xaxis\":\"x\",\"y\":[0.0],\"yaxis\":\"y\",\"type\":\"scatter\"},{\"hovertemplate\":\"firstname=IT dept\\u003cbr\\u003eShot Distance=%{x}\\u003cbr\\u003ePercentage of Made Shots=%{y}\\u003cextra\\u003e\\u003c\\u002fextra\\u003e\",\"legendgroup\":\"IT dept\",\"marker\":{\"color\":\"#ab63fa\",\"symbol\":\"circle\"},\"mode\":\"markers\",\"name\":\"IT dept\",\"orientation\":\"v\",\"showlegend\":true,\"x\":[2,4,6,8,10],\"xaxis\":\"x\",\"y\":[0.0,0.0,0.0,100.0,0.0],\"yaxis\":\"y\",\"type\":\"scatter\"},{\"hovertemplate\":\"firstname=Imran \\u003cbr\\u003eShot Distance=%{x}\\u003cbr\\u003ePercentage of Made Shots=%{y}\\u003cextra\\u003e\\u003c\\u002fextra\\u003e\",\"legendgroup\":\"Imran \",\"marker\":{\"color\":\"#FFA15A\",\"symbol\":\"circle\"},\"mode\":\"markers\",\"name\":\"Imran \",\"orientation\":\"v\",\"showlegend\":true,\"x\":[4],\"xaxis\":\"x\",\"y\":[0.0],\"yaxis\":\"y\",\"type\":\"scatter\"},{\"hovertemplate\":\"firstname=Ishruna\\u003cbr\\u003eShot Distance=%{x}\\u003cbr\\u003ePercentage of Made Shots=%{y}\\u003cextra\\u003e\\u003c\\u002fextra\\u003e\",\"legendgroup\":\"Ishruna\",\"marker\":{\"color\":\"#19d3f3\",\"symbol\":\"circle\"},\"mode\":\"markers\",\"name\":\"Ishruna\",\"orientation\":\"v\",\"showlegend\":true,\"x\":[8],\"xaxis\":\"x\",\"y\":[0.0],\"yaxis\":\"y\",\"type\":\"scatter\"},{\"hovertemplate\":\"firstname=J.G\\u003cbr\\u003eShot Distance=%{x}\\u003cbr\\u003ePercentage of Made Shots=%{y}\\u003cextra\\u003e\\u003c\\u002fextra\\u003e\",\"legendgroup\":\"J.G\",\"marker\":{\"color\":\"#FF6692\",\"symbol\":\"circle\"},\"mode\":\"markers\",\"name\":\"J.G\",\"orientation\":\"v\",\"showlegend\":true,\"x\":[8,10],\"xaxis\":\"x\",\"y\":[0.0,0.0],\"yaxis\":\"y\",\"type\":\"scatter\"},{\"hovertemplate\":\"firstname=JE\\u003cbr\\u003eShot Distance=%{x}\\u003cbr\\u003ePercentage of Made Shots=%{y}\\u003cextra\\u003e\\u003c\\u002fextra\\u003e\",\"legendgroup\":\"JE\",\"marker\":{\"color\":\"#B6E880\",\"symbol\":\"circle\"},\"mode\":\"markers\",\"name\":\"JE\",\"orientation\":\"v\",\"showlegend\":true,\"x\":[2,4,6,8],\"xaxis\":\"x\",\"y\":[50.0,100.0,25.0,50.0],\"yaxis\":\"y\",\"type\":\"scatter\"},{\"hovertemplate\":\"firstname=Jessica\\u003cbr\\u003eShot Distance=%{x}\\u003cbr\\u003ePercentage of Made Shots=%{y}\\u003cextra\\u003e\\u003c\\u002fextra\\u003e\",\"legendgroup\":\"Jessica\",\"marker\":{\"color\":\"#FF97FF\",\"symbol\":\"circle\"},\"mode\":\"markers\",\"name\":\"Jessica\",\"orientation\":\"v\",\"showlegend\":true,\"x\":[2],\"xaxis\":\"x\",\"y\":[100.0],\"yaxis\":\"y\",\"type\":\"scatter\"},{\"hovertemplate\":\"firstname=Jether\\u003cbr\\u003eShot Distance=%{x}\\u003cbr\\u003ePercentage of Made Shots=%{y}\\u003cextra\\u003e\\u003c\\u002fextra\\u003e\",\"legendgroup\":\"Jether\",\"marker\":{\"color\":\"#FECB52\",\"symbol\":\"circle\"},\"mode\":\"markers\",\"name\":\"Jether\",\"orientation\":\"v\",\"showlegend\":true,\"x\":[2,4,6,8,10],\"xaxis\":\"x\",\"y\":[100.0,100.0,66.66666666666666,100.0,0.0],\"yaxis\":\"y\",\"type\":\"scatter\"},{\"hovertemplate\":\"firstname=Jether \\u003cbr\\u003eShot Distance=%{x}\\u003cbr\\u003ePercentage of Made Shots=%{y}\\u003cextra\\u003e\\u003c\\u002fextra\\u003e\",\"legendgroup\":\"Jether \",\"marker\":{\"color\":\"#636efa\",\"symbol\":\"circle\"},\"mode\":\"markers\",\"name\":\"Jether \",\"orientation\":\"v\",\"showlegend\":true,\"x\":[8],\"xaxis\":\"x\",\"y\":[100.0],\"yaxis\":\"y\",\"type\":\"scatter\"},{\"hovertemplate\":\"firstname=Jhustin\\u003cbr\\u003eShot Distance=%{x}\\u003cbr\\u003ePercentage of Made Shots=%{y}\\u003cextra\\u003e\\u003c\\u002fextra\\u003e\",\"legendgroup\":\"Jhustin\",\"marker\":{\"color\":\"#EF553B\",\"symbol\":\"circle\"},\"mode\":\"markers\",\"name\":\"Jhustin\",\"orientation\":\"v\",\"showlegend\":true,\"x\":[8],\"xaxis\":\"x\",\"y\":[100.0],\"yaxis\":\"y\",\"type\":\"scatter\"},{\"hovertemplate\":\"firstname=Jhustin \\u003cbr\\u003eShot Distance=%{x}\\u003cbr\\u003ePercentage of Made Shots=%{y}\\u003cextra\\u003e\\u003c\\u002fextra\\u003e\",\"legendgroup\":\"Jhustin \",\"marker\":{\"color\":\"#00cc96\",\"symbol\":\"circle\"},\"mode\":\"markers\",\"name\":\"Jhustin \",\"orientation\":\"v\",\"showlegend\":true,\"x\":[4,6],\"xaxis\":\"x\",\"y\":[100.0,100.0],\"yaxis\":\"y\",\"type\":\"scatter\"},{\"hovertemplate\":\"firstname=John\\u003cbr\\u003eShot Distance=%{x}\\u003cbr\\u003ePercentage of Made Shots=%{y}\\u003cextra\\u003e\\u003c\\u002fextra\\u003e\",\"legendgroup\":\"John\",\"marker\":{\"color\":\"#ab63fa\",\"symbol\":\"circle\"},\"mode\":\"markers\",\"name\":\"John\",\"orientation\":\"v\",\"showlegend\":true,\"x\":[4],\"xaxis\":\"x\",\"y\":[71.42857142857143],\"yaxis\":\"y\",\"type\":\"scatter\"},{\"hovertemplate\":\"firstname=Jordan\\u003cbr\\u003eShot Distance=%{x}\\u003cbr\\u003ePercentage of Made Shots=%{y}\\u003cextra\\u003e\\u003c\\u002fextra\\u003e\",\"legendgroup\":\"Jordan\",\"marker\":{\"color\":\"#FFA15A\",\"symbol\":\"circle\"},\"mode\":\"markers\",\"name\":\"Jordan\",\"orientation\":\"v\",\"showlegend\":true,\"x\":[2,4],\"xaxis\":\"x\",\"y\":[0.0,0.0],\"yaxis\":\"y\",\"type\":\"scatter\"},{\"hovertemplate\":\"firstname=Joshua G\\u003cbr\\u003eShot Distance=%{x}\\u003cbr\\u003ePercentage of Made Shots=%{y}\\u003cextra\\u003e\\u003c\\u002fextra\\u003e\",\"legendgroup\":\"Joshua G\",\"marker\":{\"color\":\"#19d3f3\",\"symbol\":\"circle\"},\"mode\":\"markers\",\"name\":\"Joshua G\",\"orientation\":\"v\",\"showlegend\":true,\"x\":[8,10],\"xaxis\":\"x\",\"y\":[0.0,0.0],\"yaxis\":\"y\",\"type\":\"scatter\"},{\"hovertemplate\":\"firstname=Josip\\u003cbr\\u003eShot Distance=%{x}\\u003cbr\\u003ePercentage of Made Shots=%{y}\\u003cextra\\u003e\\u003c\\u002fextra\\u003e\",\"legendgroup\":\"Josip\",\"marker\":{\"color\":\"#FF6692\",\"symbol\":\"circle\"},\"mode\":\"markers\",\"name\":\"Josip\",\"orientation\":\"v\",\"showlegend\":true,\"x\":[2],\"xaxis\":\"x\",\"y\":[100.0],\"yaxis\":\"y\",\"type\":\"scatter\"},{\"hovertemplate\":\"firstname=Julie\\u003cbr\\u003eShot Distance=%{x}\\u003cbr\\u003ePercentage of Made Shots=%{y}\\u003cextra\\u003e\\u003c\\u002fextra\\u003e\",\"legendgroup\":\"Julie\",\"marker\":{\"color\":\"#B6E880\",\"symbol\":\"circle\"},\"mode\":\"markers\",\"name\":\"Julie\",\"orientation\":\"v\",\"showlegend\":true,\"x\":[2],\"xaxis\":\"x\",\"y\":[100.0],\"yaxis\":\"y\",\"type\":\"scatter\"},{\"hovertemplate\":\"firstname=KELVIN\\u003cbr\\u003eShot Distance=%{x}\\u003cbr\\u003ePercentage of Made Shots=%{y}\\u003cextra\\u003e\\u003c\\u002fextra\\u003e\",\"legendgroup\":\"KELVIN\",\"marker\":{\"color\":\"#FF97FF\",\"symbol\":\"circle\"},\"mode\":\"markers\",\"name\":\"KELVIN\",\"orientation\":\"v\",\"showlegend\":true,\"x\":[4,8],\"xaxis\":\"x\",\"y\":[0.0,0.0],\"yaxis\":\"y\",\"type\":\"scatter\"},{\"hovertemplate\":\"firstname=Kal\\u003cbr\\u003eShot Distance=%{x}\\u003cbr\\u003ePercentage of Made Shots=%{y}\\u003cextra\\u003e\\u003c\\u002fextra\\u003e\",\"legendgroup\":\"Kal\",\"marker\":{\"color\":\"#FECB52\",\"symbol\":\"circle\"},\"mode\":\"markers\",\"name\":\"Kal\",\"orientation\":\"v\",\"showlegend\":true,\"x\":[6],\"xaxis\":\"x\",\"y\":[100.0],\"yaxis\":\"y\",\"type\":\"scatter\"},{\"hovertemplate\":\"firstname=Kate\\u003cbr\\u003eShot Distance=%{x}\\u003cbr\\u003ePercentage of Made Shots=%{y}\\u003cextra\\u003e\\u003c\\u002fextra\\u003e\",\"legendgroup\":\"Kate\",\"marker\":{\"color\":\"#636efa\",\"symbol\":\"circle\"},\"mode\":\"markers\",\"name\":\"Kate\",\"orientation\":\"v\",\"showlegend\":true,\"x\":[10],\"xaxis\":\"x\",\"y\":[0.0],\"yaxis\":\"y\",\"type\":\"scatter\"},{\"hovertemplate\":\"firstname=Kelly\\u003cbr\\u003eShot Distance=%{x}\\u003cbr\\u003ePercentage of Made Shots=%{y}\\u003cextra\\u003e\\u003c\\u002fextra\\u003e\",\"legendgroup\":\"Kelly\",\"marker\":{\"color\":\"#EF553B\",\"symbol\":\"circle\"},\"mode\":\"markers\",\"name\":\"Kelly\",\"orientation\":\"v\",\"showlegend\":true,\"x\":[4],\"xaxis\":\"x\",\"y\":[0.0],\"yaxis\":\"y\",\"type\":\"scatter\"},{\"hovertemplate\":\"firstname=Kevin\\u003cbr\\u003eShot Distance=%{x}\\u003cbr\\u003ePercentage of Made Shots=%{y}\\u003cextra\\u003e\\u003c\\u002fextra\\u003e\",\"legendgroup\":\"Kevin\",\"marker\":{\"color\":\"#00cc96\",\"symbol\":\"circle\"},\"mode\":\"markers\",\"name\":\"Kevin\",\"orientation\":\"v\",\"showlegend\":true,\"x\":[6],\"xaxis\":\"x\",\"y\":[100.0],\"yaxis\":\"y\",\"type\":\"scatter\"},{\"hovertemplate\":\"firstname=Kirsten\\u003cbr\\u003eShot Distance=%{x}\\u003cbr\\u003ePercentage of Made Shots=%{y}\\u003cextra\\u003e\\u003c\\u002fextra\\u003e\",\"legendgroup\":\"Kirsten\",\"marker\":{\"color\":\"#ab63fa\",\"symbol\":\"circle\"},\"mode\":\"markers\",\"name\":\"Kirsten\",\"orientation\":\"v\",\"showlegend\":true,\"x\":[6],\"xaxis\":\"x\",\"y\":[0.0],\"yaxis\":\"y\",\"type\":\"scatter\"},{\"hovertemplate\":\"firstname=Kobe\\u003cbr\\u003eShot Distance=%{x}\\u003cbr\\u003ePercentage of Made Shots=%{y}\\u003cextra\\u003e\\u003c\\u002fextra\\u003e\",\"legendgroup\":\"Kobe\",\"marker\":{\"color\":\"#FFA15A\",\"symbol\":\"circle\"},\"mode\":\"markers\",\"name\":\"Kobe\",\"orientation\":\"v\",\"showlegend\":true,\"x\":[4,6,8,10],\"xaxis\":\"x\",\"y\":[100.0,100.0,100.0,100.0],\"yaxis\":\"y\",\"type\":\"scatter\"},{\"hovertemplate\":\"firstname=Kylie\\u003cbr\\u003eShot Distance=%{x}\\u003cbr\\u003ePercentage of Made Shots=%{y}\\u003cextra\\u003e\\u003c\\u002fextra\\u003e\",\"legendgroup\":\"Kylie\",\"marker\":{\"color\":\"#19d3f3\",\"symbol\":\"circle\"},\"mode\":\"markers\",\"name\":\"Kylie\",\"orientation\":\"v\",\"showlegend\":true,\"x\":[10],\"xaxis\":\"x\",\"y\":[0.0],\"yaxis\":\"y\",\"type\":\"scatter\"},{\"hovertemplate\":\"firstname=LN\\u003cbr\\u003eShot Distance=%{x}\\u003cbr\\u003ePercentage of Made Shots=%{y}\\u003cextra\\u003e\\u003c\\u002fextra\\u003e\",\"legendgroup\":\"LN\",\"marker\":{\"color\":\"#FF6692\",\"symbol\":\"circle\"},\"mode\":\"markers\",\"name\":\"LN\",\"orientation\":\"v\",\"showlegend\":true,\"x\":[8],\"xaxis\":\"x\",\"y\":[0.0],\"yaxis\":\"y\",\"type\":\"scatter\"},{\"hovertemplate\":\"firstname=Lebron\\u003cbr\\u003eShot Distance=%{x}\\u003cbr\\u003ePercentage of Made Shots=%{y}\\u003cextra\\u003e\\u003c\\u002fextra\\u003e\",\"legendgroup\":\"Lebron\",\"marker\":{\"color\":\"#B6E880\",\"symbol\":\"circle\"},\"mode\":\"markers\",\"name\":\"Lebron\",\"orientation\":\"v\",\"showlegend\":true,\"x\":[10],\"xaxis\":\"x\",\"y\":[100.0],\"yaxis\":\"y\",\"type\":\"scatter\"},{\"hovertemplate\":\"firstname=Lesley\\u003cbr\\u003eShot Distance=%{x}\\u003cbr\\u003ePercentage of Made Shots=%{y}\\u003cextra\\u003e\\u003c\\u002fextra\\u003e\",\"legendgroup\":\"Lesley\",\"marker\":{\"color\":\"#FF97FF\",\"symbol\":\"circle\"},\"mode\":\"markers\",\"name\":\"Lesley\",\"orientation\":\"v\",\"showlegend\":true,\"x\":[4],\"xaxis\":\"x\",\"y\":[100.0],\"yaxis\":\"y\",\"type\":\"scatter\"},{\"hovertemplate\":\"firstname=MG\\u003cbr\\u003eShot Distance=%{x}\\u003cbr\\u003ePercentage of Made Shots=%{y}\\u003cextra\\u003e\\u003c\\u002fextra\\u003e\",\"legendgroup\":\"MG\",\"marker\":{\"color\":\"#FECB52\",\"symbol\":\"circle\"},\"mode\":\"markers\",\"name\":\"MG\",\"orientation\":\"v\",\"showlegend\":true,\"x\":[2,8,10],\"xaxis\":\"x\",\"y\":[100.0,60.0,66.66666666666666],\"yaxis\":\"y\",\"type\":\"scatter\"},{\"hovertemplate\":\"firstname=MPT\\u003cbr\\u003eShot Distance=%{x}\\u003cbr\\u003ePercentage of Made Shots=%{y}\\u003cextra\\u003e\\u003c\\u002fextra\\u003e\",\"legendgroup\":\"MPT\",\"marker\":{\"color\":\"#636efa\",\"symbol\":\"circle\"},\"mode\":\"markers\",\"name\":\"MPT\",\"orientation\":\"v\",\"showlegend\":true,\"x\":[4],\"xaxis\":\"x\",\"y\":[25.0],\"yaxis\":\"y\",\"type\":\"scatter\"},{\"hovertemplate\":\"firstname=Mac\\u003cbr\\u003eShot Distance=%{x}\\u003cbr\\u003ePercentage of Made Shots=%{y}\\u003cextra\\u003e\\u003c\\u002fextra\\u003e\",\"legendgroup\":\"Mac\",\"marker\":{\"color\":\"#EF553B\",\"symbol\":\"circle\"},\"mode\":\"markers\",\"name\":\"Mac\",\"orientation\":\"v\",\"showlegend\":true,\"x\":[6],\"xaxis\":\"x\",\"y\":[100.0],\"yaxis\":\"y\",\"type\":\"scatter\"},{\"hovertemplate\":\"firstname=Marco\\u003cbr\\u003eShot Distance=%{x}\\u003cbr\\u003ePercentage of Made Shots=%{y}\\u003cextra\\u003e\\u003c\\u002fextra\\u003e\",\"legendgroup\":\"Marco\",\"marker\":{\"color\":\"#00cc96\",\"symbol\":\"circle\"},\"mode\":\"markers\",\"name\":\"Marco\",\"orientation\":\"v\",\"showlegend\":true,\"x\":[6],\"xaxis\":\"x\",\"y\":[100.0],\"yaxis\":\"y\",\"type\":\"scatter\"},{\"hovertemplate\":\"firstname=Marina C\\u003cbr\\u003eShot Distance=%{x}\\u003cbr\\u003ePercentage of Made Shots=%{y}\\u003cextra\\u003e\\u003c\\u002fextra\\u003e\",\"legendgroup\":\"Marina C\",\"marker\":{\"color\":\"#ab63fa\",\"symbol\":\"circle\"},\"mode\":\"markers\",\"name\":\"Marina C\",\"orientation\":\"v\",\"showlegend\":true,\"x\":[4,6],\"xaxis\":\"x\",\"y\":[40.0,54.54545454545454],\"yaxis\":\"y\",\"type\":\"scatter\"},{\"hovertemplate\":\"firstname=Marjoire\\u003cbr\\u003eShot Distance=%{x}\\u003cbr\\u003ePercentage of Made Shots=%{y}\\u003cextra\\u003e\\u003c\\u002fextra\\u003e\",\"legendgroup\":\"Marjoire\",\"marker\":{\"color\":\"#FFA15A\",\"symbol\":\"circle\"},\"mode\":\"markers\",\"name\":\"Marjoire\",\"orientation\":\"v\",\"showlegend\":true,\"x\":[4,6],\"xaxis\":\"x\",\"y\":[0.0,0.0],\"yaxis\":\"y\",\"type\":\"scatter\"},{\"hovertemplate\":\"firstname=Marjorie\\u003cbr\\u003eShot Distance=%{x}\\u003cbr\\u003ePercentage of Made Shots=%{y}\\u003cextra\\u003e\\u003c\\u002fextra\\u003e\",\"legendgroup\":\"Marjorie\",\"marker\":{\"color\":\"#19d3f3\",\"symbol\":\"circle\"},\"mode\":\"markers\",\"name\":\"Marjorie\",\"orientation\":\"v\",\"showlegend\":true,\"x\":[2,4,6,8,10],\"xaxis\":\"x\",\"y\":[100.0,50.0,0.0,66.66666666666666,0.0],\"yaxis\":\"y\",\"type\":\"scatter\"},{\"hovertemplate\":\"firstname=Marjorie \\u003cbr\\u003eShot Distance=%{x}\\u003cbr\\u003ePercentage of Made Shots=%{y}\\u003cextra\\u003e\\u003c\\u002fextra\\u003e\",\"legendgroup\":\"Marjorie \",\"marker\":{\"color\":\"#FF6692\",\"symbol\":\"circle\"},\"mode\":\"markers\",\"name\":\"Marjorie \",\"orientation\":\"v\",\"showlegend\":true,\"x\":[2,4,6,8,10],\"xaxis\":\"x\",\"y\":[100.0,100.0,100.0,0.0,0.0],\"yaxis\":\"y\",\"type\":\"scatter\"},{\"hovertemplate\":\"firstname=Mark\\u003cbr\\u003eShot Distance=%{x}\\u003cbr\\u003ePercentage of Made Shots=%{y}\\u003cextra\\u003e\\u003c\\u002fextra\\u003e\",\"legendgroup\":\"Mark\",\"marker\":{\"color\":\"#B6E880\",\"symbol\":\"circle\"},\"mode\":\"markers\",\"name\":\"Mark\",\"orientation\":\"v\",\"showlegend\":true,\"x\":[6],\"xaxis\":\"x\",\"y\":[66.66666666666666],\"yaxis\":\"y\",\"type\":\"scatter\"},{\"hovertemplate\":\"firstname=Meagan\\u003cbr\\u003eShot Distance=%{x}\\u003cbr\\u003ePercentage of Made Shots=%{y}\\u003cextra\\u003e\\u003c\\u002fextra\\u003e\",\"legendgroup\":\"Meagan\",\"marker\":{\"color\":\"#FF97FF\",\"symbol\":\"circle\"},\"mode\":\"markers\",\"name\":\"Meagan\",\"orientation\":\"v\",\"showlegend\":true,\"x\":[2],\"xaxis\":\"x\",\"y\":[0.0],\"yaxis\":\"y\",\"type\":\"scatter\"},{\"hovertemplate\":\"firstname=Michelle\\u003cbr\\u003eShot Distance=%{x}\\u003cbr\\u003ePercentage of Made Shots=%{y}\\u003cextra\\u003e\\u003c\\u002fextra\\u003e\",\"legendgroup\":\"Michelle\",\"marker\":{\"color\":\"#FECB52\",\"symbol\":\"circle\"},\"mode\":\"markers\",\"name\":\"Michelle\",\"orientation\":\"v\",\"showlegend\":true,\"x\":[6,8],\"xaxis\":\"x\",\"y\":[0.0,0.0],\"yaxis\":\"y\",\"type\":\"scatter\"},{\"hovertemplate\":\"firstname=Mike\\u003cbr\\u003eShot Distance=%{x}\\u003cbr\\u003ePercentage of Made Shots=%{y}\\u003cextra\\u003e\\u003c\\u002fextra\\u003e\",\"legendgroup\":\"Mike\",\"marker\":{\"color\":\"#636efa\",\"symbol\":\"circle\"},\"mode\":\"markers\",\"name\":\"Mike\",\"orientation\":\"v\",\"showlegend\":true,\"x\":[8,10],\"xaxis\":\"x\",\"y\":[0.0,0.0],\"yaxis\":\"y\",\"type\":\"scatter\"},{\"hovertemplate\":\"firstname=NP\\u003cbr\\u003eShot Distance=%{x}\\u003cbr\\u003ePercentage of Made Shots=%{y}\\u003cextra\\u003e\\u003c\\u002fextra\\u003e\",\"legendgroup\":\"NP\",\"marker\":{\"color\":\"#EF553B\",\"symbol\":\"circle\"},\"mode\":\"markers\",\"name\":\"NP\",\"orientation\":\"v\",\"showlegend\":true,\"x\":[4,10],\"xaxis\":\"x\",\"y\":[100.0,0.0],\"yaxis\":\"y\",\"type\":\"scatter\"},{\"hovertemplate\":\"firstname=Nathan\\u003cbr\\u003eShot Distance=%{x}\\u003cbr\\u003ePercentage of Made Shots=%{y}\\u003cextra\\u003e\\u003c\\u002fextra\\u003e\",\"legendgroup\":\"Nathan\",\"marker\":{\"color\":\"#00cc96\",\"symbol\":\"circle\"},\"mode\":\"markers\",\"name\":\"Nathan\",\"orientation\":\"v\",\"showlegend\":true,\"x\":[2,8],\"xaxis\":\"x\",\"y\":[100.0,0.0],\"yaxis\":\"y\",\"type\":\"scatter\"},{\"hovertemplate\":\"firstname=Naya\\u003cbr\\u003eShot Distance=%{x}\\u003cbr\\u003ePercentage of Made Shots=%{y}\\u003cextra\\u003e\\u003c\\u002fextra\\u003e\",\"legendgroup\":\"Naya\",\"marker\":{\"color\":\"#ab63fa\",\"symbol\":\"circle\"},\"mode\":\"markers\",\"name\":\"Naya\",\"orientation\":\"v\",\"showlegend\":true,\"x\":[2,4,6,8,10],\"xaxis\":\"x\",\"y\":[100.0,100.0,0.0,25.0,0.0],\"yaxis\":\"y\",\"type\":\"scatter\"},{\"hovertemplate\":\"firstname=Nico\\u003cbr\\u003eShot Distance=%{x}\\u003cbr\\u003ePercentage of Made Shots=%{y}\\u003cextra\\u003e\\u003c\\u002fextra\\u003e\",\"legendgroup\":\"Nico\",\"marker\":{\"color\":\"#FFA15A\",\"symbol\":\"circle\"},\"mode\":\"markers\",\"name\":\"Nico\",\"orientation\":\"v\",\"showlegend\":true,\"x\":[10],\"xaxis\":\"x\",\"y\":[42.857142857142854],\"yaxis\":\"y\",\"type\":\"scatter\"},{\"hovertemplate\":\"firstname=Omar\\u003cbr\\u003eShot Distance=%{x}\\u003cbr\\u003ePercentage of Made Shots=%{y}\\u003cextra\\u003e\\u003c\\u002fextra\\u003e\",\"legendgroup\":\"Omar\",\"marker\":{\"color\":\"#19d3f3\",\"symbol\":\"circle\"},\"mode\":\"markers\",\"name\":\"Omar\",\"orientation\":\"v\",\"showlegend\":true,\"x\":[4],\"xaxis\":\"x\",\"y\":[100.0],\"yaxis\":\"y\",\"type\":\"scatter\"},{\"hovertemplate\":\"firstname=PB\\u003cbr\\u003eShot Distance=%{x}\\u003cbr\\u003ePercentage of Made Shots=%{y}\\u003cextra\\u003e\\u003c\\u002fextra\\u003e\",\"legendgroup\":\"PB\",\"marker\":{\"color\":\"#FF6692\",\"symbol\":\"circle\"},\"mode\":\"markers\",\"name\":\"PB\",\"orientation\":\"v\",\"showlegend\":true,\"x\":[2,4,6,8],\"xaxis\":\"x\",\"y\":[100.0,100.0,50.0,0.0],\"yaxis\":\"y\",\"type\":\"scatter\"},{\"hovertemplate\":\"firstname=Pooja\\u003cbr\\u003eShot Distance=%{x}\\u003cbr\\u003ePercentage of Made Shots=%{y}\\u003cextra\\u003e\\u003c\\u002fextra\\u003e\",\"legendgroup\":\"Pooja\",\"marker\":{\"color\":\"#B6E880\",\"symbol\":\"circle\"},\"mode\":\"markers\",\"name\":\"Pooja\",\"orientation\":\"v\",\"showlegend\":true,\"x\":[6],\"xaxis\":\"x\",\"y\":[0.0],\"yaxis\":\"y\",\"type\":\"scatter\"},{\"hovertemplate\":\"firstname=R.M\\u003cbr\\u003eShot Distance=%{x}\\u003cbr\\u003ePercentage of Made Shots=%{y}\\u003cextra\\u003e\\u003c\\u002fextra\\u003e\",\"legendgroup\":\"R.M\",\"marker\":{\"color\":\"#FF97FF\",\"symbol\":\"circle\"},\"mode\":\"markers\",\"name\":\"R.M\",\"orientation\":\"v\",\"showlegend\":true,\"x\":[2,4,8,10],\"xaxis\":\"x\",\"y\":[100.0,100.0,66.66666666666666,22.22222222222222],\"yaxis\":\"y\",\"type\":\"scatter\"},{\"hovertemplate\":\"firstname=Rebecca\\u003cbr\\u003eShot Distance=%{x}\\u003cbr\\u003ePercentage of Made Shots=%{y}\\u003cextra\\u003e\\u003c\\u002fextra\\u003e\",\"legendgroup\":\"Rebecca\",\"marker\":{\"color\":\"#FECB52\",\"symbol\":\"circle\"},\"mode\":\"markers\",\"name\":\"Rebecca\",\"orientation\":\"v\",\"showlegend\":true,\"x\":[8],\"xaxis\":\"x\",\"y\":[100.0],\"yaxis\":\"y\",\"type\":\"scatter\"},{\"hovertemplate\":\"firstname=Riley\\u003cbr\\u003eShot Distance=%{x}\\u003cbr\\u003ePercentage of Made Shots=%{y}\\u003cextra\\u003e\\u003c\\u002fextra\\u003e\",\"legendgroup\":\"Riley\",\"marker\":{\"color\":\"#636efa\",\"symbol\":\"circle\"},\"mode\":\"markers\",\"name\":\"Riley\",\"orientation\":\"v\",\"showlegend\":true,\"x\":[4,10],\"xaxis\":\"x\",\"y\":[0.0,0.0],\"yaxis\":\"y\",\"type\":\"scatter\"},{\"hovertemplate\":\"firstname=Rolland\\u003cbr\\u003eShot Distance=%{x}\\u003cbr\\u003ePercentage of Made Shots=%{y}\\u003cextra\\u003e\\u003c\\u002fextra\\u003e\",\"legendgroup\":\"Rolland\",\"marker\":{\"color\":\"#EF553B\",\"symbol\":\"circle\"},\"mode\":\"markers\",\"name\":\"Rolland\",\"orientation\":\"v\",\"showlegend\":true,\"x\":[2,4,6,8],\"xaxis\":\"x\",\"y\":[0.0,0.0,0.0,100.0],\"yaxis\":\"y\",\"type\":\"scatter\"},{\"hovertemplate\":\"firstname=Ryan\\u003cbr\\u003eShot Distance=%{x}\\u003cbr\\u003ePercentage of Made Shots=%{y}\\u003cextra\\u003e\\u003c\\u002fextra\\u003e\",\"legendgroup\":\"Ryan\",\"marker\":{\"color\":\"#00cc96\",\"symbol\":\"circle\"},\"mode\":\"markers\",\"name\":\"Ryan\",\"orientation\":\"v\",\"showlegend\":true,\"x\":[4,10],\"xaxis\":\"x\",\"y\":[0.0,0.0],\"yaxis\":\"y\",\"type\":\"scatter\"},{\"hovertemplate\":\"firstname=SB\\u003cbr\\u003eShot Distance=%{x}\\u003cbr\\u003ePercentage of Made Shots=%{y}\\u003cextra\\u003e\\u003c\\u002fextra\\u003e\",\"legendgroup\":\"SB\",\"marker\":{\"color\":\"#ab63fa\",\"symbol\":\"circle\"},\"mode\":\"markers\",\"name\":\"SB\",\"orientation\":\"v\",\"showlegend\":true,\"x\":[4,8],\"xaxis\":\"x\",\"y\":[100.0,0.0],\"yaxis\":\"y\",\"type\":\"scatter\"},{\"hovertemplate\":\"firstname=Scooter\\u003cbr\\u003eShot Distance=%{x}\\u003cbr\\u003ePercentage of Made Shots=%{y}\\u003cextra\\u003e\\u003c\\u002fextra\\u003e\",\"legendgroup\":\"Scooter\",\"marker\":{\"color\":\"#FFA15A\",\"symbol\":\"circle\"},\"mode\":\"markers\",\"name\":\"Scooter\",\"orientation\":\"v\",\"showlegend\":true,\"x\":[2],\"xaxis\":\"x\",\"y\":[0.0],\"yaxis\":\"y\",\"type\":\"scatter\"},{\"hovertemplate\":\"firstname=Scooter \\u003cbr\\u003eShot Distance=%{x}\\u003cbr\\u003ePercentage of Made Shots=%{y}\\u003cextra\\u003e\\u003c\\u002fextra\\u003e\",\"legendgroup\":\"Scooter \",\"marker\":{\"color\":\"#19d3f3\",\"symbol\":\"circle\"},\"mode\":\"markers\",\"name\":\"Scooter \",\"orientation\":\"v\",\"showlegend\":true,\"x\":[4,6],\"xaxis\":\"x\",\"y\":[0.0,0.0],\"yaxis\":\"y\",\"type\":\"scatter\"},{\"hovertemplate\":\"firstname=Scott\\u003cbr\\u003eShot Distance=%{x}\\u003cbr\\u003ePercentage of Made Shots=%{y}\\u003cextra\\u003e\\u003c\\u002fextra\\u003e\",\"legendgroup\":\"Scott\",\"marker\":{\"color\":\"#FF6692\",\"symbol\":\"circle\"},\"mode\":\"markers\",\"name\":\"Scott\",\"orientation\":\"v\",\"showlegend\":true,\"x\":[2,4,6,8,10],\"xaxis\":\"x\",\"y\":[0.0,0.0,0.0,0.0,0.0],\"yaxis\":\"y\",\"type\":\"scatter\"},{\"hovertemplate\":\"firstname=Simon\\u003cbr\\u003eShot Distance=%{x}\\u003cbr\\u003ePercentage of Made Shots=%{y}\\u003cextra\\u003e\\u003c\\u002fextra\\u003e\",\"legendgroup\":\"Simon\",\"marker\":{\"color\":\"#B6E880\",\"symbol\":\"circle\"},\"mode\":\"markers\",\"name\":\"Simon\",\"orientation\":\"v\",\"showlegend\":true,\"x\":[10],\"xaxis\":\"x\",\"y\":[100.0],\"yaxis\":\"y\",\"type\":\"scatter\"},{\"hovertemplate\":\"firstname=Sophia\\u003cbr\\u003eShot Distance=%{x}\\u003cbr\\u003ePercentage of Made Shots=%{y}\\u003cextra\\u003e\\u003c\\u002fextra\\u003e\",\"legendgroup\":\"Sophia\",\"marker\":{\"color\":\"#FF97FF\",\"symbol\":\"circle\"},\"mode\":\"markers\",\"name\":\"Sophia\",\"orientation\":\"v\",\"showlegend\":true,\"x\":[2,4,6,8,10],\"xaxis\":\"x\",\"y\":[100.0,50.0,50.0,100.0,100.0],\"yaxis\":\"y\",\"type\":\"scatter\"},{\"hovertemplate\":\"firstname=Sophia \\u003cbr\\u003eShot Distance=%{x}\\u003cbr\\u003ePercentage of Made Shots=%{y}\\u003cextra\\u003e\\u003c\\u002fextra\\u003e\",\"legendgroup\":\"Sophia \",\"marker\":{\"color\":\"#FECB52\",\"symbol\":\"circle\"},\"mode\":\"markers\",\"name\":\"Sophia \",\"orientation\":\"v\",\"showlegend\":true,\"x\":[2,4,6,8],\"xaxis\":\"x\",\"y\":[100.0,100.0,100.0,50.0],\"yaxis\":\"y\",\"type\":\"scatter\"},{\"hovertemplate\":\"firstname=Stefano\\u003cbr\\u003eShot Distance=%{x}\\u003cbr\\u003ePercentage of Made Shots=%{y}\\u003cextra\\u003e\\u003c\\u002fextra\\u003e\",\"legendgroup\":\"Stefano\",\"marker\":{\"color\":\"#636efa\",\"symbol\":\"circle\"},\"mode\":\"markers\",\"name\":\"Stefano\",\"orientation\":\"v\",\"showlegend\":true,\"x\":[8,10],\"xaxis\":\"x\",\"y\":[100.0,33.33333333333333],\"yaxis\":\"y\",\"type\":\"scatter\"},{\"hovertemplate\":\"firstname=Tainy\\u003cbr\\u003eShot Distance=%{x}\\u003cbr\\u003ePercentage of Made Shots=%{y}\\u003cextra\\u003e\\u003c\\u002fextra\\u003e\",\"legendgroup\":\"Tainy\",\"marker\":{\"color\":\"#EF553B\",\"symbol\":\"circle\"},\"mode\":\"markers\",\"name\":\"Tainy\",\"orientation\":\"v\",\"showlegend\":true,\"x\":[2,8],\"xaxis\":\"x\",\"y\":[100.0,0.0],\"yaxis\":\"y\",\"type\":\"scatter\"},{\"hovertemplate\":\"firstname=Terry\\u003cbr\\u003eShot Distance=%{x}\\u003cbr\\u003ePercentage of Made Shots=%{y}\\u003cextra\\u003e\\u003c\\u002fextra\\u003e\",\"legendgroup\":\"Terry\",\"marker\":{\"color\":\"#00cc96\",\"symbol\":\"circle\"},\"mode\":\"markers\",\"name\":\"Terry\",\"orientation\":\"v\",\"showlegend\":true,\"x\":[8],\"xaxis\":\"x\",\"y\":[100.0],\"yaxis\":\"y\",\"type\":\"scatter\"},{\"hovertemplate\":\"firstname=Terry \\u003cbr\\u003eShot Distance=%{x}\\u003cbr\\u003ePercentage of Made Shots=%{y}\\u003cextra\\u003e\\u003c\\u002fextra\\u003e\",\"legendgroup\":\"Terry \",\"marker\":{\"color\":\"#ab63fa\",\"symbol\":\"circle\"},\"mode\":\"markers\",\"name\":\"Terry \",\"orientation\":\"v\",\"showlegend\":true,\"x\":[8],\"xaxis\":\"x\",\"y\":[25.0],\"yaxis\":\"y\",\"type\":\"scatter\"},{\"hovertemplate\":\"firstname=VSS\\u003cbr\\u003eShot Distance=%{x}\\u003cbr\\u003ePercentage of Made Shots=%{y}\\u003cextra\\u003e\\u003c\\u002fextra\\u003e\",\"legendgroup\":\"VSS\",\"marker\":{\"color\":\"#FFA15A\",\"symbol\":\"circle\"},\"mode\":\"markers\",\"name\":\"VSS\",\"orientation\":\"v\",\"showlegend\":true,\"x\":[2,4],\"xaxis\":\"x\",\"y\":[100.0,0.0],\"yaxis\":\"y\",\"type\":\"scatter\"},{\"hovertemplate\":\"firstname=ale\\u003cbr\\u003eShot Distance=%{x}\\u003cbr\\u003ePercentage of Made Shots=%{y}\\u003cextra\\u003e\\u003c\\u002fextra\\u003e\",\"legendgroup\":\"ale\",\"marker\":{\"color\":\"#19d3f3\",\"symbol\":\"circle\"},\"mode\":\"markers\",\"name\":\"ale\",\"orientation\":\"v\",\"showlegend\":true,\"x\":[2,4,6,8,10],\"xaxis\":\"x\",\"y\":[57.14285714285714,66.66666666666666,50.0,50.0,100.0],\"yaxis\":\"y\",\"type\":\"scatter\"},{\"hovertemplate\":\"firstname=ben\\u003cbr\\u003eShot Distance=%{x}\\u003cbr\\u003ePercentage of Made Shots=%{y}\\u003cextra\\u003e\\u003c\\u002fextra\\u003e\",\"legendgroup\":\"ben\",\"marker\":{\"color\":\"#FF6692\",\"symbol\":\"circle\"},\"mode\":\"markers\",\"name\":\"ben\",\"orientation\":\"v\",\"showlegend\":true,\"x\":[2,4,6,8,10],\"xaxis\":\"x\",\"y\":[0.0,0.0,50.0,0.0,0.0],\"yaxis\":\"y\",\"type\":\"scatter\"},{\"hovertemplate\":\"firstname=ben \\u003cbr\\u003eShot Distance=%{x}\\u003cbr\\u003ePercentage of Made Shots=%{y}\\u003cextra\\u003e\\u003c\\u002fextra\\u003e\",\"legendgroup\":\"ben \",\"marker\":{\"color\":\"#B6E880\",\"symbol\":\"circle\"},\"mode\":\"markers\",\"name\":\"ben \",\"orientation\":\"v\",\"showlegend\":true,\"x\":[8,10],\"xaxis\":\"x\",\"y\":[0.0,0.0],\"yaxis\":\"y\",\"type\":\"scatter\"},{\"hovertemplate\":\"firstname=benjamin \\u003cbr\\u003eShot Distance=%{x}\\u003cbr\\u003ePercentage of Made Shots=%{y}\\u003cextra\\u003e\\u003c\\u002fextra\\u003e\",\"legendgroup\":\"benjamin \",\"marker\":{\"color\":\"#FF97FF\",\"symbol\":\"circle\"},\"mode\":\"markers\",\"name\":\"benjamin \",\"orientation\":\"v\",\"showlegend\":true,\"x\":[8,10],\"xaxis\":\"x\",\"y\":[0.0,0.0],\"yaxis\":\"y\",\"type\":\"scatter\"},{\"hovertemplate\":\"firstname=dyaln\\u003cbr\\u003eShot Distance=%{x}\\u003cbr\\u003ePercentage of Made Shots=%{y}\\u003cextra\\u003e\\u003c\\u002fextra\\u003e\",\"legendgroup\":\"dyaln\",\"marker\":{\"color\":\"#FECB52\",\"symbol\":\"circle\"},\"mode\":\"markers\",\"name\":\"dyaln\",\"orientation\":\"v\",\"showlegend\":true,\"x\":[6],\"xaxis\":\"x\",\"y\":[100.0],\"yaxis\":\"y\",\"type\":\"scatter\"},{\"hovertemplate\":\"firstname=dylan\\u003cbr\\u003eShot Distance=%{x}\\u003cbr\\u003ePercentage of Made Shots=%{y}\\u003cextra\\u003e\\u003c\\u002fextra\\u003e\",\"legendgroup\":\"dylan\",\"marker\":{\"color\":\"#636efa\",\"symbol\":\"circle\"},\"mode\":\"markers\",\"name\":\"dylan\",\"orientation\":\"v\",\"showlegend\":true,\"x\":[2,10],\"xaxis\":\"x\",\"y\":[100.0,33.33333333333333],\"yaxis\":\"y\",\"type\":\"scatter\"},{\"hovertemplate\":\"firstname=dylan \\u003cbr\\u003eShot Distance=%{x}\\u003cbr\\u003ePercentage of Made Shots=%{y}\\u003cextra\\u003e\\u003c\\u002fextra\\u003e\",\"legendgroup\":\"dylan \",\"marker\":{\"color\":\"#EF553B\",\"symbol\":\"circle\"},\"mode\":\"markers\",\"name\":\"dylan \",\"orientation\":\"v\",\"showlegend\":true,\"x\":[6,8,10],\"xaxis\":\"x\",\"y\":[0.0,0.0,0.0],\"yaxis\":\"y\",\"type\":\"scatter\"},{\"hovertemplate\":\"firstname=jacob\\u003cbr\\u003eShot Distance=%{x}\\u003cbr\\u003ePercentage of Made Shots=%{y}\\u003cextra\\u003e\\u003c\\u002fextra\\u003e\",\"legendgroup\":\"jacob\",\"marker\":{\"color\":\"#00cc96\",\"symbol\":\"circle\"},\"mode\":\"markers\",\"name\":\"jacob\",\"orientation\":\"v\",\"showlegend\":true,\"x\":[10],\"xaxis\":\"x\",\"y\":[0.0],\"yaxis\":\"y\",\"type\":\"scatter\"},{\"hovertemplate\":\"firstname=jhustin\\u003cbr\\u003eShot Distance=%{x}\\u003cbr\\u003ePercentage of Made Shots=%{y}\\u003cextra\\u003e\\u003c\\u002fextra\\u003e\",\"legendgroup\":\"jhustin\",\"marker\":{\"color\":\"#ab63fa\",\"symbol\":\"circle\"},\"mode\":\"markers\",\"name\":\"jhustin\",\"orientation\":\"v\",\"showlegend\":true,\"x\":[2],\"xaxis\":\"x\",\"y\":[100.0],\"yaxis\":\"y\",\"type\":\"scatter\"},{\"hovertemplate\":\"firstname=josh\\u003cbr\\u003eShot Distance=%{x}\\u003cbr\\u003ePercentage of Made Shots=%{y}\\u003cextra\\u003e\\u003c\\u002fextra\\u003e\",\"legendgroup\":\"josh\",\"marker\":{\"color\":\"#FFA15A\",\"symbol\":\"circle\"},\"mode\":\"markers\",\"name\":\"josh\",\"orientation\":\"v\",\"showlegend\":true,\"x\":[2,4,6,10],\"xaxis\":\"x\",\"y\":[100.0,0.0,0.0,0.0],\"yaxis\":\"y\",\"type\":\"scatter\"},{\"hovertemplate\":\"firstname=josh \\u003cbr\\u003eShot Distance=%{x}\\u003cbr\\u003ePercentage of Made Shots=%{y}\\u003cextra\\u003e\\u003c\\u002fextra\\u003e\",\"legendgroup\":\"josh \",\"marker\":{\"color\":\"#19d3f3\",\"symbol\":\"circle\"},\"mode\":\"markers\",\"name\":\"josh \",\"orientation\":\"v\",\"showlegend\":true,\"x\":[6,8,10],\"xaxis\":\"x\",\"y\":[0.0,0.0,0.0],\"yaxis\":\"y\",\"type\":\"scatter\"},{\"hovertemplate\":\"firstname=kirsten\\u003cbr\\u003eShot Distance=%{x}\\u003cbr\\u003ePercentage of Made Shots=%{y}\\u003cextra\\u003e\\u003c\\u002fextra\\u003e\",\"legendgroup\":\"kirsten\",\"marker\":{\"color\":\"#FF6692\",\"symbol\":\"circle\"},\"mode\":\"markers\",\"name\":\"kirsten\",\"orientation\":\"v\",\"showlegend\":true,\"x\":[6,8],\"xaxis\":\"x\",\"y\":[100.0,50.0],\"yaxis\":\"y\",\"type\":\"scatter\"},{\"hovertemplate\":\"firstname=m.o\\u003cbr\\u003eShot Distance=%{x}\\u003cbr\\u003ePercentage of Made Shots=%{y}\\u003cextra\\u003e\\u003c\\u002fextra\\u003e\",\"legendgroup\":\"m.o\",\"marker\":{\"color\":\"#B6E880\",\"symbol\":\"circle\"},\"mode\":\"markers\",\"name\":\"m.o\",\"orientation\":\"v\",\"showlegend\":true,\"x\":[2,4,8,10],\"xaxis\":\"x\",\"y\":[100.0,100.0,0.0,0.0],\"yaxis\":\"y\",\"type\":\"scatter\"},{\"hovertemplate\":\"firstname=mubarak\\u003cbr\\u003eShot Distance=%{x}\\u003cbr\\u003ePercentage of Made Shots=%{y}\\u003cextra\\u003e\\u003c\\u002fextra\\u003e\",\"legendgroup\":\"mubarak\",\"marker\":{\"color\":\"#FF97FF\",\"symbol\":\"circle\"},\"mode\":\"markers\",\"name\":\"mubarak\",\"orientation\":\"v\",\"showlegend\":true,\"x\":[4,6,8],\"xaxis\":\"x\",\"y\":[100.0,0.0,0.0],\"yaxis\":\"y\",\"type\":\"scatter\"},{\"hovertemplate\":\"firstname=mubarak \\u003cbr\\u003eShot Distance=%{x}\\u003cbr\\u003ePercentage of Made Shots=%{y}\\u003cextra\\u003e\\u003c\\u002fextra\\u003e\",\"legendgroup\":\"mubarak \",\"marker\":{\"color\":\"#FECB52\",\"symbol\":\"circle\"},\"mode\":\"markers\",\"name\":\"mubarak \",\"orientation\":\"v\",\"showlegend\":true,\"x\":[2,6,8,10],\"xaxis\":\"x\",\"y\":[100.0,0.0,0.0,0.0],\"yaxis\":\"y\",\"type\":\"scatter\"},{\"hovertemplate\":\"firstname=naya\\u003cbr\\u003eShot Distance=%{x}\\u003cbr\\u003ePercentage of Made Shots=%{y}\\u003cextra\\u003e\\u003c\\u002fextra\\u003e\",\"legendgroup\":\"naya\",\"marker\":{\"color\":\"#636efa\",\"symbol\":\"circle\"},\"mode\":\"markers\",\"name\":\"naya\",\"orientation\":\"v\",\"showlegend\":true,\"x\":[2,4,6,8,10],\"xaxis\":\"x\",\"y\":[75.0,50.0,100.0,50.0,50.0],\"yaxis\":\"y\",\"type\":\"scatter\"}],                        {\"template\":{\"data\":{\"histogram2dcontour\":[{\"type\":\"histogram2dcontour\",\"colorbar\":{\"outlinewidth\":0,\"ticks\":\"\"},\"colorscale\":[[0.0,\"#0d0887\"],[0.1111111111111111,\"#46039f\"],[0.2222222222222222,\"#7201a8\"],[0.3333333333333333,\"#9c179e\"],[0.4444444444444444,\"#bd3786\"],[0.5555555555555556,\"#d8576b\"],[0.6666666666666666,\"#ed7953\"],[0.7777777777777778,\"#fb9f3a\"],[0.8888888888888888,\"#fdca26\"],[1.0,\"#f0f921\"]]}],\"choropleth\":[{\"type\":\"choropleth\",\"colorbar\":{\"outlinewidth\":0,\"ticks\":\"\"}}],\"histogram2d\":[{\"type\":\"histogram2d\",\"colorbar\":{\"outlinewidth\":0,\"ticks\":\"\"},\"colorscale\":[[0.0,\"#0d0887\"],[0.1111111111111111,\"#46039f\"],[0.2222222222222222,\"#7201a8\"],[0.3333333333333333,\"#9c179e\"],[0.4444444444444444,\"#bd3786\"],[0.5555555555555556,\"#d8576b\"],[0.6666666666666666,\"#ed7953\"],[0.7777777777777778,\"#fb9f3a\"],[0.8888888888888888,\"#fdca26\"],[1.0,\"#f0f921\"]]}],\"heatmap\":[{\"type\":\"heatmap\",\"colorbar\":{\"outlinewidth\":0,\"ticks\":\"\"},\"colorscale\":[[0.0,\"#0d0887\"],[0.1111111111111111,\"#46039f\"],[0.2222222222222222,\"#7201a8\"],[0.3333333333333333,\"#9c179e\"],[0.4444444444444444,\"#bd3786\"],[0.5555555555555556,\"#d8576b\"],[0.6666666666666666,\"#ed7953\"],[0.7777777777777778,\"#fb9f3a\"],[0.8888888888888888,\"#fdca26\"],[1.0,\"#f0f921\"]]}],\"heatmapgl\":[{\"type\":\"heatmapgl\",\"colorbar\":{\"outlinewidth\":0,\"ticks\":\"\"},\"colorscale\":[[0.0,\"#0d0887\"],[0.1111111111111111,\"#46039f\"],[0.2222222222222222,\"#7201a8\"],[0.3333333333333333,\"#9c179e\"],[0.4444444444444444,\"#bd3786\"],[0.5555555555555556,\"#d8576b\"],[0.6666666666666666,\"#ed7953\"],[0.7777777777777778,\"#fb9f3a\"],[0.8888888888888888,\"#fdca26\"],[1.0,\"#f0f921\"]]}],\"contourcarpet\":[{\"type\":\"contourcarpet\",\"colorbar\":{\"outlinewidth\":0,\"ticks\":\"\"}}],\"contour\":[{\"type\":\"contour\",\"colorbar\":{\"outlinewidth\":0,\"ticks\":\"\"},\"colorscale\":[[0.0,\"#0d0887\"],[0.1111111111111111,\"#46039f\"],[0.2222222222222222,\"#7201a8\"],[0.3333333333333333,\"#9c179e\"],[0.4444444444444444,\"#bd3786\"],[0.5555555555555556,\"#d8576b\"],[0.6666666666666666,\"#ed7953\"],[0.7777777777777778,\"#fb9f3a\"],[0.8888888888888888,\"#fdca26\"],[1.0,\"#f0f921\"]]}],\"surface\":[{\"type\":\"surface\",\"colorbar\":{\"outlinewidth\":0,\"ticks\":\"\"},\"colorscale\":[[0.0,\"#0d0887\"],[0.1111111111111111,\"#46039f\"],[0.2222222222222222,\"#7201a8\"],[0.3333333333333333,\"#9c179e\"],[0.4444444444444444,\"#bd3786\"],[0.5555555555555556,\"#d8576b\"],[0.6666666666666666,\"#ed7953\"],[0.7777777777777778,\"#fb9f3a\"],[0.8888888888888888,\"#fdca26\"],[1.0,\"#f0f921\"]]}],\"mesh3d\":[{\"type\":\"mesh3d\",\"colorbar\":{\"outlinewidth\":0,\"ticks\":\"\"}}],\"scatter\":[{\"fillpattern\":{\"fillmode\":\"overlay\",\"size\":10,\"solidity\":0.2},\"type\":\"scatter\"}],\"parcoords\":[{\"type\":\"parcoords\",\"line\":{\"colorbar\":{\"outlinewidth\":0,\"ticks\":\"\"}}}],\"scatterpolargl\":[{\"type\":\"scatterpolargl\",\"marker\":{\"colorbar\":{\"outlinewidth\":0,\"ticks\":\"\"}}}],\"bar\":[{\"error_x\":{\"color\":\"#2a3f5f\"},\"error_y\":{\"color\":\"#2a3f5f\"},\"marker\":{\"line\":{\"color\":\"#E5ECF6\",\"width\":0.5},\"pattern\":{\"fillmode\":\"overlay\",\"size\":10,\"solidity\":0.2}},\"type\":\"bar\"}],\"scattergeo\":[{\"type\":\"scattergeo\",\"marker\":{\"colorbar\":{\"outlinewidth\":0,\"ticks\":\"\"}}}],\"scatterpolar\":[{\"type\":\"scatterpolar\",\"marker\":{\"colorbar\":{\"outlinewidth\":0,\"ticks\":\"\"}}}],\"histogram\":[{\"marker\":{\"pattern\":{\"fillmode\":\"overlay\",\"size\":10,\"solidity\":0.2}},\"type\":\"histogram\"}],\"scattergl\":[{\"type\":\"scattergl\",\"marker\":{\"colorbar\":{\"outlinewidth\":0,\"ticks\":\"\"}}}],\"scatter3d\":[{\"type\":\"scatter3d\",\"line\":{\"colorbar\":{\"outlinewidth\":0,\"ticks\":\"\"}},\"marker\":{\"colorbar\":{\"outlinewidth\":0,\"ticks\":\"\"}}}],\"scattermapbox\":[{\"type\":\"scattermapbox\",\"marker\":{\"colorbar\":{\"outlinewidth\":0,\"ticks\":\"\"}}}],\"scatterternary\":[{\"type\":\"scatterternary\",\"marker\":{\"colorbar\":{\"outlinewidth\":0,\"ticks\":\"\"}}}],\"scattercarpet\":[{\"type\":\"scattercarpet\",\"marker\":{\"colorbar\":{\"outlinewidth\":0,\"ticks\":\"\"}}}],\"carpet\":[{\"aaxis\":{\"endlinecolor\":\"#2a3f5f\",\"gridcolor\":\"white\",\"linecolor\":\"white\",\"minorgridcolor\":\"white\",\"startlinecolor\":\"#2a3f5f\"},\"baxis\":{\"endlinecolor\":\"#2a3f5f\",\"gridcolor\":\"white\",\"linecolor\":\"white\",\"minorgridcolor\":\"white\",\"startlinecolor\":\"#2a3f5f\"},\"type\":\"carpet\"}],\"table\":[{\"cells\":{\"fill\":{\"color\":\"#EBF0F8\"},\"line\":{\"color\":\"white\"}},\"header\":{\"fill\":{\"color\":\"#C8D4E3\"},\"line\":{\"color\":\"white\"}},\"type\":\"table\"}],\"barpolar\":[{\"marker\":{\"line\":{\"color\":\"#E5ECF6\",\"width\":0.5},\"pattern\":{\"fillmode\":\"overlay\",\"size\":10,\"solidity\":0.2}},\"type\":\"barpolar\"}],\"pie\":[{\"automargin\":true,\"type\":\"pie\"}]},\"layout\":{\"autotypenumbers\":\"strict\",\"colorway\":[\"#636efa\",\"#EF553B\",\"#00cc96\",\"#ab63fa\",\"#FFA15A\",\"#19d3f3\",\"#FF6692\",\"#B6E880\",\"#FF97FF\",\"#FECB52\"],\"font\":{\"color\":\"#2a3f5f\"},\"hovermode\":\"closest\",\"hoverlabel\":{\"align\":\"left\"},\"paper_bgcolor\":\"white\",\"plot_bgcolor\":\"#E5ECF6\",\"polar\":{\"bgcolor\":\"#E5ECF6\",\"angularaxis\":{\"gridcolor\":\"white\",\"linecolor\":\"white\",\"ticks\":\"\"},\"radialaxis\":{\"gridcolor\":\"white\",\"linecolor\":\"white\",\"ticks\":\"\"}},\"ternary\":{\"bgcolor\":\"#E5ECF6\",\"aaxis\":{\"gridcolor\":\"white\",\"linecolor\":\"white\",\"ticks\":\"\"},\"baxis\":{\"gridcolor\":\"white\",\"linecolor\":\"white\",\"ticks\":\"\"},\"caxis\":{\"gridcolor\":\"white\",\"linecolor\":\"white\",\"ticks\":\"\"}},\"coloraxis\":{\"colorbar\":{\"outlinewidth\":0,\"ticks\":\"\"}},\"colorscale\":{\"sequential\":[[0.0,\"#0d0887\"],[0.1111111111111111,\"#46039f\"],[0.2222222222222222,\"#7201a8\"],[0.3333333333333333,\"#9c179e\"],[0.4444444444444444,\"#bd3786\"],[0.5555555555555556,\"#d8576b\"],[0.6666666666666666,\"#ed7953\"],[0.7777777777777778,\"#fb9f3a\"],[0.8888888888888888,\"#fdca26\"],[1.0,\"#f0f921\"]],\"sequentialminus\":[[0.0,\"#0d0887\"],[0.1111111111111111,\"#46039f\"],[0.2222222222222222,\"#7201a8\"],[0.3333333333333333,\"#9c179e\"],[0.4444444444444444,\"#bd3786\"],[0.5555555555555556,\"#d8576b\"],[0.6666666666666666,\"#ed7953\"],[0.7777777777777778,\"#fb9f3a\"],[0.8888888888888888,\"#fdca26\"],[1.0,\"#f0f921\"]],\"diverging\":[[0,\"#8e0152\"],[0.1,\"#c51b7d\"],[0.2,\"#de77ae\"],[0.3,\"#f1b6da\"],[0.4,\"#fde0ef\"],[0.5,\"#f7f7f7\"],[0.6,\"#e6f5d0\"],[0.7,\"#b8e186\"],[0.8,\"#7fbc41\"],[0.9,\"#4d9221\"],[1,\"#276419\"]]},\"xaxis\":{\"gridcolor\":\"white\",\"linecolor\":\"white\",\"ticks\":\"\",\"title\":{\"standoff\":15},\"zerolinecolor\":\"white\",\"automargin\":true,\"zerolinewidth\":2},\"yaxis\":{\"gridcolor\":\"white\",\"linecolor\":\"white\",\"ticks\":\"\",\"title\":{\"standoff\":15},\"zerolinecolor\":\"white\",\"automargin\":true,\"zerolinewidth\":2},\"scene\":{\"xaxis\":{\"backgroundcolor\":\"#E5ECF6\",\"gridcolor\":\"white\",\"linecolor\":\"white\",\"showbackground\":true,\"ticks\":\"\",\"zerolinecolor\":\"white\",\"gridwidth\":2},\"yaxis\":{\"backgroundcolor\":\"#E5ECF6\",\"gridcolor\":\"white\",\"linecolor\":\"white\",\"showbackground\":true,\"ticks\":\"\",\"zerolinecolor\":\"white\",\"gridwidth\":2},\"zaxis\":{\"backgroundcolor\":\"#E5ECF6\",\"gridcolor\":\"white\",\"linecolor\":\"white\",\"showbackground\":true,\"ticks\":\"\",\"zerolinecolor\":\"white\",\"gridwidth\":2}},\"shapedefaults\":{\"line\":{\"color\":\"#2a3f5f\"}},\"annotationdefaults\":{\"arrowcolor\":\"#2a3f5f\",\"arrowhead\":0,\"arrowwidth\":1},\"geo\":{\"bgcolor\":\"white\",\"landcolor\":\"#E5ECF6\",\"subunitcolor\":\"white\",\"showland\":true,\"showlakes\":true,\"lakecolor\":\"white\"},\"title\":{\"x\":0.05},\"mapbox\":{\"style\":\"light\"}}},\"xaxis\":{\"anchor\":\"y\",\"domain\":[0.0,1.0],\"title\":{\"text\":\"Shot Distance\"}},\"yaxis\":{\"anchor\":\"x\",\"domain\":[0.0,1.0],\"title\":{\"text\":\"Percentage of Made Shots\"}},\"legend\":{\"title\":{\"text\":\"firstname\"},\"tracegroupgap\":0},\"title\":{\"text\":\"Percentage of Made Shots at Different Distances\"}},                        {\"responsive\": true}                    ).then(function(){\n",
       "                            \n",
       "var gd = document.getElementById('846f88fb-ed92-4a25-9c62-e627f56631c6');\n",
       "var x = new MutationObserver(function (mutations, observer) {{\n",
       "        var display = window.getComputedStyle(gd).display;\n",
       "        if (!display || display === 'none') {{\n",
       "            console.log([gd, 'removed!']);\n",
       "            Plotly.purge(gd);\n",
       "            observer.disconnect();\n",
       "        }}\n",
       "}});\n",
       "\n",
       "// Listen for the removal of the full notebook cells\n",
       "var notebookContainer = gd.closest('#notebook-container');\n",
       "if (notebookContainer) {{\n",
       "    x.observe(notebookContainer, {childList: true});\n",
       "}}\n",
       "\n",
       "// Listen for the clearing of the current output cell\n",
       "var outputEl = gd.closest('.output');\n",
       "if (outputEl) {{\n",
       "    x.observe(outputEl, {childList: true});\n",
       "}}\n",
       "\n",
       "                        })                };                });            </script>        </div>"
      ]
     },
     "metadata": {},
     "output_type": "display_data"
    }
   ],
   "source": [
    "# Reset index to make 'Player' and 'Distance' columns regular columns\n",
    "pivot_table_reset = pivot_table.reset_index()\n",
    "\n",
    "# Plotly Express scatter plot\n",
    "fig = px.scatter(\n",
    "    pivot_table_reset,\n",
    "    x='shotdistance',\n",
    "    y='Percentage_True',\n",
    "    color='firstname',\n",
    "    #size='Percentage_True',\n",
    "    labels={'Percentage_True': 'Percentage of Made Shots', 'shotdistance': 'Shot Distance'},\n",
    "    title='Percentage of Made Shots at Different Distances',\n",
    ")\n",
    "\n",
    "# Show the plot\n",
    "fig.show()"
   ]
  },
  {
   "cell_type": "code",
   "execution_count": 18,
   "metadata": {},
   "outputs": [
    {
     "data": {
      "application/vnd.plotly.v1+json": {
       "config": {
        "plotlyServerURL": "https://plot.ly"
       },
       "data": [
        {
         "hovertemplate": "firstname= Hope<br>Shot Distance=%{x}<br>Percentage of Made Shots=%{y}<br>timestamp=%{marker.size}<extra></extra>",
         "legendgroup": " Hope",
         "marker": {
          "color": "#636efa",
          "size": [
           1
          ],
          "sizemode": "area",
          "sizeref": 0.035,
          "symbol": "circle"
         },
         "mode": "markers",
         "name": " Hope",
         "orientation": "v",
         "showlegend": true,
         "type": "scatter",
         "x": [
          10
         ],
         "xaxis": "x",
         "y": [
          100
         ],
         "yaxis": "y"
        },
        {
         "hovertemplate": "firstname=AA_Milne<br>Shot Distance=%{x}<br>Percentage of Made Shots=%{y}<br>timestamp=%{marker.size}<extra></extra>",
         "legendgroup": "AA_Milne",
         "marker": {
          "color": "#EF553B",
          "size": [
           4
          ],
          "sizemode": "area",
          "sizeref": 0.035,
          "symbol": "circle"
         },
         "mode": "markers",
         "name": "AA_Milne",
         "orientation": "v",
         "showlegend": true,
         "type": "scatter",
         "x": [
          2
         ],
         "xaxis": "x",
         "y": [
          25
         ],
         "yaxis": "y"
        },
        {
         "hovertemplate": "firstname=AD<br>Shot Distance=%{x}<br>Percentage of Made Shots=%{y}<br>timestamp=%{marker.size}<extra></extra>",
         "legendgroup": "AD",
         "marker": {
          "color": "#00cc96",
          "size": [
           1,
           1
          ],
          "sizemode": "area",
          "sizeref": 0.035,
          "symbol": "circle"
         },
         "mode": "markers",
         "name": "AD",
         "orientation": "v",
         "showlegend": true,
         "type": "scatter",
         "x": [
          4,
          10
         ],
         "xaxis": "x",
         "y": [
          null,
          null
         ],
         "yaxis": "y"
        },
        {
         "hovertemplate": "firstname=AT<br>Shot Distance=%{x}<br>Percentage of Made Shots=%{y}<br>timestamp=%{marker.size}<extra></extra>",
         "legendgroup": "AT",
         "marker": {
          "color": "#ab63fa",
          "size": [
           1,
           1
          ],
          "sizemode": "area",
          "sizeref": 0.035,
          "symbol": "circle"
         },
         "mode": "markers",
         "name": "AT",
         "orientation": "v",
         "showlegend": true,
         "type": "scatter",
         "x": [
          2,
          6
         ],
         "xaxis": "x",
         "y": [
          100,
          null
         ],
         "yaxis": "y"
        },
        {
         "hovertemplate": "firstname=Adrianna<br>Shot Distance=%{x}<br>Percentage of Made Shots=%{y}<br>timestamp=%{marker.size}<extra></extra>",
         "legendgroup": "Adrianna",
         "marker": {
          "color": "#FFA15A",
          "size": [
           4,
           2,
           6,
           3,
           3
          ],
          "sizemode": "area",
          "sizeref": 0.035,
          "symbol": "circle"
         },
         "mode": "markers",
         "name": "Adrianna",
         "orientation": "v",
         "showlegend": true,
         "type": "scatter",
         "x": [
          2,
          4,
          6,
          8,
          10
         ],
         "xaxis": "x",
         "y": [
          100,
          100,
          83.33333333333334,
          null,
          33.33333333333333
         ],
         "yaxis": "y"
        },
        {
         "hovertemplate": "firstname=Alejandro<br>Shot Distance=%{x}<br>Percentage of Made Shots=%{y}<br>timestamp=%{marker.size}<extra></extra>",
         "legendgroup": "Alejandro",
         "marker": {
          "color": "#19d3f3",
          "size": [
           1
          ],
          "sizemode": "area",
          "sizeref": 0.035,
          "symbol": "circle"
         },
         "mode": "markers",
         "name": "Alejandro",
         "orientation": "v",
         "showlegend": true,
         "type": "scatter",
         "x": [
          10
         ],
         "xaxis": "x",
         "y": [
          null
         ],
         "yaxis": "y"
        },
        {
         "hovertemplate": "firstname=Alina<br>Shot Distance=%{x}<br>Percentage of Made Shots=%{y}<br>timestamp=%{marker.size}<extra></extra>",
         "legendgroup": "Alina",
         "marker": {
          "color": "#FF6692",
          "size": [
           1,
           1
          ],
          "sizemode": "area",
          "sizeref": 0.035,
          "symbol": "circle"
         },
         "mode": "markers",
         "name": "Alina",
         "orientation": "v",
         "showlegend": true,
         "type": "scatter",
         "x": [
          4,
          8
         ],
         "xaxis": "x",
         "y": [
          100,
          null
         ],
         "yaxis": "y"
        },
        {
         "hovertemplate": "firstname=Anna<br>Shot Distance=%{x}<br>Percentage of Made Shots=%{y}<br>timestamp=%{marker.size}<extra></extra>",
         "legendgroup": "Anna",
         "marker": {
          "color": "#B6E880",
          "size": [
           1
          ],
          "sizemode": "area",
          "sizeref": 0.035,
          "symbol": "circle"
         },
         "mode": "markers",
         "name": "Anna",
         "orientation": "v",
         "showlegend": true,
         "type": "scatter",
         "x": [
          2
         ],
         "xaxis": "x",
         "y": [
          100
         ],
         "yaxis": "y"
        },
        {
         "hovertemplate": "firstname=Anna <br>Shot Distance=%{x}<br>Percentage of Made Shots=%{y}<br>timestamp=%{marker.size}<extra></extra>",
         "legendgroup": "Anna ",
         "marker": {
          "color": "#FF97FF",
          "size": [
           1
          ],
          "sizemode": "area",
          "sizeref": 0.035,
          "symbol": "circle"
         },
         "mode": "markers",
         "name": "Anna ",
         "orientation": "v",
         "showlegend": true,
         "type": "scatter",
         "x": [
          4
         ],
         "xaxis": "x",
         "y": [
          null
         ],
         "yaxis": "y"
        },
        {
         "hovertemplate": "firstname=Annamaria<br>Shot Distance=%{x}<br>Percentage of Made Shots=%{y}<br>timestamp=%{marker.size}<extra></extra>",
         "legendgroup": "Annamaria",
         "marker": {
          "color": "#FECB52",
          "size": [
           2
          ],
          "sizemode": "area",
          "sizeref": 0.035,
          "symbol": "circle"
         },
         "mode": "markers",
         "name": "Annamaria",
         "orientation": "v",
         "showlegend": true,
         "type": "scatter",
         "x": [
          2
         ],
         "xaxis": "x",
         "y": [
          50
         ],
         "yaxis": "y"
        },
        {
         "hovertemplate": "firstname=Ava<br>Shot Distance=%{x}<br>Percentage of Made Shots=%{y}<br>timestamp=%{marker.size}<extra></extra>",
         "legendgroup": "Ava",
         "marker": {
          "color": "#636efa",
          "size": [
           2,
           1,
           2,
           2,
           1
          ],
          "sizemode": "area",
          "sizeref": 0.035,
          "symbol": "circle"
         },
         "mode": "markers",
         "name": "Ava",
         "orientation": "v",
         "showlegend": true,
         "type": "scatter",
         "x": [
          2,
          4,
          6,
          8,
          10
         ],
         "xaxis": "x",
         "y": [
          100,
          100,
          50,
          100,
          100
         ],
         "yaxis": "y"
        },
        {
         "hovertemplate": "firstname=Ava <br>Shot Distance=%{x}<br>Percentage of Made Shots=%{y}<br>timestamp=%{marker.size}<extra></extra>",
         "legendgroup": "Ava ",
         "marker": {
          "color": "#EF553B",
          "size": [
           1,
           1,
           1
          ],
          "sizemode": "area",
          "sizeref": 0.035,
          "symbol": "circle"
         },
         "mode": "markers",
         "name": "Ava ",
         "orientation": "v",
         "showlegend": true,
         "type": "scatter",
         "x": [
          2,
          4,
          10
         ],
         "xaxis": "x",
         "y": [
          null,
          null,
          null
         ],
         "yaxis": "y"
        },
        {
         "hovertemplate": "firstname=Barry<br>Shot Distance=%{x}<br>Percentage of Made Shots=%{y}<br>timestamp=%{marker.size}<extra></extra>",
         "legendgroup": "Barry",
         "marker": {
          "color": "#00cc96",
          "size": [
           1
          ],
          "sizemode": "area",
          "sizeref": 0.035,
          "symbol": "circle"
         },
         "mode": "markers",
         "name": "Barry",
         "orientation": "v",
         "showlegend": true,
         "type": "scatter",
         "x": [
          10
         ],
         "xaxis": "x",
         "y": [
          null
         ],
         "yaxis": "y"
        },
        {
         "hovertemplate": "firstname=Benjie<br>Shot Distance=%{x}<br>Percentage of Made Shots=%{y}<br>timestamp=%{marker.size}<extra></extra>",
         "legendgroup": "Benjie",
         "marker": {
          "color": "#ab63fa",
          "size": [
           2,
           2,
           1,
           1
          ],
          "sizemode": "area",
          "sizeref": 0.035,
          "symbol": "circle"
         },
         "mode": "markers",
         "name": "Benjie",
         "orientation": "v",
         "showlegend": true,
         "type": "scatter",
         "x": [
          2,
          4,
          6,
          10
         ],
         "xaxis": "x",
         "y": [
          50,
          50,
          100,
          null
         ],
         "yaxis": "y"
        },
        {
         "hovertemplate": "firstname=Bernadette <br>Shot Distance=%{x}<br>Percentage of Made Shots=%{y}<br>timestamp=%{marker.size}<extra></extra>",
         "legendgroup": "Bernadette ",
         "marker": {
          "color": "#FFA15A",
          "size": [
           3,
           1,
           3,
           2
          ],
          "sizemode": "area",
          "sizeref": 0.035,
          "symbol": "circle"
         },
         "mode": "markers",
         "name": "Bernadette ",
         "orientation": "v",
         "showlegend": true,
         "type": "scatter",
         "x": [
          2,
          4,
          8,
          10
         ],
         "xaxis": "x",
         "y": [
          66.66666666666666,
          100,
          null,
          null
         ],
         "yaxis": "y"
        },
        {
         "hovertemplate": "firstname=Bill<br>Shot Distance=%{x}<br>Percentage of Made Shots=%{y}<br>timestamp=%{marker.size}<extra></extra>",
         "legendgroup": "Bill",
         "marker": {
          "color": "#19d3f3",
          "size": [
           2,
           1,
           3
          ],
          "sizemode": "area",
          "sizeref": 0.035,
          "symbol": "circle"
         },
         "mode": "markers",
         "name": "Bill",
         "orientation": "v",
         "showlegend": true,
         "type": "scatter",
         "x": [
          4,
          8,
          10
         ],
         "xaxis": "x",
         "y": [
          50,
          null,
          100
         ],
         "yaxis": "y"
        },
        {
         "hovertemplate": "firstname=Bill <br>Shot Distance=%{x}<br>Percentage of Made Shots=%{y}<br>timestamp=%{marker.size}<extra></extra>",
         "legendgroup": "Bill ",
         "marker": {
          "color": "#FF6692",
          "size": [
           1
          ],
          "sizemode": "area",
          "sizeref": 0.035,
          "symbol": "circle"
         },
         "mode": "markers",
         "name": "Bill ",
         "orientation": "v",
         "showlegend": true,
         "type": "scatter",
         "x": [
          10
         ],
         "xaxis": "x",
         "y": [
          100
         ],
         "yaxis": "y"
        },
        {
         "hovertemplate": "firstname=Brad<br>Shot Distance=%{x}<br>Percentage of Made Shots=%{y}<br>timestamp=%{marker.size}<extra></extra>",
         "legendgroup": "Brad",
         "marker": {
          "color": "#B6E880",
          "size": [
           1,
           3,
           1
          ],
          "sizemode": "area",
          "sizeref": 0.035,
          "symbol": "circle"
         },
         "mode": "markers",
         "name": "Brad",
         "orientation": "v",
         "showlegend": true,
         "type": "scatter",
         "x": [
          6,
          8,
          10
         ],
         "xaxis": "x",
         "y": [
          null,
          33.33333333333333,
          null
         ],
         "yaxis": "y"
        },
        {
         "hovertemplate": "firstname=Breanna <br>Shot Distance=%{x}<br>Percentage of Made Shots=%{y}<br>timestamp=%{marker.size}<extra></extra>",
         "legendgroup": "Breanna ",
         "marker": {
          "color": "#FF97FF",
          "size": [
           1
          ],
          "sizemode": "area",
          "sizeref": 0.035,
          "symbol": "circle"
         },
         "mode": "markers",
         "name": "Breanna ",
         "orientation": "v",
         "showlegend": true,
         "type": "scatter",
         "x": [
          2
         ],
         "xaxis": "x",
         "y": [
          100
         ],
         "yaxis": "y"
        },
        {
         "hovertemplate": "firstname=C.Z.<br>Shot Distance=%{x}<br>Percentage of Made Shots=%{y}<br>timestamp=%{marker.size}<extra></extra>",
         "legendgroup": "C.Z.",
         "marker": {
          "color": "#FECB52",
          "size": [
           2
          ],
          "sizemode": "area",
          "sizeref": 0.035,
          "symbol": "circle"
         },
         "mode": "markers",
         "name": "C.Z.",
         "orientation": "v",
         "showlegend": true,
         "type": "scatter",
         "x": [
          4
         ],
         "xaxis": "x",
         "y": [
          100
         ],
         "yaxis": "y"
        },
        {
         "hovertemplate": "firstname=Carolyn <br>Shot Distance=%{x}<br>Percentage of Made Shots=%{y}<br>timestamp=%{marker.size}<extra></extra>",
         "legendgroup": "Carolyn ",
         "marker": {
          "color": "#636efa",
          "size": [
           1
          ],
          "sizemode": "area",
          "sizeref": 0.035,
          "symbol": "circle"
         },
         "mode": "markers",
         "name": "Carolyn ",
         "orientation": "v",
         "showlegend": true,
         "type": "scatter",
         "x": [
          2
         ],
         "xaxis": "x",
         "y": [
          100
         ],
         "yaxis": "y"
        },
        {
         "hovertemplate": "firstname=Daryl<br>Shot Distance=%{x}<br>Percentage of Made Shots=%{y}<br>timestamp=%{marker.size}<extra></extra>",
         "legendgroup": "Daryl",
         "marker": {
          "color": "#EF553B",
          "size": [
           3
          ],
          "sizemode": "area",
          "sizeref": 0.035,
          "symbol": "circle"
         },
         "mode": "markers",
         "name": "Daryl",
         "orientation": "v",
         "showlegend": true,
         "type": "scatter",
         "x": [
          6
         ],
         "xaxis": "x",
         "y": [
          null
         ],
         "yaxis": "y"
        },
        {
         "hovertemplate": "firstname=Dave<br>Shot Distance=%{x}<br>Percentage of Made Shots=%{y}<br>timestamp=%{marker.size}<extra></extra>",
         "legendgroup": "Dave",
         "marker": {
          "color": "#00cc96",
          "size": [
           2,
           1
          ],
          "sizemode": "area",
          "sizeref": 0.035,
          "symbol": "circle"
         },
         "mode": "markers",
         "name": "Dave",
         "orientation": "v",
         "showlegend": true,
         "type": "scatter",
         "x": [
          2,
          6
         ],
         "xaxis": "x",
         "y": [
          100,
          null
         ],
         "yaxis": "y"
        },
        {
         "hovertemplate": "firstname=David<br>Shot Distance=%{x}<br>Percentage of Made Shots=%{y}<br>timestamp=%{marker.size}<extra></extra>",
         "legendgroup": "David",
         "marker": {
          "color": "#ab63fa",
          "size": [
           1,
           2,
           2
          ],
          "sizemode": "area",
          "sizeref": 0.035,
          "symbol": "circle"
         },
         "mode": "markers",
         "name": "David",
         "orientation": "v",
         "showlegend": true,
         "type": "scatter",
         "x": [
          2,
          4,
          10
         ],
         "xaxis": "x",
         "y": [
          100,
          50,
          50
         ],
         "yaxis": "y"
        },
        {
         "hovertemplate": "firstname=David <br>Shot Distance=%{x}<br>Percentage of Made Shots=%{y}<br>timestamp=%{marker.size}<extra></extra>",
         "legendgroup": "David ",
         "marker": {
          "color": "#FFA15A",
          "size": [
           3
          ],
          "sizemode": "area",
          "sizeref": 0.035,
          "symbol": "circle"
         },
         "mode": "markers",
         "name": "David ",
         "orientation": "v",
         "showlegend": true,
         "type": "scatter",
         "x": [
          4
         ],
         "xaxis": "x",
         "y": [
          null
         ],
         "yaxis": "y"
        },
        {
         "hovertemplate": "firstname=Dean<br>Shot Distance=%{x}<br>Percentage of Made Shots=%{y}<br>timestamp=%{marker.size}<extra></extra>",
         "legendgroup": "Dean",
         "marker": {
          "color": "#19d3f3",
          "size": [
           1,
           2
          ],
          "sizemode": "area",
          "sizeref": 0.035,
          "symbol": "circle"
         },
         "mode": "markers",
         "name": "Dean",
         "orientation": "v",
         "showlegend": true,
         "type": "scatter",
         "x": [
          4,
          6
         ],
         "xaxis": "x",
         "y": [
          100,
          null
         ],
         "yaxis": "y"
        },
        {
         "hovertemplate": "firstname=Dennis<br>Shot Distance=%{x}<br>Percentage of Made Shots=%{y}<br>timestamp=%{marker.size}<extra></extra>",
         "legendgroup": "Dennis",
         "marker": {
          "color": "#FF6692",
          "size": [
           1
          ],
          "sizemode": "area",
          "sizeref": 0.035,
          "symbol": "circle"
         },
         "mode": "markers",
         "name": "Dennis",
         "orientation": "v",
         "showlegend": true,
         "type": "scatter",
         "x": [
          2
         ],
         "xaxis": "x",
         "y": [
          100
         ],
         "yaxis": "y"
        },
        {
         "hovertemplate": "firstname=Dirk<br>Shot Distance=%{x}<br>Percentage of Made Shots=%{y}<br>timestamp=%{marker.size}<extra></extra>",
         "legendgroup": "Dirk",
         "marker": {
          "color": "#B6E880",
          "size": [
           1
          ],
          "sizemode": "area",
          "sizeref": 0.035,
          "symbol": "circle"
         },
         "mode": "markers",
         "name": "Dirk",
         "orientation": "v",
         "showlegend": true,
         "type": "scatter",
         "x": [
          10
         ],
         "xaxis": "x",
         "y": [
          null
         ],
         "yaxis": "y"
        },
        {
         "hovertemplate": "firstname=Divine<br>Shot Distance=%{x}<br>Percentage of Made Shots=%{y}<br>timestamp=%{marker.size}<extra></extra>",
         "legendgroup": "Divine",
         "marker": {
          "color": "#FF97FF",
          "size": [
           2,
           1
          ],
          "sizemode": "area",
          "sizeref": 0.035,
          "symbol": "circle"
         },
         "mode": "markers",
         "name": "Divine",
         "orientation": "v",
         "showlegend": true,
         "type": "scatter",
         "x": [
          2,
          6
         ],
         "xaxis": "x",
         "y": [
          50,
          null
         ],
         "yaxis": "y"
        },
        {
         "hovertemplate": "firstname=Don<br>Shot Distance=%{x}<br>Percentage of Made Shots=%{y}<br>timestamp=%{marker.size}<extra></extra>",
         "legendgroup": "Don",
         "marker": {
          "color": "#FECB52",
          "size": [
           1
          ],
          "sizemode": "area",
          "sizeref": 0.035,
          "symbol": "circle"
         },
         "mode": "markers",
         "name": "Don",
         "orientation": "v",
         "showlegend": true,
         "type": "scatter",
         "x": [
          2
         ],
         "xaxis": "x",
         "y": [
          null
         ],
         "yaxis": "y"
        },
        {
         "hovertemplate": "firstname=Dustin<br>Shot Distance=%{x}<br>Percentage of Made Shots=%{y}<br>timestamp=%{marker.size}<extra></extra>",
         "legendgroup": "Dustin",
         "marker": {
          "color": "#636efa",
          "size": [
           1,
           1
          ],
          "sizemode": "area",
          "sizeref": 0.035,
          "symbol": "circle"
         },
         "mode": "markers",
         "name": "Dustin",
         "orientation": "v",
         "showlegend": true,
         "type": "scatter",
         "x": [
          8,
          10
         ],
         "xaxis": "x",
         "y": [
          null,
          null
         ],
         "yaxis": "y"
        },
        {
         "hovertemplate": "firstname=Dylan <br>Shot Distance=%{x}<br>Percentage of Made Shots=%{y}<br>timestamp=%{marker.size}<extra></extra>",
         "legendgroup": "Dylan ",
         "marker": {
          "color": "#EF553B",
          "size": [
           1
          ],
          "sizemode": "area",
          "sizeref": 0.035,
          "symbol": "circle"
         },
         "mode": "markers",
         "name": "Dylan ",
         "orientation": "v",
         "showlegend": true,
         "type": "scatter",
         "x": [
          10
         ],
         "xaxis": "x",
         "y": [
          null
         ],
         "yaxis": "y"
        },
        {
         "hovertemplate": "firstname=Edgar<br>Shot Distance=%{x}<br>Percentage of Made Shots=%{y}<br>timestamp=%{marker.size}<extra></extra>",
         "legendgroup": "Edgar",
         "marker": {
          "color": "#00cc96",
          "size": [
           1,
           1,
           1,
           1,
           1
          ],
          "sizemode": "area",
          "sizeref": 0.035,
          "symbol": "circle"
         },
         "mode": "markers",
         "name": "Edgar",
         "orientation": "v",
         "showlegend": true,
         "type": "scatter",
         "x": [
          2,
          4,
          6,
          8,
          10
         ],
         "xaxis": "x",
         "y": [
          100,
          100,
          null,
          null,
          100
         ],
         "yaxis": "y"
        },
        {
         "hovertemplate": "firstname=Francisco<br>Shot Distance=%{x}<br>Percentage of Made Shots=%{y}<br>timestamp=%{marker.size}<extra></extra>",
         "legendgroup": "Francisco",
         "marker": {
          "color": "#ab63fa",
          "size": [
           1,
           1,
           1,
           1,
           4
          ],
          "sizemode": "area",
          "sizeref": 0.035,
          "symbol": "circle"
         },
         "mode": "markers",
         "name": "Francisco",
         "orientation": "v",
         "showlegend": true,
         "type": "scatter",
         "x": [
          2,
          4,
          6,
          8,
          10
         ],
         "xaxis": "x",
         "y": [
          100,
          100,
          100,
          null,
          25
         ],
         "yaxis": "y"
        },
        {
         "hovertemplate": "firstname=Geoff<br>Shot Distance=%{x}<br>Percentage of Made Shots=%{y}<br>timestamp=%{marker.size}<extra></extra>",
         "legendgroup": "Geoff",
         "marker": {
          "color": "#FFA15A",
          "size": [
           1
          ],
          "sizemode": "area",
          "sizeref": 0.035,
          "symbol": "circle"
         },
         "mode": "markers",
         "name": "Geoff",
         "orientation": "v",
         "showlegend": true,
         "type": "scatter",
         "x": [
          2
         ],
         "xaxis": "x",
         "y": [
          100
         ],
         "yaxis": "y"
        },
        {
         "hovertemplate": "firstname=Grant<br>Shot Distance=%{x}<br>Percentage of Made Shots=%{y}<br>timestamp=%{marker.size}<extra></extra>",
         "legendgroup": "Grant",
         "marker": {
          "color": "#19d3f3",
          "size": [
           1,
           2
          ],
          "sizemode": "area",
          "sizeref": 0.035,
          "symbol": "circle"
         },
         "mode": "markers",
         "name": "Grant",
         "orientation": "v",
         "showlegend": true,
         "type": "scatter",
         "x": [
          4,
          8
         ],
         "xaxis": "x",
         "y": [
          100,
          50
         ],
         "yaxis": "y"
        },
        {
         "hovertemplate": "firstname=Grant <br>Shot Distance=%{x}<br>Percentage of Made Shots=%{y}<br>timestamp=%{marker.size}<extra></extra>",
         "legendgroup": "Grant ",
         "marker": {
          "color": "#FF6692",
          "size": [
           1
          ],
          "sizemode": "area",
          "sizeref": 0.035,
          "symbol": "circle"
         },
         "mode": "markers",
         "name": "Grant ",
         "orientation": "v",
         "showlegend": true,
         "type": "scatter",
         "x": [
          4
         ],
         "xaxis": "x",
         "y": [
          null
         ],
         "yaxis": "y"
        },
        {
         "hovertemplate": "firstname=Greg<br>Shot Distance=%{x}<br>Percentage of Made Shots=%{y}<br>timestamp=%{marker.size}<extra></extra>",
         "legendgroup": "Greg",
         "marker": {
          "color": "#B6E880",
          "size": [
           1
          ],
          "sizemode": "area",
          "sizeref": 0.035,
          "symbol": "circle"
         },
         "mode": "markers",
         "name": "Greg",
         "orientation": "v",
         "showlegend": true,
         "type": "scatter",
         "x": [
          10
         ],
         "xaxis": "x",
         "y": [
          null
         ],
         "yaxis": "y"
        },
        {
         "hovertemplate": "firstname=Grorge<br>Shot Distance=%{x}<br>Percentage of Made Shots=%{y}<br>timestamp=%{marker.size}<extra></extra>",
         "legendgroup": "Grorge",
         "marker": {
          "color": "#FF97FF",
          "size": [
           1
          ],
          "sizemode": "area",
          "sizeref": 0.035,
          "symbol": "circle"
         },
         "mode": "markers",
         "name": "Grorge",
         "orientation": "v",
         "showlegend": true,
         "type": "scatter",
         "x": [
          2
         ],
         "xaxis": "x",
         "y": [
          null
         ],
         "yaxis": "y"
        },
        {
         "hovertemplate": "firstname=Gurm<br>Shot Distance=%{x}<br>Percentage of Made Shots=%{y}<br>timestamp=%{marker.size}<extra></extra>",
         "legendgroup": "Gurm",
         "marker": {
          "color": "#FECB52",
          "size": [
           1
          ],
          "sizemode": "area",
          "sizeref": 0.035,
          "symbol": "circle"
         },
         "mode": "markers",
         "name": "Gurm",
         "orientation": "v",
         "showlegend": true,
         "type": "scatter",
         "x": [
          2
         ],
         "xaxis": "x",
         "y": [
          100
         ],
         "yaxis": "y"
        },
        {
         "hovertemplate": "firstname=Heoff<br>Shot Distance=%{x}<br>Percentage of Made Shots=%{y}<br>timestamp=%{marker.size}<extra></extra>",
         "legendgroup": "Heoff",
         "marker": {
          "color": "#636efa",
          "size": [
           1
          ],
          "sizemode": "area",
          "sizeref": 0.035,
          "symbol": "circle"
         },
         "mode": "markers",
         "name": "Heoff",
         "orientation": "v",
         "showlegend": true,
         "type": "scatter",
         "x": [
          2
         ],
         "xaxis": "x",
         "y": [
          100
         ],
         "yaxis": "y"
        },
        {
         "hovertemplate": "firstname=Hope<br>Shot Distance=%{x}<br>Percentage of Made Shots=%{y}<br>timestamp=%{marker.size}<extra></extra>",
         "legendgroup": "Hope",
         "marker": {
          "color": "#EF553B",
          "size": [
           3,
           2,
           4,
           2,
           1
          ],
          "sizemode": "area",
          "sizeref": 0.035,
          "symbol": "circle"
         },
         "mode": "markers",
         "name": "Hope",
         "orientation": "v",
         "showlegend": true,
         "type": "scatter",
         "x": [
          2,
          4,
          6,
          8,
          10
         ],
         "xaxis": "x",
         "y": [
          66.66666666666666,
          50,
          25,
          null,
          100
         ],
         "yaxis": "y"
        },
        {
         "hovertemplate": "firstname=Hope <br>Shot Distance=%{x}<br>Percentage of Made Shots=%{y}<br>timestamp=%{marker.size}<extra></extra>",
         "legendgroup": "Hope ",
         "marker": {
          "color": "#00cc96",
          "size": [
           1
          ],
          "sizemode": "area",
          "sizeref": 0.035,
          "symbol": "circle"
         },
         "mode": "markers",
         "name": "Hope ",
         "orientation": "v",
         "showlegend": true,
         "type": "scatter",
         "x": [
          4
         ],
         "xaxis": "x",
         "y": [
          null
         ],
         "yaxis": "y"
        },
        {
         "hovertemplate": "firstname=I<br>Shot Distance=%{x}<br>Percentage of Made Shots=%{y}<br>timestamp=%{marker.size}<extra></extra>",
         "legendgroup": "I",
         "marker": {
          "color": "#ab63fa",
          "size": [
           1
          ],
          "sizemode": "area",
          "sizeref": 0.035,
          "symbol": "circle"
         },
         "mode": "markers",
         "name": "I",
         "orientation": "v",
         "showlegend": true,
         "type": "scatter",
         "x": [
          8
         ],
         "xaxis": "x",
         "y": [
          null
         ],
         "yaxis": "y"
        },
        {
         "hovertemplate": "firstname=IT dept<br>Shot Distance=%{x}<br>Percentage of Made Shots=%{y}<br>timestamp=%{marker.size}<extra></extra>",
         "legendgroup": "IT dept",
         "marker": {
          "color": "#FFA15A",
          "size": [
           4,
           1,
           1,
           1,
           2
          ],
          "sizemode": "area",
          "sizeref": 0.035,
          "symbol": "circle"
         },
         "mode": "markers",
         "name": "IT dept",
         "orientation": "v",
         "showlegend": true,
         "type": "scatter",
         "x": [
          2,
          4,
          6,
          8,
          10
         ],
         "xaxis": "x",
         "y": [
          null,
          null,
          null,
          100,
          null
         ],
         "yaxis": "y"
        },
        {
         "hovertemplate": "firstname=Imran <br>Shot Distance=%{x}<br>Percentage of Made Shots=%{y}<br>timestamp=%{marker.size}<extra></extra>",
         "legendgroup": "Imran ",
         "marker": {
          "color": "#19d3f3",
          "size": [
           1
          ],
          "sizemode": "area",
          "sizeref": 0.035,
          "symbol": "circle"
         },
         "mode": "markers",
         "name": "Imran ",
         "orientation": "v",
         "showlegend": true,
         "type": "scatter",
         "x": [
          4
         ],
         "xaxis": "x",
         "y": [
          null
         ],
         "yaxis": "y"
        },
        {
         "hovertemplate": "firstname=Ishruna<br>Shot Distance=%{x}<br>Percentage of Made Shots=%{y}<br>timestamp=%{marker.size}<extra></extra>",
         "legendgroup": "Ishruna",
         "marker": {
          "color": "#FF6692",
          "size": [
           1
          ],
          "sizemode": "area",
          "sizeref": 0.035,
          "symbol": "circle"
         },
         "mode": "markers",
         "name": "Ishruna",
         "orientation": "v",
         "showlegend": true,
         "type": "scatter",
         "x": [
          8
         ],
         "xaxis": "x",
         "y": [
          null
         ],
         "yaxis": "y"
        },
        {
         "hovertemplate": "firstname=J.G<br>Shot Distance=%{x}<br>Percentage of Made Shots=%{y}<br>timestamp=%{marker.size}<extra></extra>",
         "legendgroup": "J.G",
         "marker": {
          "color": "#B6E880",
          "size": [
           1,
           1
          ],
          "sizemode": "area",
          "sizeref": 0.035,
          "symbol": "circle"
         },
         "mode": "markers",
         "name": "J.G",
         "orientation": "v",
         "showlegend": true,
         "type": "scatter",
         "x": [
          8,
          10
         ],
         "xaxis": "x",
         "y": [
          null,
          null
         ],
         "yaxis": "y"
        },
        {
         "hovertemplate": "firstname=JE<br>Shot Distance=%{x}<br>Percentage of Made Shots=%{y}<br>timestamp=%{marker.size}<extra></extra>",
         "legendgroup": "JE",
         "marker": {
          "color": "#FF97FF",
          "size": [
           2,
           1,
           4,
           2
          ],
          "sizemode": "area",
          "sizeref": 0.035,
          "symbol": "circle"
         },
         "mode": "markers",
         "name": "JE",
         "orientation": "v",
         "showlegend": true,
         "type": "scatter",
         "x": [
          2,
          4,
          6,
          8
         ],
         "xaxis": "x",
         "y": [
          50,
          100,
          25,
          50
         ],
         "yaxis": "y"
        },
        {
         "hovertemplate": "firstname=Jessica<br>Shot Distance=%{x}<br>Percentage of Made Shots=%{y}<br>timestamp=%{marker.size}<extra></extra>",
         "legendgroup": "Jessica",
         "marker": {
          "color": "#FECB52",
          "size": [
           1
          ],
          "sizemode": "area",
          "sizeref": 0.035,
          "symbol": "circle"
         },
         "mode": "markers",
         "name": "Jessica",
         "orientation": "v",
         "showlegend": true,
         "type": "scatter",
         "x": [
          2
         ],
         "xaxis": "x",
         "y": [
          100
         ],
         "yaxis": "y"
        },
        {
         "hovertemplate": "firstname=Jether<br>Shot Distance=%{x}<br>Percentage of Made Shots=%{y}<br>timestamp=%{marker.size}<extra></extra>",
         "legendgroup": "Jether",
         "marker": {
          "color": "#636efa",
          "size": [
           1,
           2,
           3,
           1,
           2
          ],
          "sizemode": "area",
          "sizeref": 0.035,
          "symbol": "circle"
         },
         "mode": "markers",
         "name": "Jether",
         "orientation": "v",
         "showlegend": true,
         "type": "scatter",
         "x": [
          2,
          4,
          6,
          8,
          10
         ],
         "xaxis": "x",
         "y": [
          100,
          100,
          66.66666666666666,
          100,
          null
         ],
         "yaxis": "y"
        },
        {
         "hovertemplate": "firstname=Jether <br>Shot Distance=%{x}<br>Percentage of Made Shots=%{y}<br>timestamp=%{marker.size}<extra></extra>",
         "legendgroup": "Jether ",
         "marker": {
          "color": "#EF553B",
          "size": [
           1
          ],
          "sizemode": "area",
          "sizeref": 0.035,
          "symbol": "circle"
         },
         "mode": "markers",
         "name": "Jether ",
         "orientation": "v",
         "showlegend": true,
         "type": "scatter",
         "x": [
          8
         ],
         "xaxis": "x",
         "y": [
          100
         ],
         "yaxis": "y"
        },
        {
         "hovertemplate": "firstname=Jhustin<br>Shot Distance=%{x}<br>Percentage of Made Shots=%{y}<br>timestamp=%{marker.size}<extra></extra>",
         "legendgroup": "Jhustin",
         "marker": {
          "color": "#00cc96",
          "size": [
           1
          ],
          "sizemode": "area",
          "sizeref": 0.035,
          "symbol": "circle"
         },
         "mode": "markers",
         "name": "Jhustin",
         "orientation": "v",
         "showlegend": true,
         "type": "scatter",
         "x": [
          8
         ],
         "xaxis": "x",
         "y": [
          100
         ],
         "yaxis": "y"
        },
        {
         "hovertemplate": "firstname=Jhustin <br>Shot Distance=%{x}<br>Percentage of Made Shots=%{y}<br>timestamp=%{marker.size}<extra></extra>",
         "legendgroup": "Jhustin ",
         "marker": {
          "color": "#ab63fa",
          "size": [
           1,
           1
          ],
          "sizemode": "area",
          "sizeref": 0.035,
          "symbol": "circle"
         },
         "mode": "markers",
         "name": "Jhustin ",
         "orientation": "v",
         "showlegend": true,
         "type": "scatter",
         "x": [
          4,
          6
         ],
         "xaxis": "x",
         "y": [
          100,
          100
         ],
         "yaxis": "y"
        },
        {
         "hovertemplate": "firstname=John<br>Shot Distance=%{x}<br>Percentage of Made Shots=%{y}<br>timestamp=%{marker.size}<extra></extra>",
         "legendgroup": "John",
         "marker": {
          "color": "#FFA15A",
          "size": [
           14
          ],
          "sizemode": "area",
          "sizeref": 0.035,
          "symbol": "circle"
         },
         "mode": "markers",
         "name": "John",
         "orientation": "v",
         "showlegend": true,
         "type": "scatter",
         "x": [
          4
         ],
         "xaxis": "x",
         "y": [
          71.42857142857143
         ],
         "yaxis": "y"
        },
        {
         "hovertemplate": "firstname=Jordan<br>Shot Distance=%{x}<br>Percentage of Made Shots=%{y}<br>timestamp=%{marker.size}<extra></extra>",
         "legendgroup": "Jordan",
         "marker": {
          "color": "#19d3f3",
          "size": [
           1,
           1
          ],
          "sizemode": "area",
          "sizeref": 0.035,
          "symbol": "circle"
         },
         "mode": "markers",
         "name": "Jordan",
         "orientation": "v",
         "showlegend": true,
         "type": "scatter",
         "x": [
          2,
          4
         ],
         "xaxis": "x",
         "y": [
          null,
          null
         ],
         "yaxis": "y"
        },
        {
         "hovertemplate": "firstname=Joshua G<br>Shot Distance=%{x}<br>Percentage of Made Shots=%{y}<br>timestamp=%{marker.size}<extra></extra>",
         "legendgroup": "Joshua G",
         "marker": {
          "color": "#FF6692",
          "size": [
           1,
           1
          ],
          "sizemode": "area",
          "sizeref": 0.035,
          "symbol": "circle"
         },
         "mode": "markers",
         "name": "Joshua G",
         "orientation": "v",
         "showlegend": true,
         "type": "scatter",
         "x": [
          8,
          10
         ],
         "xaxis": "x",
         "y": [
          null,
          null
         ],
         "yaxis": "y"
        },
        {
         "hovertemplate": "firstname=Josip<br>Shot Distance=%{x}<br>Percentage of Made Shots=%{y}<br>timestamp=%{marker.size}<extra></extra>",
         "legendgroup": "Josip",
         "marker": {
          "color": "#B6E880",
          "size": [
           1
          ],
          "sizemode": "area",
          "sizeref": 0.035,
          "symbol": "circle"
         },
         "mode": "markers",
         "name": "Josip",
         "orientation": "v",
         "showlegend": true,
         "type": "scatter",
         "x": [
          2
         ],
         "xaxis": "x",
         "y": [
          100
         ],
         "yaxis": "y"
        },
        {
         "hovertemplate": "firstname=Julie<br>Shot Distance=%{x}<br>Percentage of Made Shots=%{y}<br>timestamp=%{marker.size}<extra></extra>",
         "legendgroup": "Julie",
         "marker": {
          "color": "#FF97FF",
          "size": [
           1
          ],
          "sizemode": "area",
          "sizeref": 0.035,
          "symbol": "circle"
         },
         "mode": "markers",
         "name": "Julie",
         "orientation": "v",
         "showlegend": true,
         "type": "scatter",
         "x": [
          2
         ],
         "xaxis": "x",
         "y": [
          100
         ],
         "yaxis": "y"
        },
        {
         "hovertemplate": "firstname=KELVIN<br>Shot Distance=%{x}<br>Percentage of Made Shots=%{y}<br>timestamp=%{marker.size}<extra></extra>",
         "legendgroup": "KELVIN",
         "marker": {
          "color": "#FECB52",
          "size": [
           1,
           1
          ],
          "sizemode": "area",
          "sizeref": 0.035,
          "symbol": "circle"
         },
         "mode": "markers",
         "name": "KELVIN",
         "orientation": "v",
         "showlegend": true,
         "type": "scatter",
         "x": [
          4,
          8
         ],
         "xaxis": "x",
         "y": [
          null,
          null
         ],
         "yaxis": "y"
        },
        {
         "hovertemplate": "firstname=Kal<br>Shot Distance=%{x}<br>Percentage of Made Shots=%{y}<br>timestamp=%{marker.size}<extra></extra>",
         "legendgroup": "Kal",
         "marker": {
          "color": "#636efa",
          "size": [
           1
          ],
          "sizemode": "area",
          "sizeref": 0.035,
          "symbol": "circle"
         },
         "mode": "markers",
         "name": "Kal",
         "orientation": "v",
         "showlegend": true,
         "type": "scatter",
         "x": [
          6
         ],
         "xaxis": "x",
         "y": [
          100
         ],
         "yaxis": "y"
        },
        {
         "hovertemplate": "firstname=Kate<br>Shot Distance=%{x}<br>Percentage of Made Shots=%{y}<br>timestamp=%{marker.size}<extra></extra>",
         "legendgroup": "Kate",
         "marker": {
          "color": "#EF553B",
          "size": [
           1
          ],
          "sizemode": "area",
          "sizeref": 0.035,
          "symbol": "circle"
         },
         "mode": "markers",
         "name": "Kate",
         "orientation": "v",
         "showlegend": true,
         "type": "scatter",
         "x": [
          10
         ],
         "xaxis": "x",
         "y": [
          null
         ],
         "yaxis": "y"
        },
        {
         "hovertemplate": "firstname=Kelly<br>Shot Distance=%{x}<br>Percentage of Made Shots=%{y}<br>timestamp=%{marker.size}<extra></extra>",
         "legendgroup": "Kelly",
         "marker": {
          "color": "#00cc96",
          "size": [
           1
          ],
          "sizemode": "area",
          "sizeref": 0.035,
          "symbol": "circle"
         },
         "mode": "markers",
         "name": "Kelly",
         "orientation": "v",
         "showlegend": true,
         "type": "scatter",
         "x": [
          4
         ],
         "xaxis": "x",
         "y": [
          null
         ],
         "yaxis": "y"
        },
        {
         "hovertemplate": "firstname=Kevin<br>Shot Distance=%{x}<br>Percentage of Made Shots=%{y}<br>timestamp=%{marker.size}<extra></extra>",
         "legendgroup": "Kevin",
         "marker": {
          "color": "#ab63fa",
          "size": [
           1
          ],
          "sizemode": "area",
          "sizeref": 0.035,
          "symbol": "circle"
         },
         "mode": "markers",
         "name": "Kevin",
         "orientation": "v",
         "showlegend": true,
         "type": "scatter",
         "x": [
          6
         ],
         "xaxis": "x",
         "y": [
          100
         ],
         "yaxis": "y"
        },
        {
         "hovertemplate": "firstname=Kirsten<br>Shot Distance=%{x}<br>Percentage of Made Shots=%{y}<br>timestamp=%{marker.size}<extra></extra>",
         "legendgroup": "Kirsten",
         "marker": {
          "color": "#FFA15A",
          "size": [
           1
          ],
          "sizemode": "area",
          "sizeref": 0.035,
          "symbol": "circle"
         },
         "mode": "markers",
         "name": "Kirsten",
         "orientation": "v",
         "showlegend": true,
         "type": "scatter",
         "x": [
          6
         ],
         "xaxis": "x",
         "y": [
          null
         ],
         "yaxis": "y"
        },
        {
         "hovertemplate": "firstname=Kobe<br>Shot Distance=%{x}<br>Percentage of Made Shots=%{y}<br>timestamp=%{marker.size}<extra></extra>",
         "legendgroup": "Kobe",
         "marker": {
          "color": "#19d3f3",
          "size": [
           1,
           1,
           1,
           5
          ],
          "sizemode": "area",
          "sizeref": 0.035,
          "symbol": "circle"
         },
         "mode": "markers",
         "name": "Kobe",
         "orientation": "v",
         "showlegend": true,
         "type": "scatter",
         "x": [
          4,
          6,
          8,
          10
         ],
         "xaxis": "x",
         "y": [
          100,
          100,
          100,
          100
         ],
         "yaxis": "y"
        },
        {
         "hovertemplate": "firstname=Kylie<br>Shot Distance=%{x}<br>Percentage of Made Shots=%{y}<br>timestamp=%{marker.size}<extra></extra>",
         "legendgroup": "Kylie",
         "marker": {
          "color": "#FF6692",
          "size": [
           1
          ],
          "sizemode": "area",
          "sizeref": 0.035,
          "symbol": "circle"
         },
         "mode": "markers",
         "name": "Kylie",
         "orientation": "v",
         "showlegend": true,
         "type": "scatter",
         "x": [
          10
         ],
         "xaxis": "x",
         "y": [
          null
         ],
         "yaxis": "y"
        },
        {
         "hovertemplate": "firstname=LN<br>Shot Distance=%{x}<br>Percentage of Made Shots=%{y}<br>timestamp=%{marker.size}<extra></extra>",
         "legendgroup": "LN",
         "marker": {
          "color": "#B6E880",
          "size": [
           2
          ],
          "sizemode": "area",
          "sizeref": 0.035,
          "symbol": "circle"
         },
         "mode": "markers",
         "name": "LN",
         "orientation": "v",
         "showlegend": true,
         "type": "scatter",
         "x": [
          8
         ],
         "xaxis": "x",
         "y": [
          null
         ],
         "yaxis": "y"
        },
        {
         "hovertemplate": "firstname=Lebron<br>Shot Distance=%{x}<br>Percentage of Made Shots=%{y}<br>timestamp=%{marker.size}<extra></extra>",
         "legendgroup": "Lebron",
         "marker": {
          "color": "#FF97FF",
          "size": [
           1
          ],
          "sizemode": "area",
          "sizeref": 0.035,
          "symbol": "circle"
         },
         "mode": "markers",
         "name": "Lebron",
         "orientation": "v",
         "showlegend": true,
         "type": "scatter",
         "x": [
          10
         ],
         "xaxis": "x",
         "y": [
          100
         ],
         "yaxis": "y"
        },
        {
         "hovertemplate": "firstname=Lesley<br>Shot Distance=%{x}<br>Percentage of Made Shots=%{y}<br>timestamp=%{marker.size}<extra></extra>",
         "legendgroup": "Lesley",
         "marker": {
          "color": "#FECB52",
          "size": [
           2
          ],
          "sizemode": "area",
          "sizeref": 0.035,
          "symbol": "circle"
         },
         "mode": "markers",
         "name": "Lesley",
         "orientation": "v",
         "showlegend": true,
         "type": "scatter",
         "x": [
          4
         ],
         "xaxis": "x",
         "y": [
          100
         ],
         "yaxis": "y"
        },
        {
         "hovertemplate": "firstname=MG<br>Shot Distance=%{x}<br>Percentage of Made Shots=%{y}<br>timestamp=%{marker.size}<extra></extra>",
         "legendgroup": "MG",
         "marker": {
          "color": "#636efa",
          "size": [
           1,
           5,
           3
          ],
          "sizemode": "area",
          "sizeref": 0.035,
          "symbol": "circle"
         },
         "mode": "markers",
         "name": "MG",
         "orientation": "v",
         "showlegend": true,
         "type": "scatter",
         "x": [
          2,
          8,
          10
         ],
         "xaxis": "x",
         "y": [
          100,
          60,
          66.66666666666666
         ],
         "yaxis": "y"
        },
        {
         "hovertemplate": "firstname=MPT<br>Shot Distance=%{x}<br>Percentage of Made Shots=%{y}<br>timestamp=%{marker.size}<extra></extra>",
         "legendgroup": "MPT",
         "marker": {
          "color": "#EF553B",
          "size": [
           4
          ],
          "sizemode": "area",
          "sizeref": 0.035,
          "symbol": "circle"
         },
         "mode": "markers",
         "name": "MPT",
         "orientation": "v",
         "showlegend": true,
         "type": "scatter",
         "x": [
          4
         ],
         "xaxis": "x",
         "y": [
          25
         ],
         "yaxis": "y"
        },
        {
         "hovertemplate": "firstname=Mac<br>Shot Distance=%{x}<br>Percentage of Made Shots=%{y}<br>timestamp=%{marker.size}<extra></extra>",
         "legendgroup": "Mac",
         "marker": {
          "color": "#00cc96",
          "size": [
           1
          ],
          "sizemode": "area",
          "sizeref": 0.035,
          "symbol": "circle"
         },
         "mode": "markers",
         "name": "Mac",
         "orientation": "v",
         "showlegend": true,
         "type": "scatter",
         "x": [
          6
         ],
         "xaxis": "x",
         "y": [
          100
         ],
         "yaxis": "y"
        },
        {
         "hovertemplate": "firstname=Marco<br>Shot Distance=%{x}<br>Percentage of Made Shots=%{y}<br>timestamp=%{marker.size}<extra></extra>",
         "legendgroup": "Marco",
         "marker": {
          "color": "#ab63fa",
          "size": [
           1
          ],
          "sizemode": "area",
          "sizeref": 0.035,
          "symbol": "circle"
         },
         "mode": "markers",
         "name": "Marco",
         "orientation": "v",
         "showlegend": true,
         "type": "scatter",
         "x": [
          6
         ],
         "xaxis": "x",
         "y": [
          100
         ],
         "yaxis": "y"
        },
        {
         "hovertemplate": "firstname=Marina C<br>Shot Distance=%{x}<br>Percentage of Made Shots=%{y}<br>timestamp=%{marker.size}<extra></extra>",
         "legendgroup": "Marina C",
         "marker": {
          "color": "#FFA15A",
          "size": [
           5,
           11
          ],
          "sizemode": "area",
          "sizeref": 0.035,
          "symbol": "circle"
         },
         "mode": "markers",
         "name": "Marina C",
         "orientation": "v",
         "showlegend": true,
         "type": "scatter",
         "x": [
          4,
          6
         ],
         "xaxis": "x",
         "y": [
          40,
          54.54545454545454
         ],
         "yaxis": "y"
        },
        {
         "hovertemplate": "firstname=Marjoire<br>Shot Distance=%{x}<br>Percentage of Made Shots=%{y}<br>timestamp=%{marker.size}<extra></extra>",
         "legendgroup": "Marjoire",
         "marker": {
          "color": "#19d3f3",
          "size": [
           1,
           1
          ],
          "sizemode": "area",
          "sizeref": 0.035,
          "symbol": "circle"
         },
         "mode": "markers",
         "name": "Marjoire",
         "orientation": "v",
         "showlegend": true,
         "type": "scatter",
         "x": [
          4,
          6
         ],
         "xaxis": "x",
         "y": [
          null,
          null
         ],
         "yaxis": "y"
        },
        {
         "hovertemplate": "firstname=Marjorie<br>Shot Distance=%{x}<br>Percentage of Made Shots=%{y}<br>timestamp=%{marker.size}<extra></extra>",
         "legendgroup": "Marjorie",
         "marker": {
          "color": "#FF6692",
          "size": [
           3,
           2,
           2,
           3,
           1
          ],
          "sizemode": "area",
          "sizeref": 0.035,
          "symbol": "circle"
         },
         "mode": "markers",
         "name": "Marjorie",
         "orientation": "v",
         "showlegend": true,
         "type": "scatter",
         "x": [
          2,
          4,
          6,
          8,
          10
         ],
         "xaxis": "x",
         "y": [
          100,
          50,
          null,
          66.66666666666666,
          null
         ],
         "yaxis": "y"
        },
        {
         "hovertemplate": "firstname=Marjorie <br>Shot Distance=%{x}<br>Percentage of Made Shots=%{y}<br>timestamp=%{marker.size}<extra></extra>",
         "legendgroup": "Marjorie ",
         "marker": {
          "color": "#B6E880",
          "size": [
           1,
           1,
           1,
           1,
           1
          ],
          "sizemode": "area",
          "sizeref": 0.035,
          "symbol": "circle"
         },
         "mode": "markers",
         "name": "Marjorie ",
         "orientation": "v",
         "showlegend": true,
         "type": "scatter",
         "x": [
          2,
          4,
          6,
          8,
          10
         ],
         "xaxis": "x",
         "y": [
          100,
          100,
          100,
          null,
          null
         ],
         "yaxis": "y"
        },
        {
         "hovertemplate": "firstname=Mark<br>Shot Distance=%{x}<br>Percentage of Made Shots=%{y}<br>timestamp=%{marker.size}<extra></extra>",
         "legendgroup": "Mark",
         "marker": {
          "color": "#FF97FF",
          "size": [
           3
          ],
          "sizemode": "area",
          "sizeref": 0.035,
          "symbol": "circle"
         },
         "mode": "markers",
         "name": "Mark",
         "orientation": "v",
         "showlegend": true,
         "type": "scatter",
         "x": [
          6
         ],
         "xaxis": "x",
         "y": [
          66.66666666666666
         ],
         "yaxis": "y"
        },
        {
         "hovertemplate": "firstname=Meagan<br>Shot Distance=%{x}<br>Percentage of Made Shots=%{y}<br>timestamp=%{marker.size}<extra></extra>",
         "legendgroup": "Meagan",
         "marker": {
          "color": "#FECB52",
          "size": [
           1
          ],
          "sizemode": "area",
          "sizeref": 0.035,
          "symbol": "circle"
         },
         "mode": "markers",
         "name": "Meagan",
         "orientation": "v",
         "showlegend": true,
         "type": "scatter",
         "x": [
          2
         ],
         "xaxis": "x",
         "y": [
          null
         ],
         "yaxis": "y"
        },
        {
         "hovertemplate": "firstname=Michelle<br>Shot Distance=%{x}<br>Percentage of Made Shots=%{y}<br>timestamp=%{marker.size}<extra></extra>",
         "legendgroup": "Michelle",
         "marker": {
          "color": "#636efa",
          "size": [
           1,
           1
          ],
          "sizemode": "area",
          "sizeref": 0.035,
          "symbol": "circle"
         },
         "mode": "markers",
         "name": "Michelle",
         "orientation": "v",
         "showlegend": true,
         "type": "scatter",
         "x": [
          6,
          8
         ],
         "xaxis": "x",
         "y": [
          null,
          null
         ],
         "yaxis": "y"
        },
        {
         "hovertemplate": "firstname=Mike<br>Shot Distance=%{x}<br>Percentage of Made Shots=%{y}<br>timestamp=%{marker.size}<extra></extra>",
         "legendgroup": "Mike",
         "marker": {
          "color": "#EF553B",
          "size": [
           3,
           1
          ],
          "sizemode": "area",
          "sizeref": 0.035,
          "symbol": "circle"
         },
         "mode": "markers",
         "name": "Mike",
         "orientation": "v",
         "showlegend": true,
         "type": "scatter",
         "x": [
          8,
          10
         ],
         "xaxis": "x",
         "y": [
          null,
          null
         ],
         "yaxis": "y"
        },
        {
         "hovertemplate": "firstname=NP<br>Shot Distance=%{x}<br>Percentage of Made Shots=%{y}<br>timestamp=%{marker.size}<extra></extra>",
         "legendgroup": "NP",
         "marker": {
          "color": "#00cc96",
          "size": [
           1,
           1
          ],
          "sizemode": "area",
          "sizeref": 0.035,
          "symbol": "circle"
         },
         "mode": "markers",
         "name": "NP",
         "orientation": "v",
         "showlegend": true,
         "type": "scatter",
         "x": [
          4,
          10
         ],
         "xaxis": "x",
         "y": [
          100,
          null
         ],
         "yaxis": "y"
        },
        {
         "hovertemplate": "firstname=Nathan<br>Shot Distance=%{x}<br>Percentage of Made Shots=%{y}<br>timestamp=%{marker.size}<extra></extra>",
         "legendgroup": "Nathan",
         "marker": {
          "color": "#ab63fa",
          "size": [
           1,
           1
          ],
          "sizemode": "area",
          "sizeref": 0.035,
          "symbol": "circle"
         },
         "mode": "markers",
         "name": "Nathan",
         "orientation": "v",
         "showlegend": true,
         "type": "scatter",
         "x": [
          2,
          8
         ],
         "xaxis": "x",
         "y": [
          100,
          null
         ],
         "yaxis": "y"
        },
        {
         "hovertemplate": "firstname=Naya<br>Shot Distance=%{x}<br>Percentage of Made Shots=%{y}<br>timestamp=%{marker.size}<extra></extra>",
         "legendgroup": "Naya",
         "marker": {
          "color": "#FFA15A",
          "size": [
           4,
           1,
           1,
           4,
           4
          ],
          "sizemode": "area",
          "sizeref": 0.035,
          "symbol": "circle"
         },
         "mode": "markers",
         "name": "Naya",
         "orientation": "v",
         "showlegend": true,
         "type": "scatter",
         "x": [
          2,
          4,
          6,
          8,
          10
         ],
         "xaxis": "x",
         "y": [
          100,
          100,
          null,
          25,
          null
         ],
         "yaxis": "y"
        },
        {
         "hovertemplate": "firstname=Nico<br>Shot Distance=%{x}<br>Percentage of Made Shots=%{y}<br>timestamp=%{marker.size}<extra></extra>",
         "legendgroup": "Nico",
         "marker": {
          "color": "#19d3f3",
          "size": [
           14
          ],
          "sizemode": "area",
          "sizeref": 0.035,
          "symbol": "circle"
         },
         "mode": "markers",
         "name": "Nico",
         "orientation": "v",
         "showlegend": true,
         "type": "scatter",
         "x": [
          10
         ],
         "xaxis": "x",
         "y": [
          42.857142857142854
         ],
         "yaxis": "y"
        },
        {
         "hovertemplate": "firstname=Omar<br>Shot Distance=%{x}<br>Percentage of Made Shots=%{y}<br>timestamp=%{marker.size}<extra></extra>",
         "legendgroup": "Omar",
         "marker": {
          "color": "#FF6692",
          "size": [
           1
          ],
          "sizemode": "area",
          "sizeref": 0.035,
          "symbol": "circle"
         },
         "mode": "markers",
         "name": "Omar",
         "orientation": "v",
         "showlegend": true,
         "type": "scatter",
         "x": [
          4
         ],
         "xaxis": "x",
         "y": [
          100
         ],
         "yaxis": "y"
        },
        {
         "hovertemplate": "firstname=PB<br>Shot Distance=%{x}<br>Percentage of Made Shots=%{y}<br>timestamp=%{marker.size}<extra></extra>",
         "legendgroup": "PB",
         "marker": {
          "color": "#B6E880",
          "size": [
           1,
           1,
           2,
           1
          ],
          "sizemode": "area",
          "sizeref": 0.035,
          "symbol": "circle"
         },
         "mode": "markers",
         "name": "PB",
         "orientation": "v",
         "showlegend": true,
         "type": "scatter",
         "x": [
          2,
          4,
          6,
          8
         ],
         "xaxis": "x",
         "y": [
          100,
          100,
          50,
          null
         ],
         "yaxis": "y"
        },
        {
         "hovertemplate": "firstname=Pooja<br>Shot Distance=%{x}<br>Percentage of Made Shots=%{y}<br>timestamp=%{marker.size}<extra></extra>",
         "legendgroup": "Pooja",
         "marker": {
          "color": "#FF97FF",
          "size": [
           1
          ],
          "sizemode": "area",
          "sizeref": 0.035,
          "symbol": "circle"
         },
         "mode": "markers",
         "name": "Pooja",
         "orientation": "v",
         "showlegend": true,
         "type": "scatter",
         "x": [
          6
         ],
         "xaxis": "x",
         "y": [
          null
         ],
         "yaxis": "y"
        },
        {
         "hovertemplate": "firstname=R.M<br>Shot Distance=%{x}<br>Percentage of Made Shots=%{y}<br>timestamp=%{marker.size}<extra></extra>",
         "legendgroup": "R.M",
         "marker": {
          "color": "#FECB52",
          "size": [
           2,
           1,
           3,
           9
          ],
          "sizemode": "area",
          "sizeref": 0.035,
          "symbol": "circle"
         },
         "mode": "markers",
         "name": "R.M",
         "orientation": "v",
         "showlegend": true,
         "type": "scatter",
         "x": [
          2,
          4,
          8,
          10
         ],
         "xaxis": "x",
         "y": [
          100,
          100,
          66.66666666666666,
          22.22222222222222
         ],
         "yaxis": "y"
        },
        {
         "hovertemplate": "firstname=Rebecca<br>Shot Distance=%{x}<br>Percentage of Made Shots=%{y}<br>timestamp=%{marker.size}<extra></extra>",
         "legendgroup": "Rebecca",
         "marker": {
          "color": "#636efa",
          "size": [
           1
          ],
          "sizemode": "area",
          "sizeref": 0.035,
          "symbol": "circle"
         },
         "mode": "markers",
         "name": "Rebecca",
         "orientation": "v",
         "showlegend": true,
         "type": "scatter",
         "x": [
          8
         ],
         "xaxis": "x",
         "y": [
          100
         ],
         "yaxis": "y"
        },
        {
         "hovertemplate": "firstname=Riley<br>Shot Distance=%{x}<br>Percentage of Made Shots=%{y}<br>timestamp=%{marker.size}<extra></extra>",
         "legendgroup": "Riley",
         "marker": {
          "color": "#EF553B",
          "size": [
           1,
           2
          ],
          "sizemode": "area",
          "sizeref": 0.035,
          "symbol": "circle"
         },
         "mode": "markers",
         "name": "Riley",
         "orientation": "v",
         "showlegend": true,
         "type": "scatter",
         "x": [
          4,
          10
         ],
         "xaxis": "x",
         "y": [
          null,
          null
         ],
         "yaxis": "y"
        },
        {
         "hovertemplate": "firstname=Rolland<br>Shot Distance=%{x}<br>Percentage of Made Shots=%{y}<br>timestamp=%{marker.size}<extra></extra>",
         "legendgroup": "Rolland",
         "marker": {
          "color": "#00cc96",
          "size": [
           1,
           1,
           1,
           1
          ],
          "sizemode": "area",
          "sizeref": 0.035,
          "symbol": "circle"
         },
         "mode": "markers",
         "name": "Rolland",
         "orientation": "v",
         "showlegend": true,
         "type": "scatter",
         "x": [
          2,
          4,
          6,
          8
         ],
         "xaxis": "x",
         "y": [
          null,
          null,
          null,
          100
         ],
         "yaxis": "y"
        },
        {
         "hovertemplate": "firstname=Ryan<br>Shot Distance=%{x}<br>Percentage of Made Shots=%{y}<br>timestamp=%{marker.size}<extra></extra>",
         "legendgroup": "Ryan",
         "marker": {
          "color": "#ab63fa",
          "size": [
           1,
           1
          ],
          "sizemode": "area",
          "sizeref": 0.035,
          "symbol": "circle"
         },
         "mode": "markers",
         "name": "Ryan",
         "orientation": "v",
         "showlegend": true,
         "type": "scatter",
         "x": [
          4,
          10
         ],
         "xaxis": "x",
         "y": [
          null,
          null
         ],
         "yaxis": "y"
        },
        {
         "hovertemplate": "firstname=SB<br>Shot Distance=%{x}<br>Percentage of Made Shots=%{y}<br>timestamp=%{marker.size}<extra></extra>",
         "legendgroup": "SB",
         "marker": {
          "color": "#FFA15A",
          "size": [
           1,
           1
          ],
          "sizemode": "area",
          "sizeref": 0.035,
          "symbol": "circle"
         },
         "mode": "markers",
         "name": "SB",
         "orientation": "v",
         "showlegend": true,
         "type": "scatter",
         "x": [
          4,
          8
         ],
         "xaxis": "x",
         "y": [
          100,
          null
         ],
         "yaxis": "y"
        },
        {
         "hovertemplate": "firstname=Scooter<br>Shot Distance=%{x}<br>Percentage of Made Shots=%{y}<br>timestamp=%{marker.size}<extra></extra>",
         "legendgroup": "Scooter",
         "marker": {
          "color": "#19d3f3",
          "size": [
           1
          ],
          "sizemode": "area",
          "sizeref": 0.035,
          "symbol": "circle"
         },
         "mode": "markers",
         "name": "Scooter",
         "orientation": "v",
         "showlegend": true,
         "type": "scatter",
         "x": [
          2
         ],
         "xaxis": "x",
         "y": [
          null
         ],
         "yaxis": "y"
        },
        {
         "hovertemplate": "firstname=Scooter <br>Shot Distance=%{x}<br>Percentage of Made Shots=%{y}<br>timestamp=%{marker.size}<extra></extra>",
         "legendgroup": "Scooter ",
         "marker": {
          "color": "#FF6692",
          "size": [
           1,
           1
          ],
          "sizemode": "area",
          "sizeref": 0.035,
          "symbol": "circle"
         },
         "mode": "markers",
         "name": "Scooter ",
         "orientation": "v",
         "showlegend": true,
         "type": "scatter",
         "x": [
          4,
          6
         ],
         "xaxis": "x",
         "y": [
          null,
          null
         ],
         "yaxis": "y"
        },
        {
         "hovertemplate": "firstname=Scott<br>Shot Distance=%{x}<br>Percentage of Made Shots=%{y}<br>timestamp=%{marker.size}<extra></extra>",
         "legendgroup": "Scott",
         "marker": {
          "color": "#B6E880",
          "size": [
           5,
           1,
           1,
           3,
           1
          ],
          "sizemode": "area",
          "sizeref": 0.035,
          "symbol": "circle"
         },
         "mode": "markers",
         "name": "Scott",
         "orientation": "v",
         "showlegend": true,
         "type": "scatter",
         "x": [
          2,
          4,
          6,
          8,
          10
         ],
         "xaxis": "x",
         "y": [
          null,
          null,
          null,
          null,
          null
         ],
         "yaxis": "y"
        },
        {
         "hovertemplate": "firstname=Simon<br>Shot Distance=%{x}<br>Percentage of Made Shots=%{y}<br>timestamp=%{marker.size}<extra></extra>",
         "legendgroup": "Simon",
         "marker": {
          "color": "#FF97FF",
          "size": [
           3
          ],
          "sizemode": "area",
          "sizeref": 0.035,
          "symbol": "circle"
         },
         "mode": "markers",
         "name": "Simon",
         "orientation": "v",
         "showlegend": true,
         "type": "scatter",
         "x": [
          10
         ],
         "xaxis": "x",
         "y": [
          100
         ],
         "yaxis": "y"
        },
        {
         "hovertemplate": "firstname=Sophia<br>Shot Distance=%{x}<br>Percentage of Made Shots=%{y}<br>timestamp=%{marker.size}<extra></extra>",
         "legendgroup": "Sophia",
         "marker": {
          "color": "#FECB52",
          "size": [
           2,
           2,
           2,
           2,
           2
          ],
          "sizemode": "area",
          "sizeref": 0.035,
          "symbol": "circle"
         },
         "mode": "markers",
         "name": "Sophia",
         "orientation": "v",
         "showlegend": true,
         "type": "scatter",
         "x": [
          2,
          4,
          6,
          8,
          10
         ],
         "xaxis": "x",
         "y": [
          100,
          50,
          50,
          100,
          100
         ],
         "yaxis": "y"
        },
        {
         "hovertemplate": "firstname=Sophia <br>Shot Distance=%{x}<br>Percentage of Made Shots=%{y}<br>timestamp=%{marker.size}<extra></extra>",
         "legendgroup": "Sophia ",
         "marker": {
          "color": "#636efa",
          "size": [
           1,
           1,
           1,
           2
          ],
          "sizemode": "area",
          "sizeref": 0.035,
          "symbol": "circle"
         },
         "mode": "markers",
         "name": "Sophia ",
         "orientation": "v",
         "showlegend": true,
         "type": "scatter",
         "x": [
          2,
          4,
          6,
          8
         ],
         "xaxis": "x",
         "y": [
          100,
          100,
          100,
          50
         ],
         "yaxis": "y"
        },
        {
         "hovertemplate": "firstname=Stefano<br>Shot Distance=%{x}<br>Percentage of Made Shots=%{y}<br>timestamp=%{marker.size}<extra></extra>",
         "legendgroup": "Stefano",
         "marker": {
          "color": "#EF553B",
          "size": [
           1,
           6
          ],
          "sizemode": "area",
          "sizeref": 0.035,
          "symbol": "circle"
         },
         "mode": "markers",
         "name": "Stefano",
         "orientation": "v",
         "showlegend": true,
         "type": "scatter",
         "x": [
          8,
          10
         ],
         "xaxis": "x",
         "y": [
          100,
          33.33333333333333
         ],
         "yaxis": "y"
        },
        {
         "hovertemplate": "firstname=Tainy<br>Shot Distance=%{x}<br>Percentage of Made Shots=%{y}<br>timestamp=%{marker.size}<extra></extra>",
         "legendgroup": "Tainy",
         "marker": {
          "color": "#00cc96",
          "size": [
           1,
           1
          ],
          "sizemode": "area",
          "sizeref": 0.035,
          "symbol": "circle"
         },
         "mode": "markers",
         "name": "Tainy",
         "orientation": "v",
         "showlegend": true,
         "type": "scatter",
         "x": [
          2,
          8
         ],
         "xaxis": "x",
         "y": [
          100,
          null
         ],
         "yaxis": "y"
        },
        {
         "hovertemplate": "firstname=Terry<br>Shot Distance=%{x}<br>Percentage of Made Shots=%{y}<br>timestamp=%{marker.size}<extra></extra>",
         "legendgroup": "Terry",
         "marker": {
          "color": "#ab63fa",
          "size": [
           2
          ],
          "sizemode": "area",
          "sizeref": 0.035,
          "symbol": "circle"
         },
         "mode": "markers",
         "name": "Terry",
         "orientation": "v",
         "showlegend": true,
         "type": "scatter",
         "x": [
          8
         ],
         "xaxis": "x",
         "y": [
          100
         ],
         "yaxis": "y"
        },
        {
         "hovertemplate": "firstname=Terry <br>Shot Distance=%{x}<br>Percentage of Made Shots=%{y}<br>timestamp=%{marker.size}<extra></extra>",
         "legendgroup": "Terry ",
         "marker": {
          "color": "#FFA15A",
          "size": [
           4
          ],
          "sizemode": "area",
          "sizeref": 0.035,
          "symbol": "circle"
         },
         "mode": "markers",
         "name": "Terry ",
         "orientation": "v",
         "showlegend": true,
         "type": "scatter",
         "x": [
          8
         ],
         "xaxis": "x",
         "y": [
          25
         ],
         "yaxis": "y"
        },
        {
         "hovertemplate": "firstname=VSS<br>Shot Distance=%{x}<br>Percentage of Made Shots=%{y}<br>timestamp=%{marker.size}<extra></extra>",
         "legendgroup": "VSS",
         "marker": {
          "color": "#19d3f3",
          "size": [
           1,
           1
          ],
          "sizemode": "area",
          "sizeref": 0.035,
          "symbol": "circle"
         },
         "mode": "markers",
         "name": "VSS",
         "orientation": "v",
         "showlegend": true,
         "type": "scatter",
         "x": [
          2,
          4
         ],
         "xaxis": "x",
         "y": [
          100,
          null
         ],
         "yaxis": "y"
        },
        {
         "hovertemplate": "firstname=ale<br>Shot Distance=%{x}<br>Percentage of Made Shots=%{y}<br>timestamp=%{marker.size}<extra></extra>",
         "legendgroup": "ale",
         "marker": {
          "color": "#FF6692",
          "size": [
           7,
           3,
           2,
           2,
           1
          ],
          "sizemode": "area",
          "sizeref": 0.035,
          "symbol": "circle"
         },
         "mode": "markers",
         "name": "ale",
         "orientation": "v",
         "showlegend": true,
         "type": "scatter",
         "x": [
          2,
          4,
          6,
          8,
          10
         ],
         "xaxis": "x",
         "y": [
          57.14285714285714,
          66.66666666666666,
          50,
          50,
          100
         ],
         "yaxis": "y"
        },
        {
         "hovertemplate": "firstname=ben<br>Shot Distance=%{x}<br>Percentage of Made Shots=%{y}<br>timestamp=%{marker.size}<extra></extra>",
         "legendgroup": "ben",
         "marker": {
          "color": "#B6E880",
          "size": [
           1,
           1,
           2,
           1,
           1
          ],
          "sizemode": "area",
          "sizeref": 0.035,
          "symbol": "circle"
         },
         "mode": "markers",
         "name": "ben",
         "orientation": "v",
         "showlegend": true,
         "type": "scatter",
         "x": [
          2,
          4,
          6,
          8,
          10
         ],
         "xaxis": "x",
         "y": [
          null,
          null,
          50,
          null,
          null
         ],
         "yaxis": "y"
        },
        {
         "hovertemplate": "firstname=ben <br>Shot Distance=%{x}<br>Percentage of Made Shots=%{y}<br>timestamp=%{marker.size}<extra></extra>",
         "legendgroup": "ben ",
         "marker": {
          "color": "#FF97FF",
          "size": [
           1,
           2
          ],
          "sizemode": "area",
          "sizeref": 0.035,
          "symbol": "circle"
         },
         "mode": "markers",
         "name": "ben ",
         "orientation": "v",
         "showlegend": true,
         "type": "scatter",
         "x": [
          8,
          10
         ],
         "xaxis": "x",
         "y": [
          null,
          null
         ],
         "yaxis": "y"
        },
        {
         "hovertemplate": "firstname=benjamin <br>Shot Distance=%{x}<br>Percentage of Made Shots=%{y}<br>timestamp=%{marker.size}<extra></extra>",
         "legendgroup": "benjamin ",
         "marker": {
          "color": "#FECB52",
          "size": [
           1,
           1
          ],
          "sizemode": "area",
          "sizeref": 0.035,
          "symbol": "circle"
         },
         "mode": "markers",
         "name": "benjamin ",
         "orientation": "v",
         "showlegend": true,
         "type": "scatter",
         "x": [
          8,
          10
         ],
         "xaxis": "x",
         "y": [
          null,
          null
         ],
         "yaxis": "y"
        },
        {
         "hovertemplate": "firstname=dyaln<br>Shot Distance=%{x}<br>Percentage of Made Shots=%{y}<br>timestamp=%{marker.size}<extra></extra>",
         "legendgroup": "dyaln",
         "marker": {
          "color": "#636efa",
          "size": [
           1
          ],
          "sizemode": "area",
          "sizeref": 0.035,
          "symbol": "circle"
         },
         "mode": "markers",
         "name": "dyaln",
         "orientation": "v",
         "showlegend": true,
         "type": "scatter",
         "x": [
          6
         ],
         "xaxis": "x",
         "y": [
          100
         ],
         "yaxis": "y"
        },
        {
         "hovertemplate": "firstname=dylan<br>Shot Distance=%{x}<br>Percentage of Made Shots=%{y}<br>timestamp=%{marker.size}<extra></extra>",
         "legendgroup": "dylan",
         "marker": {
          "color": "#EF553B",
          "size": [
           2,
           3
          ],
          "sizemode": "area",
          "sizeref": 0.035,
          "symbol": "circle"
         },
         "mode": "markers",
         "name": "dylan",
         "orientation": "v",
         "showlegend": true,
         "type": "scatter",
         "x": [
          2,
          10
         ],
         "xaxis": "x",
         "y": [
          100,
          33.33333333333333
         ],
         "yaxis": "y"
        },
        {
         "hovertemplate": "firstname=dylan <br>Shot Distance=%{x}<br>Percentage of Made Shots=%{y}<br>timestamp=%{marker.size}<extra></extra>",
         "legendgroup": "dylan ",
         "marker": {
          "color": "#00cc96",
          "size": [
           2,
           2,
           1
          ],
          "sizemode": "area",
          "sizeref": 0.035,
          "symbol": "circle"
         },
         "mode": "markers",
         "name": "dylan ",
         "orientation": "v",
         "showlegend": true,
         "type": "scatter",
         "x": [
          6,
          8,
          10
         ],
         "xaxis": "x",
         "y": [
          null,
          null,
          null
         ],
         "yaxis": "y"
        },
        {
         "hovertemplate": "firstname=jacob<br>Shot Distance=%{x}<br>Percentage of Made Shots=%{y}<br>timestamp=%{marker.size}<extra></extra>",
         "legendgroup": "jacob",
         "marker": {
          "color": "#ab63fa",
          "size": [
           1
          ],
          "sizemode": "area",
          "sizeref": 0.035,
          "symbol": "circle"
         },
         "mode": "markers",
         "name": "jacob",
         "orientation": "v",
         "showlegend": true,
         "type": "scatter",
         "x": [
          10
         ],
         "xaxis": "x",
         "y": [
          null
         ],
         "yaxis": "y"
        },
        {
         "hovertemplate": "firstname=jhustin<br>Shot Distance=%{x}<br>Percentage of Made Shots=%{y}<br>timestamp=%{marker.size}<extra></extra>",
         "legendgroup": "jhustin",
         "marker": {
          "color": "#FFA15A",
          "size": [
           1
          ],
          "sizemode": "area",
          "sizeref": 0.035,
          "symbol": "circle"
         },
         "mode": "markers",
         "name": "jhustin",
         "orientation": "v",
         "showlegend": true,
         "type": "scatter",
         "x": [
          2
         ],
         "xaxis": "x",
         "y": [
          100
         ],
         "yaxis": "y"
        },
        {
         "hovertemplate": "firstname=josh<br>Shot Distance=%{x}<br>Percentage of Made Shots=%{y}<br>timestamp=%{marker.size}<extra></extra>",
         "legendgroup": "josh",
         "marker": {
          "color": "#19d3f3",
          "size": [
           1,
           1,
           1,
           1
          ],
          "sizemode": "area",
          "sizeref": 0.035,
          "symbol": "circle"
         },
         "mode": "markers",
         "name": "josh",
         "orientation": "v",
         "showlegend": true,
         "type": "scatter",
         "x": [
          2,
          4,
          6,
          10
         ],
         "xaxis": "x",
         "y": [
          100,
          null,
          null,
          null
         ],
         "yaxis": "y"
        },
        {
         "hovertemplate": "firstname=josh <br>Shot Distance=%{x}<br>Percentage of Made Shots=%{y}<br>timestamp=%{marker.size}<extra></extra>",
         "legendgroup": "josh ",
         "marker": {
          "color": "#FF6692",
          "size": [
           1,
           2,
           1
          ],
          "sizemode": "area",
          "sizeref": 0.035,
          "symbol": "circle"
         },
         "mode": "markers",
         "name": "josh ",
         "orientation": "v",
         "showlegend": true,
         "type": "scatter",
         "x": [
          6,
          8,
          10
         ],
         "xaxis": "x",
         "y": [
          null,
          null,
          null
         ],
         "yaxis": "y"
        },
        {
         "hovertemplate": "firstname=kirsten<br>Shot Distance=%{x}<br>Percentage of Made Shots=%{y}<br>timestamp=%{marker.size}<extra></extra>",
         "legendgroup": "kirsten",
         "marker": {
          "color": "#B6E880",
          "size": [
           1,
           2
          ],
          "sizemode": "area",
          "sizeref": 0.035,
          "symbol": "circle"
         },
         "mode": "markers",
         "name": "kirsten",
         "orientation": "v",
         "showlegend": true,
         "type": "scatter",
         "x": [
          6,
          8
         ],
         "xaxis": "x",
         "y": [
          100,
          50
         ],
         "yaxis": "y"
        },
        {
         "hovertemplate": "firstname=m.o<br>Shot Distance=%{x}<br>Percentage of Made Shots=%{y}<br>timestamp=%{marker.size}<extra></extra>",
         "legendgroup": "m.o",
         "marker": {
          "color": "#FF97FF",
          "size": [
           1,
           1,
           1,
           2
          ],
          "sizemode": "area",
          "sizeref": 0.035,
          "symbol": "circle"
         },
         "mode": "markers",
         "name": "m.o",
         "orientation": "v",
         "showlegend": true,
         "type": "scatter",
         "x": [
          2,
          4,
          8,
          10
         ],
         "xaxis": "x",
         "y": [
          100,
          100,
          null,
          null
         ],
         "yaxis": "y"
        },
        {
         "hovertemplate": "firstname=mubarak<br>Shot Distance=%{x}<br>Percentage of Made Shots=%{y}<br>timestamp=%{marker.size}<extra></extra>",
         "legendgroup": "mubarak",
         "marker": {
          "color": "#FECB52",
          "size": [
           1,
           2,
           1
          ],
          "sizemode": "area",
          "sizeref": 0.035,
          "symbol": "circle"
         },
         "mode": "markers",
         "name": "mubarak",
         "orientation": "v",
         "showlegend": true,
         "type": "scatter",
         "x": [
          4,
          6,
          8
         ],
         "xaxis": "x",
         "y": [
          100,
          null,
          null
         ],
         "yaxis": "y"
        },
        {
         "hovertemplate": "firstname=mubarak <br>Shot Distance=%{x}<br>Percentage of Made Shots=%{y}<br>timestamp=%{marker.size}<extra></extra>",
         "legendgroup": "mubarak ",
         "marker": {
          "color": "#636efa",
          "size": [
           1,
           2,
           2,
           2
          ],
          "sizemode": "area",
          "sizeref": 0.035,
          "symbol": "circle"
         },
         "mode": "markers",
         "name": "mubarak ",
         "orientation": "v",
         "showlegend": true,
         "type": "scatter",
         "x": [
          2,
          6,
          8,
          10
         ],
         "xaxis": "x",
         "y": [
          100,
          null,
          null,
          null
         ],
         "yaxis": "y"
        },
        {
         "hovertemplate": "firstname=naya<br>Shot Distance=%{x}<br>Percentage of Made Shots=%{y}<br>timestamp=%{marker.size}<extra></extra>",
         "legendgroup": "naya",
         "marker": {
          "color": "#EF553B",
          "size": [
           4,
           2,
           1,
           2,
           2
          ],
          "sizemode": "area",
          "sizeref": 0.035,
          "symbol": "circle"
         },
         "mode": "markers",
         "name": "naya",
         "orientation": "v",
         "showlegend": true,
         "type": "scatter",
         "x": [
          2,
          4,
          6,
          8,
          10
         ],
         "xaxis": "x",
         "y": [
          75,
          50,
          100,
          50,
          50
         ],
         "yaxis": "y"
        }
       ],
       "layout": {
        "legend": {
         "itemsizing": "constant",
         "title": {
          "text": "firstname"
         },
         "tracegroupgap": 0
        },
        "template": {
         "data": {
          "bar": [
           {
            "error_x": {
             "color": "#2a3f5f"
            },
            "error_y": {
             "color": "#2a3f5f"
            },
            "marker": {
             "line": {
              "color": "#E5ECF6",
              "width": 0.5
             },
             "pattern": {
              "fillmode": "overlay",
              "size": 10,
              "solidity": 0.2
             }
            },
            "type": "bar"
           }
          ],
          "barpolar": [
           {
            "marker": {
             "line": {
              "color": "#E5ECF6",
              "width": 0.5
             },
             "pattern": {
              "fillmode": "overlay",
              "size": 10,
              "solidity": 0.2
             }
            },
            "type": "barpolar"
           }
          ],
          "carpet": [
           {
            "aaxis": {
             "endlinecolor": "#2a3f5f",
             "gridcolor": "white",
             "linecolor": "white",
             "minorgridcolor": "white",
             "startlinecolor": "#2a3f5f"
            },
            "baxis": {
             "endlinecolor": "#2a3f5f",
             "gridcolor": "white",
             "linecolor": "white",
             "minorgridcolor": "white",
             "startlinecolor": "#2a3f5f"
            },
            "type": "carpet"
           }
          ],
          "choropleth": [
           {
            "colorbar": {
             "outlinewidth": 0,
             "ticks": ""
            },
            "type": "choropleth"
           }
          ],
          "contour": [
           {
            "colorbar": {
             "outlinewidth": 0,
             "ticks": ""
            },
            "colorscale": [
             [
              0,
              "#0d0887"
             ],
             [
              0.1111111111111111,
              "#46039f"
             ],
             [
              0.2222222222222222,
              "#7201a8"
             ],
             [
              0.3333333333333333,
              "#9c179e"
             ],
             [
              0.4444444444444444,
              "#bd3786"
             ],
             [
              0.5555555555555556,
              "#d8576b"
             ],
             [
              0.6666666666666666,
              "#ed7953"
             ],
             [
              0.7777777777777778,
              "#fb9f3a"
             ],
             [
              0.8888888888888888,
              "#fdca26"
             ],
             [
              1,
              "#f0f921"
             ]
            ],
            "type": "contour"
           }
          ],
          "contourcarpet": [
           {
            "colorbar": {
             "outlinewidth": 0,
             "ticks": ""
            },
            "type": "contourcarpet"
           }
          ],
          "heatmap": [
           {
            "colorbar": {
             "outlinewidth": 0,
             "ticks": ""
            },
            "colorscale": [
             [
              0,
              "#0d0887"
             ],
             [
              0.1111111111111111,
              "#46039f"
             ],
             [
              0.2222222222222222,
              "#7201a8"
             ],
             [
              0.3333333333333333,
              "#9c179e"
             ],
             [
              0.4444444444444444,
              "#bd3786"
             ],
             [
              0.5555555555555556,
              "#d8576b"
             ],
             [
              0.6666666666666666,
              "#ed7953"
             ],
             [
              0.7777777777777778,
              "#fb9f3a"
             ],
             [
              0.8888888888888888,
              "#fdca26"
             ],
             [
              1,
              "#f0f921"
             ]
            ],
            "type": "heatmap"
           }
          ],
          "heatmapgl": [
           {
            "colorbar": {
             "outlinewidth": 0,
             "ticks": ""
            },
            "colorscale": [
             [
              0,
              "#0d0887"
             ],
             [
              0.1111111111111111,
              "#46039f"
             ],
             [
              0.2222222222222222,
              "#7201a8"
             ],
             [
              0.3333333333333333,
              "#9c179e"
             ],
             [
              0.4444444444444444,
              "#bd3786"
             ],
             [
              0.5555555555555556,
              "#d8576b"
             ],
             [
              0.6666666666666666,
              "#ed7953"
             ],
             [
              0.7777777777777778,
              "#fb9f3a"
             ],
             [
              0.8888888888888888,
              "#fdca26"
             ],
             [
              1,
              "#f0f921"
             ]
            ],
            "type": "heatmapgl"
           }
          ],
          "histogram": [
           {
            "marker": {
             "pattern": {
              "fillmode": "overlay",
              "size": 10,
              "solidity": 0.2
             }
            },
            "type": "histogram"
           }
          ],
          "histogram2d": [
           {
            "colorbar": {
             "outlinewidth": 0,
             "ticks": ""
            },
            "colorscale": [
             [
              0,
              "#0d0887"
             ],
             [
              0.1111111111111111,
              "#46039f"
             ],
             [
              0.2222222222222222,
              "#7201a8"
             ],
             [
              0.3333333333333333,
              "#9c179e"
             ],
             [
              0.4444444444444444,
              "#bd3786"
             ],
             [
              0.5555555555555556,
              "#d8576b"
             ],
             [
              0.6666666666666666,
              "#ed7953"
             ],
             [
              0.7777777777777778,
              "#fb9f3a"
             ],
             [
              0.8888888888888888,
              "#fdca26"
             ],
             [
              1,
              "#f0f921"
             ]
            ],
            "type": "histogram2d"
           }
          ],
          "histogram2dcontour": [
           {
            "colorbar": {
             "outlinewidth": 0,
             "ticks": ""
            },
            "colorscale": [
             [
              0,
              "#0d0887"
             ],
             [
              0.1111111111111111,
              "#46039f"
             ],
             [
              0.2222222222222222,
              "#7201a8"
             ],
             [
              0.3333333333333333,
              "#9c179e"
             ],
             [
              0.4444444444444444,
              "#bd3786"
             ],
             [
              0.5555555555555556,
              "#d8576b"
             ],
             [
              0.6666666666666666,
              "#ed7953"
             ],
             [
              0.7777777777777778,
              "#fb9f3a"
             ],
             [
              0.8888888888888888,
              "#fdca26"
             ],
             [
              1,
              "#f0f921"
             ]
            ],
            "type": "histogram2dcontour"
           }
          ],
          "mesh3d": [
           {
            "colorbar": {
             "outlinewidth": 0,
             "ticks": ""
            },
            "type": "mesh3d"
           }
          ],
          "parcoords": [
           {
            "line": {
             "colorbar": {
              "outlinewidth": 0,
              "ticks": ""
             }
            },
            "type": "parcoords"
           }
          ],
          "pie": [
           {
            "automargin": true,
            "type": "pie"
           }
          ],
          "scatter": [
           {
            "fillpattern": {
             "fillmode": "overlay",
             "size": 10,
             "solidity": 0.2
            },
            "type": "scatter"
           }
          ],
          "scatter3d": [
           {
            "line": {
             "colorbar": {
              "outlinewidth": 0,
              "ticks": ""
             }
            },
            "marker": {
             "colorbar": {
              "outlinewidth": 0,
              "ticks": ""
             }
            },
            "type": "scatter3d"
           }
          ],
          "scattercarpet": [
           {
            "marker": {
             "colorbar": {
              "outlinewidth": 0,
              "ticks": ""
             }
            },
            "type": "scattercarpet"
           }
          ],
          "scattergeo": [
           {
            "marker": {
             "colorbar": {
              "outlinewidth": 0,
              "ticks": ""
             }
            },
            "type": "scattergeo"
           }
          ],
          "scattergl": [
           {
            "marker": {
             "colorbar": {
              "outlinewidth": 0,
              "ticks": ""
             }
            },
            "type": "scattergl"
           }
          ],
          "scattermapbox": [
           {
            "marker": {
             "colorbar": {
              "outlinewidth": 0,
              "ticks": ""
             }
            },
            "type": "scattermapbox"
           }
          ],
          "scatterpolar": [
           {
            "marker": {
             "colorbar": {
              "outlinewidth": 0,
              "ticks": ""
             }
            },
            "type": "scatterpolar"
           }
          ],
          "scatterpolargl": [
           {
            "marker": {
             "colorbar": {
              "outlinewidth": 0,
              "ticks": ""
             }
            },
            "type": "scatterpolargl"
           }
          ],
          "scatterternary": [
           {
            "marker": {
             "colorbar": {
              "outlinewidth": 0,
              "ticks": ""
             }
            },
            "type": "scatterternary"
           }
          ],
          "surface": [
           {
            "colorbar": {
             "outlinewidth": 0,
             "ticks": ""
            },
            "colorscale": [
             [
              0,
              "#0d0887"
             ],
             [
              0.1111111111111111,
              "#46039f"
             ],
             [
              0.2222222222222222,
              "#7201a8"
             ],
             [
              0.3333333333333333,
              "#9c179e"
             ],
             [
              0.4444444444444444,
              "#bd3786"
             ],
             [
              0.5555555555555556,
              "#d8576b"
             ],
             [
              0.6666666666666666,
              "#ed7953"
             ],
             [
              0.7777777777777778,
              "#fb9f3a"
             ],
             [
              0.8888888888888888,
              "#fdca26"
             ],
             [
              1,
              "#f0f921"
             ]
            ],
            "type": "surface"
           }
          ],
          "table": [
           {
            "cells": {
             "fill": {
              "color": "#EBF0F8"
             },
             "line": {
              "color": "white"
             }
            },
            "header": {
             "fill": {
              "color": "#C8D4E3"
             },
             "line": {
              "color": "white"
             }
            },
            "type": "table"
           }
          ]
         },
         "layout": {
          "annotationdefaults": {
           "arrowcolor": "#2a3f5f",
           "arrowhead": 0,
           "arrowwidth": 1
          },
          "autotypenumbers": "strict",
          "coloraxis": {
           "colorbar": {
            "outlinewidth": 0,
            "ticks": ""
           }
          },
          "colorscale": {
           "diverging": [
            [
             0,
             "#8e0152"
            ],
            [
             0.1,
             "#c51b7d"
            ],
            [
             0.2,
             "#de77ae"
            ],
            [
             0.3,
             "#f1b6da"
            ],
            [
             0.4,
             "#fde0ef"
            ],
            [
             0.5,
             "#f7f7f7"
            ],
            [
             0.6,
             "#e6f5d0"
            ],
            [
             0.7,
             "#b8e186"
            ],
            [
             0.8,
             "#7fbc41"
            ],
            [
             0.9,
             "#4d9221"
            ],
            [
             1,
             "#276419"
            ]
           ],
           "sequential": [
            [
             0,
             "#0d0887"
            ],
            [
             0.1111111111111111,
             "#46039f"
            ],
            [
             0.2222222222222222,
             "#7201a8"
            ],
            [
             0.3333333333333333,
             "#9c179e"
            ],
            [
             0.4444444444444444,
             "#bd3786"
            ],
            [
             0.5555555555555556,
             "#d8576b"
            ],
            [
             0.6666666666666666,
             "#ed7953"
            ],
            [
             0.7777777777777778,
             "#fb9f3a"
            ],
            [
             0.8888888888888888,
             "#fdca26"
            ],
            [
             1,
             "#f0f921"
            ]
           ],
           "sequentialminus": [
            [
             0,
             "#0d0887"
            ],
            [
             0.1111111111111111,
             "#46039f"
            ],
            [
             0.2222222222222222,
             "#7201a8"
            ],
            [
             0.3333333333333333,
             "#9c179e"
            ],
            [
             0.4444444444444444,
             "#bd3786"
            ],
            [
             0.5555555555555556,
             "#d8576b"
            ],
            [
             0.6666666666666666,
             "#ed7953"
            ],
            [
             0.7777777777777778,
             "#fb9f3a"
            ],
            [
             0.8888888888888888,
             "#fdca26"
            ],
            [
             1,
             "#f0f921"
            ]
           ]
          },
          "colorway": [
           "#636efa",
           "#EF553B",
           "#00cc96",
           "#ab63fa",
           "#FFA15A",
           "#19d3f3",
           "#FF6692",
           "#B6E880",
           "#FF97FF",
           "#FECB52"
          ],
          "font": {
           "color": "#2a3f5f"
          },
          "geo": {
           "bgcolor": "white",
           "lakecolor": "white",
           "landcolor": "#E5ECF6",
           "showlakes": true,
           "showland": true,
           "subunitcolor": "white"
          },
          "hoverlabel": {
           "align": "left"
          },
          "hovermode": "closest",
          "mapbox": {
           "style": "light"
          },
          "paper_bgcolor": "white",
          "plot_bgcolor": "#E5ECF6",
          "polar": {
           "angularaxis": {
            "gridcolor": "white",
            "linecolor": "white",
            "ticks": ""
           },
           "bgcolor": "#E5ECF6",
           "radialaxis": {
            "gridcolor": "white",
            "linecolor": "white",
            "ticks": ""
           }
          },
          "scene": {
           "xaxis": {
            "backgroundcolor": "#E5ECF6",
            "gridcolor": "white",
            "gridwidth": 2,
            "linecolor": "white",
            "showbackground": true,
            "ticks": "",
            "zerolinecolor": "white"
           },
           "yaxis": {
            "backgroundcolor": "#E5ECF6",
            "gridcolor": "white",
            "gridwidth": 2,
            "linecolor": "white",
            "showbackground": true,
            "ticks": "",
            "zerolinecolor": "white"
           },
           "zaxis": {
            "backgroundcolor": "#E5ECF6",
            "gridcolor": "white",
            "gridwidth": 2,
            "linecolor": "white",
            "showbackground": true,
            "ticks": "",
            "zerolinecolor": "white"
           }
          },
          "shapedefaults": {
           "line": {
            "color": "#2a3f5f"
           }
          },
          "ternary": {
           "aaxis": {
            "gridcolor": "white",
            "linecolor": "white",
            "ticks": ""
           },
           "baxis": {
            "gridcolor": "white",
            "linecolor": "white",
            "ticks": ""
           },
           "bgcolor": "#E5ECF6",
           "caxis": {
            "gridcolor": "white",
            "linecolor": "white",
            "ticks": ""
           }
          },
          "title": {
           "x": 0.05
          },
          "xaxis": {
           "automargin": true,
           "gridcolor": "white",
           "linecolor": "white",
           "ticks": "",
           "title": {
            "standoff": 15
           },
           "zerolinecolor": "white",
           "zerolinewidth": 2
          },
          "yaxis": {
           "automargin": true,
           "gridcolor": "white",
           "linecolor": "white",
           "ticks": "",
           "title": {
            "standoff": 15
           },
           "zerolinecolor": "white",
           "zerolinewidth": 2
          }
         }
        },
        "title": {
         "text": "Percentage of Made Shots at Different Distances with Trend Lines"
        },
        "xaxis": {
         "anchor": "y",
         "domain": [
          0,
          1
         ],
         "title": {
          "text": "Shot Distance"
         }
        },
        "yaxis": {
         "anchor": "x",
         "domain": [
          0,
          1
         ],
         "title": {
          "text": "Percentage of Made Shots"
         }
        }
       }
      },
      "text/html": [
       "<div>                            <div id=\"507eaa8a-b7a3-4028-9642-7497b9397b85\" class=\"plotly-graph-div\" style=\"height:525px; width:100%;\"></div>            <script type=\"text/javascript\">                require([\"plotly\"], function(Plotly) {                    window.PLOTLYENV=window.PLOTLYENV || {};                                    if (document.getElementById(\"507eaa8a-b7a3-4028-9642-7497b9397b85\")) {                    Plotly.newPlot(                        \"507eaa8a-b7a3-4028-9642-7497b9397b85\",                        [{\"hovertemplate\":\"firstname= Hope\\u003cbr\\u003eShot Distance=%{x}\\u003cbr\\u003ePercentage of Made Shots=%{y}\\u003cbr\\u003etimestamp=%{marker.size}\\u003cextra\\u003e\\u003c\\u002fextra\\u003e\",\"legendgroup\":\" Hope\",\"marker\":{\"color\":\"#636efa\",\"size\":[1],\"sizemode\":\"area\",\"sizeref\":0.035,\"symbol\":\"circle\"},\"mode\":\"markers\",\"name\":\" Hope\",\"orientation\":\"v\",\"showlegend\":true,\"x\":[10],\"xaxis\":\"x\",\"y\":[100.0],\"yaxis\":\"y\",\"type\":\"scatter\"},{\"hovertemplate\":\"firstname=AA_Milne\\u003cbr\\u003eShot Distance=%{x}\\u003cbr\\u003ePercentage of Made Shots=%{y}\\u003cbr\\u003etimestamp=%{marker.size}\\u003cextra\\u003e\\u003c\\u002fextra\\u003e\",\"legendgroup\":\"AA_Milne\",\"marker\":{\"color\":\"#EF553B\",\"size\":[4],\"sizemode\":\"area\",\"sizeref\":0.035,\"symbol\":\"circle\"},\"mode\":\"markers\",\"name\":\"AA_Milne\",\"orientation\":\"v\",\"showlegend\":true,\"x\":[2],\"xaxis\":\"x\",\"y\":[25.0],\"yaxis\":\"y\",\"type\":\"scatter\"},{\"hovertemplate\":\"firstname=AD\\u003cbr\\u003eShot Distance=%{x}\\u003cbr\\u003ePercentage of Made Shots=%{y}\\u003cbr\\u003etimestamp=%{marker.size}\\u003cextra\\u003e\\u003c\\u002fextra\\u003e\",\"legendgroup\":\"AD\",\"marker\":{\"color\":\"#00cc96\",\"size\":[1,1],\"sizemode\":\"area\",\"sizeref\":0.035,\"symbol\":\"circle\"},\"mode\":\"markers\",\"name\":\"AD\",\"orientation\":\"v\",\"showlegend\":true,\"x\":[4,10],\"xaxis\":\"x\",\"y\":[null,null],\"yaxis\":\"y\",\"type\":\"scatter\"},{\"hovertemplate\":\"firstname=AT\\u003cbr\\u003eShot Distance=%{x}\\u003cbr\\u003ePercentage of Made Shots=%{y}\\u003cbr\\u003etimestamp=%{marker.size}\\u003cextra\\u003e\\u003c\\u002fextra\\u003e\",\"legendgroup\":\"AT\",\"marker\":{\"color\":\"#ab63fa\",\"size\":[1,1],\"sizemode\":\"area\",\"sizeref\":0.035,\"symbol\":\"circle\"},\"mode\":\"markers\",\"name\":\"AT\",\"orientation\":\"v\",\"showlegend\":true,\"x\":[2,6],\"xaxis\":\"x\",\"y\":[100.0,null],\"yaxis\":\"y\",\"type\":\"scatter\"},{\"hovertemplate\":\"firstname=Adrianna\\u003cbr\\u003eShot Distance=%{x}\\u003cbr\\u003ePercentage of Made Shots=%{y}\\u003cbr\\u003etimestamp=%{marker.size}\\u003cextra\\u003e\\u003c\\u002fextra\\u003e\",\"legendgroup\":\"Adrianna\",\"marker\":{\"color\":\"#FFA15A\",\"size\":[4,2,6,3,3],\"sizemode\":\"area\",\"sizeref\":0.035,\"symbol\":\"circle\"},\"mode\":\"markers\",\"name\":\"Adrianna\",\"orientation\":\"v\",\"showlegend\":true,\"x\":[2,4,6,8,10],\"xaxis\":\"x\",\"y\":[100.0,100.0,83.33333333333334,null,33.33333333333333],\"yaxis\":\"y\",\"type\":\"scatter\"},{\"hovertemplate\":\"firstname=Alejandro\\u003cbr\\u003eShot Distance=%{x}\\u003cbr\\u003ePercentage of Made Shots=%{y}\\u003cbr\\u003etimestamp=%{marker.size}\\u003cextra\\u003e\\u003c\\u002fextra\\u003e\",\"legendgroup\":\"Alejandro\",\"marker\":{\"color\":\"#19d3f3\",\"size\":[1],\"sizemode\":\"area\",\"sizeref\":0.035,\"symbol\":\"circle\"},\"mode\":\"markers\",\"name\":\"Alejandro\",\"orientation\":\"v\",\"showlegend\":true,\"x\":[10],\"xaxis\":\"x\",\"y\":[null],\"yaxis\":\"y\",\"type\":\"scatter\"},{\"hovertemplate\":\"firstname=Alina\\u003cbr\\u003eShot Distance=%{x}\\u003cbr\\u003ePercentage of Made Shots=%{y}\\u003cbr\\u003etimestamp=%{marker.size}\\u003cextra\\u003e\\u003c\\u002fextra\\u003e\",\"legendgroup\":\"Alina\",\"marker\":{\"color\":\"#FF6692\",\"size\":[1,1],\"sizemode\":\"area\",\"sizeref\":0.035,\"symbol\":\"circle\"},\"mode\":\"markers\",\"name\":\"Alina\",\"orientation\":\"v\",\"showlegend\":true,\"x\":[4,8],\"xaxis\":\"x\",\"y\":[100.0,null],\"yaxis\":\"y\",\"type\":\"scatter\"},{\"hovertemplate\":\"firstname=Anna\\u003cbr\\u003eShot Distance=%{x}\\u003cbr\\u003ePercentage of Made Shots=%{y}\\u003cbr\\u003etimestamp=%{marker.size}\\u003cextra\\u003e\\u003c\\u002fextra\\u003e\",\"legendgroup\":\"Anna\",\"marker\":{\"color\":\"#B6E880\",\"size\":[1],\"sizemode\":\"area\",\"sizeref\":0.035,\"symbol\":\"circle\"},\"mode\":\"markers\",\"name\":\"Anna\",\"orientation\":\"v\",\"showlegend\":true,\"x\":[2],\"xaxis\":\"x\",\"y\":[100.0],\"yaxis\":\"y\",\"type\":\"scatter\"},{\"hovertemplate\":\"firstname=Anna \\u003cbr\\u003eShot Distance=%{x}\\u003cbr\\u003ePercentage of Made Shots=%{y}\\u003cbr\\u003etimestamp=%{marker.size}\\u003cextra\\u003e\\u003c\\u002fextra\\u003e\",\"legendgroup\":\"Anna \",\"marker\":{\"color\":\"#FF97FF\",\"size\":[1],\"sizemode\":\"area\",\"sizeref\":0.035,\"symbol\":\"circle\"},\"mode\":\"markers\",\"name\":\"Anna \",\"orientation\":\"v\",\"showlegend\":true,\"x\":[4],\"xaxis\":\"x\",\"y\":[null],\"yaxis\":\"y\",\"type\":\"scatter\"},{\"hovertemplate\":\"firstname=Annamaria\\u003cbr\\u003eShot Distance=%{x}\\u003cbr\\u003ePercentage of Made Shots=%{y}\\u003cbr\\u003etimestamp=%{marker.size}\\u003cextra\\u003e\\u003c\\u002fextra\\u003e\",\"legendgroup\":\"Annamaria\",\"marker\":{\"color\":\"#FECB52\",\"size\":[2],\"sizemode\":\"area\",\"sizeref\":0.035,\"symbol\":\"circle\"},\"mode\":\"markers\",\"name\":\"Annamaria\",\"orientation\":\"v\",\"showlegend\":true,\"x\":[2],\"xaxis\":\"x\",\"y\":[50.0],\"yaxis\":\"y\",\"type\":\"scatter\"},{\"hovertemplate\":\"firstname=Ava\\u003cbr\\u003eShot Distance=%{x}\\u003cbr\\u003ePercentage of Made Shots=%{y}\\u003cbr\\u003etimestamp=%{marker.size}\\u003cextra\\u003e\\u003c\\u002fextra\\u003e\",\"legendgroup\":\"Ava\",\"marker\":{\"color\":\"#636efa\",\"size\":[2,1,2,2,1],\"sizemode\":\"area\",\"sizeref\":0.035,\"symbol\":\"circle\"},\"mode\":\"markers\",\"name\":\"Ava\",\"orientation\":\"v\",\"showlegend\":true,\"x\":[2,4,6,8,10],\"xaxis\":\"x\",\"y\":[100.0,100.0,50.0,100.0,100.0],\"yaxis\":\"y\",\"type\":\"scatter\"},{\"hovertemplate\":\"firstname=Ava \\u003cbr\\u003eShot Distance=%{x}\\u003cbr\\u003ePercentage of Made Shots=%{y}\\u003cbr\\u003etimestamp=%{marker.size}\\u003cextra\\u003e\\u003c\\u002fextra\\u003e\",\"legendgroup\":\"Ava \",\"marker\":{\"color\":\"#EF553B\",\"size\":[1,1,1],\"sizemode\":\"area\",\"sizeref\":0.035,\"symbol\":\"circle\"},\"mode\":\"markers\",\"name\":\"Ava \",\"orientation\":\"v\",\"showlegend\":true,\"x\":[2,4,10],\"xaxis\":\"x\",\"y\":[null,null,null],\"yaxis\":\"y\",\"type\":\"scatter\"},{\"hovertemplate\":\"firstname=Barry\\u003cbr\\u003eShot Distance=%{x}\\u003cbr\\u003ePercentage of Made Shots=%{y}\\u003cbr\\u003etimestamp=%{marker.size}\\u003cextra\\u003e\\u003c\\u002fextra\\u003e\",\"legendgroup\":\"Barry\",\"marker\":{\"color\":\"#00cc96\",\"size\":[1],\"sizemode\":\"area\",\"sizeref\":0.035,\"symbol\":\"circle\"},\"mode\":\"markers\",\"name\":\"Barry\",\"orientation\":\"v\",\"showlegend\":true,\"x\":[10],\"xaxis\":\"x\",\"y\":[null],\"yaxis\":\"y\",\"type\":\"scatter\"},{\"hovertemplate\":\"firstname=Benjie\\u003cbr\\u003eShot Distance=%{x}\\u003cbr\\u003ePercentage of Made Shots=%{y}\\u003cbr\\u003etimestamp=%{marker.size}\\u003cextra\\u003e\\u003c\\u002fextra\\u003e\",\"legendgroup\":\"Benjie\",\"marker\":{\"color\":\"#ab63fa\",\"size\":[2,2,1,1],\"sizemode\":\"area\",\"sizeref\":0.035,\"symbol\":\"circle\"},\"mode\":\"markers\",\"name\":\"Benjie\",\"orientation\":\"v\",\"showlegend\":true,\"x\":[2,4,6,10],\"xaxis\":\"x\",\"y\":[50.0,50.0,100.0,null],\"yaxis\":\"y\",\"type\":\"scatter\"},{\"hovertemplate\":\"firstname=Bernadette \\u003cbr\\u003eShot Distance=%{x}\\u003cbr\\u003ePercentage of Made Shots=%{y}\\u003cbr\\u003etimestamp=%{marker.size}\\u003cextra\\u003e\\u003c\\u002fextra\\u003e\",\"legendgroup\":\"Bernadette \",\"marker\":{\"color\":\"#FFA15A\",\"size\":[3,1,3,2],\"sizemode\":\"area\",\"sizeref\":0.035,\"symbol\":\"circle\"},\"mode\":\"markers\",\"name\":\"Bernadette \",\"orientation\":\"v\",\"showlegend\":true,\"x\":[2,4,8,10],\"xaxis\":\"x\",\"y\":[66.66666666666666,100.0,null,null],\"yaxis\":\"y\",\"type\":\"scatter\"},{\"hovertemplate\":\"firstname=Bill\\u003cbr\\u003eShot Distance=%{x}\\u003cbr\\u003ePercentage of Made Shots=%{y}\\u003cbr\\u003etimestamp=%{marker.size}\\u003cextra\\u003e\\u003c\\u002fextra\\u003e\",\"legendgroup\":\"Bill\",\"marker\":{\"color\":\"#19d3f3\",\"size\":[2,1,3],\"sizemode\":\"area\",\"sizeref\":0.035,\"symbol\":\"circle\"},\"mode\":\"markers\",\"name\":\"Bill\",\"orientation\":\"v\",\"showlegend\":true,\"x\":[4,8,10],\"xaxis\":\"x\",\"y\":[50.0,null,100.0],\"yaxis\":\"y\",\"type\":\"scatter\"},{\"hovertemplate\":\"firstname=Bill \\u003cbr\\u003eShot Distance=%{x}\\u003cbr\\u003ePercentage of Made Shots=%{y}\\u003cbr\\u003etimestamp=%{marker.size}\\u003cextra\\u003e\\u003c\\u002fextra\\u003e\",\"legendgroup\":\"Bill \",\"marker\":{\"color\":\"#FF6692\",\"size\":[1],\"sizemode\":\"area\",\"sizeref\":0.035,\"symbol\":\"circle\"},\"mode\":\"markers\",\"name\":\"Bill \",\"orientation\":\"v\",\"showlegend\":true,\"x\":[10],\"xaxis\":\"x\",\"y\":[100.0],\"yaxis\":\"y\",\"type\":\"scatter\"},{\"hovertemplate\":\"firstname=Brad\\u003cbr\\u003eShot Distance=%{x}\\u003cbr\\u003ePercentage of Made Shots=%{y}\\u003cbr\\u003etimestamp=%{marker.size}\\u003cextra\\u003e\\u003c\\u002fextra\\u003e\",\"legendgroup\":\"Brad\",\"marker\":{\"color\":\"#B6E880\",\"size\":[1,3,1],\"sizemode\":\"area\",\"sizeref\":0.035,\"symbol\":\"circle\"},\"mode\":\"markers\",\"name\":\"Brad\",\"orientation\":\"v\",\"showlegend\":true,\"x\":[6,8,10],\"xaxis\":\"x\",\"y\":[null,33.33333333333333,null],\"yaxis\":\"y\",\"type\":\"scatter\"},{\"hovertemplate\":\"firstname=Breanna \\u003cbr\\u003eShot Distance=%{x}\\u003cbr\\u003ePercentage of Made Shots=%{y}\\u003cbr\\u003etimestamp=%{marker.size}\\u003cextra\\u003e\\u003c\\u002fextra\\u003e\",\"legendgroup\":\"Breanna \",\"marker\":{\"color\":\"#FF97FF\",\"size\":[1],\"sizemode\":\"area\",\"sizeref\":0.035,\"symbol\":\"circle\"},\"mode\":\"markers\",\"name\":\"Breanna \",\"orientation\":\"v\",\"showlegend\":true,\"x\":[2],\"xaxis\":\"x\",\"y\":[100.0],\"yaxis\":\"y\",\"type\":\"scatter\"},{\"hovertemplate\":\"firstname=C.Z.\\u003cbr\\u003eShot Distance=%{x}\\u003cbr\\u003ePercentage of Made Shots=%{y}\\u003cbr\\u003etimestamp=%{marker.size}\\u003cextra\\u003e\\u003c\\u002fextra\\u003e\",\"legendgroup\":\"C.Z.\",\"marker\":{\"color\":\"#FECB52\",\"size\":[2],\"sizemode\":\"area\",\"sizeref\":0.035,\"symbol\":\"circle\"},\"mode\":\"markers\",\"name\":\"C.Z.\",\"orientation\":\"v\",\"showlegend\":true,\"x\":[4],\"xaxis\":\"x\",\"y\":[100.0],\"yaxis\":\"y\",\"type\":\"scatter\"},{\"hovertemplate\":\"firstname=Carolyn \\u003cbr\\u003eShot Distance=%{x}\\u003cbr\\u003ePercentage of Made Shots=%{y}\\u003cbr\\u003etimestamp=%{marker.size}\\u003cextra\\u003e\\u003c\\u002fextra\\u003e\",\"legendgroup\":\"Carolyn \",\"marker\":{\"color\":\"#636efa\",\"size\":[1],\"sizemode\":\"area\",\"sizeref\":0.035,\"symbol\":\"circle\"},\"mode\":\"markers\",\"name\":\"Carolyn \",\"orientation\":\"v\",\"showlegend\":true,\"x\":[2],\"xaxis\":\"x\",\"y\":[100.0],\"yaxis\":\"y\",\"type\":\"scatter\"},{\"hovertemplate\":\"firstname=Daryl\\u003cbr\\u003eShot Distance=%{x}\\u003cbr\\u003ePercentage of Made Shots=%{y}\\u003cbr\\u003etimestamp=%{marker.size}\\u003cextra\\u003e\\u003c\\u002fextra\\u003e\",\"legendgroup\":\"Daryl\",\"marker\":{\"color\":\"#EF553B\",\"size\":[3],\"sizemode\":\"area\",\"sizeref\":0.035,\"symbol\":\"circle\"},\"mode\":\"markers\",\"name\":\"Daryl\",\"orientation\":\"v\",\"showlegend\":true,\"x\":[6],\"xaxis\":\"x\",\"y\":[null],\"yaxis\":\"y\",\"type\":\"scatter\"},{\"hovertemplate\":\"firstname=Dave\\u003cbr\\u003eShot Distance=%{x}\\u003cbr\\u003ePercentage of Made Shots=%{y}\\u003cbr\\u003etimestamp=%{marker.size}\\u003cextra\\u003e\\u003c\\u002fextra\\u003e\",\"legendgroup\":\"Dave\",\"marker\":{\"color\":\"#00cc96\",\"size\":[2,1],\"sizemode\":\"area\",\"sizeref\":0.035,\"symbol\":\"circle\"},\"mode\":\"markers\",\"name\":\"Dave\",\"orientation\":\"v\",\"showlegend\":true,\"x\":[2,6],\"xaxis\":\"x\",\"y\":[100.0,null],\"yaxis\":\"y\",\"type\":\"scatter\"},{\"hovertemplate\":\"firstname=David\\u003cbr\\u003eShot Distance=%{x}\\u003cbr\\u003ePercentage of Made Shots=%{y}\\u003cbr\\u003etimestamp=%{marker.size}\\u003cextra\\u003e\\u003c\\u002fextra\\u003e\",\"legendgroup\":\"David\",\"marker\":{\"color\":\"#ab63fa\",\"size\":[1,2,2],\"sizemode\":\"area\",\"sizeref\":0.035,\"symbol\":\"circle\"},\"mode\":\"markers\",\"name\":\"David\",\"orientation\":\"v\",\"showlegend\":true,\"x\":[2,4,10],\"xaxis\":\"x\",\"y\":[100.0,50.0,50.0],\"yaxis\":\"y\",\"type\":\"scatter\"},{\"hovertemplate\":\"firstname=David \\u003cbr\\u003eShot Distance=%{x}\\u003cbr\\u003ePercentage of Made Shots=%{y}\\u003cbr\\u003etimestamp=%{marker.size}\\u003cextra\\u003e\\u003c\\u002fextra\\u003e\",\"legendgroup\":\"David \",\"marker\":{\"color\":\"#FFA15A\",\"size\":[3],\"sizemode\":\"area\",\"sizeref\":0.035,\"symbol\":\"circle\"},\"mode\":\"markers\",\"name\":\"David \",\"orientation\":\"v\",\"showlegend\":true,\"x\":[4],\"xaxis\":\"x\",\"y\":[null],\"yaxis\":\"y\",\"type\":\"scatter\"},{\"hovertemplate\":\"firstname=Dean\\u003cbr\\u003eShot Distance=%{x}\\u003cbr\\u003ePercentage of Made Shots=%{y}\\u003cbr\\u003etimestamp=%{marker.size}\\u003cextra\\u003e\\u003c\\u002fextra\\u003e\",\"legendgroup\":\"Dean\",\"marker\":{\"color\":\"#19d3f3\",\"size\":[1,2],\"sizemode\":\"area\",\"sizeref\":0.035,\"symbol\":\"circle\"},\"mode\":\"markers\",\"name\":\"Dean\",\"orientation\":\"v\",\"showlegend\":true,\"x\":[4,6],\"xaxis\":\"x\",\"y\":[100.0,null],\"yaxis\":\"y\",\"type\":\"scatter\"},{\"hovertemplate\":\"firstname=Dennis\\u003cbr\\u003eShot Distance=%{x}\\u003cbr\\u003ePercentage of Made Shots=%{y}\\u003cbr\\u003etimestamp=%{marker.size}\\u003cextra\\u003e\\u003c\\u002fextra\\u003e\",\"legendgroup\":\"Dennis\",\"marker\":{\"color\":\"#FF6692\",\"size\":[1],\"sizemode\":\"area\",\"sizeref\":0.035,\"symbol\":\"circle\"},\"mode\":\"markers\",\"name\":\"Dennis\",\"orientation\":\"v\",\"showlegend\":true,\"x\":[2],\"xaxis\":\"x\",\"y\":[100.0],\"yaxis\":\"y\",\"type\":\"scatter\"},{\"hovertemplate\":\"firstname=Dirk\\u003cbr\\u003eShot Distance=%{x}\\u003cbr\\u003ePercentage of Made Shots=%{y}\\u003cbr\\u003etimestamp=%{marker.size}\\u003cextra\\u003e\\u003c\\u002fextra\\u003e\",\"legendgroup\":\"Dirk\",\"marker\":{\"color\":\"#B6E880\",\"size\":[1],\"sizemode\":\"area\",\"sizeref\":0.035,\"symbol\":\"circle\"},\"mode\":\"markers\",\"name\":\"Dirk\",\"orientation\":\"v\",\"showlegend\":true,\"x\":[10],\"xaxis\":\"x\",\"y\":[null],\"yaxis\":\"y\",\"type\":\"scatter\"},{\"hovertemplate\":\"firstname=Divine\\u003cbr\\u003eShot Distance=%{x}\\u003cbr\\u003ePercentage of Made Shots=%{y}\\u003cbr\\u003etimestamp=%{marker.size}\\u003cextra\\u003e\\u003c\\u002fextra\\u003e\",\"legendgroup\":\"Divine\",\"marker\":{\"color\":\"#FF97FF\",\"size\":[2,1],\"sizemode\":\"area\",\"sizeref\":0.035,\"symbol\":\"circle\"},\"mode\":\"markers\",\"name\":\"Divine\",\"orientation\":\"v\",\"showlegend\":true,\"x\":[2,6],\"xaxis\":\"x\",\"y\":[50.0,null],\"yaxis\":\"y\",\"type\":\"scatter\"},{\"hovertemplate\":\"firstname=Don\\u003cbr\\u003eShot Distance=%{x}\\u003cbr\\u003ePercentage of Made Shots=%{y}\\u003cbr\\u003etimestamp=%{marker.size}\\u003cextra\\u003e\\u003c\\u002fextra\\u003e\",\"legendgroup\":\"Don\",\"marker\":{\"color\":\"#FECB52\",\"size\":[1],\"sizemode\":\"area\",\"sizeref\":0.035,\"symbol\":\"circle\"},\"mode\":\"markers\",\"name\":\"Don\",\"orientation\":\"v\",\"showlegend\":true,\"x\":[2],\"xaxis\":\"x\",\"y\":[null],\"yaxis\":\"y\",\"type\":\"scatter\"},{\"hovertemplate\":\"firstname=Dustin\\u003cbr\\u003eShot Distance=%{x}\\u003cbr\\u003ePercentage of Made Shots=%{y}\\u003cbr\\u003etimestamp=%{marker.size}\\u003cextra\\u003e\\u003c\\u002fextra\\u003e\",\"legendgroup\":\"Dustin\",\"marker\":{\"color\":\"#636efa\",\"size\":[1,1],\"sizemode\":\"area\",\"sizeref\":0.035,\"symbol\":\"circle\"},\"mode\":\"markers\",\"name\":\"Dustin\",\"orientation\":\"v\",\"showlegend\":true,\"x\":[8,10],\"xaxis\":\"x\",\"y\":[null,null],\"yaxis\":\"y\",\"type\":\"scatter\"},{\"hovertemplate\":\"firstname=Dylan \\u003cbr\\u003eShot Distance=%{x}\\u003cbr\\u003ePercentage of Made Shots=%{y}\\u003cbr\\u003etimestamp=%{marker.size}\\u003cextra\\u003e\\u003c\\u002fextra\\u003e\",\"legendgroup\":\"Dylan \",\"marker\":{\"color\":\"#EF553B\",\"size\":[1],\"sizemode\":\"area\",\"sizeref\":0.035,\"symbol\":\"circle\"},\"mode\":\"markers\",\"name\":\"Dylan \",\"orientation\":\"v\",\"showlegend\":true,\"x\":[10],\"xaxis\":\"x\",\"y\":[null],\"yaxis\":\"y\",\"type\":\"scatter\"},{\"hovertemplate\":\"firstname=Edgar\\u003cbr\\u003eShot Distance=%{x}\\u003cbr\\u003ePercentage of Made Shots=%{y}\\u003cbr\\u003etimestamp=%{marker.size}\\u003cextra\\u003e\\u003c\\u002fextra\\u003e\",\"legendgroup\":\"Edgar\",\"marker\":{\"color\":\"#00cc96\",\"size\":[1,1,1,1,1],\"sizemode\":\"area\",\"sizeref\":0.035,\"symbol\":\"circle\"},\"mode\":\"markers\",\"name\":\"Edgar\",\"orientation\":\"v\",\"showlegend\":true,\"x\":[2,4,6,8,10],\"xaxis\":\"x\",\"y\":[100.0,100.0,null,null,100.0],\"yaxis\":\"y\",\"type\":\"scatter\"},{\"hovertemplate\":\"firstname=Francisco\\u003cbr\\u003eShot Distance=%{x}\\u003cbr\\u003ePercentage of Made Shots=%{y}\\u003cbr\\u003etimestamp=%{marker.size}\\u003cextra\\u003e\\u003c\\u002fextra\\u003e\",\"legendgroup\":\"Francisco\",\"marker\":{\"color\":\"#ab63fa\",\"size\":[1,1,1,1,4],\"sizemode\":\"area\",\"sizeref\":0.035,\"symbol\":\"circle\"},\"mode\":\"markers\",\"name\":\"Francisco\",\"orientation\":\"v\",\"showlegend\":true,\"x\":[2,4,6,8,10],\"xaxis\":\"x\",\"y\":[100.0,100.0,100.0,null,25.0],\"yaxis\":\"y\",\"type\":\"scatter\"},{\"hovertemplate\":\"firstname=Geoff\\u003cbr\\u003eShot Distance=%{x}\\u003cbr\\u003ePercentage of Made Shots=%{y}\\u003cbr\\u003etimestamp=%{marker.size}\\u003cextra\\u003e\\u003c\\u002fextra\\u003e\",\"legendgroup\":\"Geoff\",\"marker\":{\"color\":\"#FFA15A\",\"size\":[1],\"sizemode\":\"area\",\"sizeref\":0.035,\"symbol\":\"circle\"},\"mode\":\"markers\",\"name\":\"Geoff\",\"orientation\":\"v\",\"showlegend\":true,\"x\":[2],\"xaxis\":\"x\",\"y\":[100.0],\"yaxis\":\"y\",\"type\":\"scatter\"},{\"hovertemplate\":\"firstname=Grant\\u003cbr\\u003eShot Distance=%{x}\\u003cbr\\u003ePercentage of Made Shots=%{y}\\u003cbr\\u003etimestamp=%{marker.size}\\u003cextra\\u003e\\u003c\\u002fextra\\u003e\",\"legendgroup\":\"Grant\",\"marker\":{\"color\":\"#19d3f3\",\"size\":[1,2],\"sizemode\":\"area\",\"sizeref\":0.035,\"symbol\":\"circle\"},\"mode\":\"markers\",\"name\":\"Grant\",\"orientation\":\"v\",\"showlegend\":true,\"x\":[4,8],\"xaxis\":\"x\",\"y\":[100.0,50.0],\"yaxis\":\"y\",\"type\":\"scatter\"},{\"hovertemplate\":\"firstname=Grant \\u003cbr\\u003eShot Distance=%{x}\\u003cbr\\u003ePercentage of Made Shots=%{y}\\u003cbr\\u003etimestamp=%{marker.size}\\u003cextra\\u003e\\u003c\\u002fextra\\u003e\",\"legendgroup\":\"Grant \",\"marker\":{\"color\":\"#FF6692\",\"size\":[1],\"sizemode\":\"area\",\"sizeref\":0.035,\"symbol\":\"circle\"},\"mode\":\"markers\",\"name\":\"Grant \",\"orientation\":\"v\",\"showlegend\":true,\"x\":[4],\"xaxis\":\"x\",\"y\":[null],\"yaxis\":\"y\",\"type\":\"scatter\"},{\"hovertemplate\":\"firstname=Greg\\u003cbr\\u003eShot Distance=%{x}\\u003cbr\\u003ePercentage of Made Shots=%{y}\\u003cbr\\u003etimestamp=%{marker.size}\\u003cextra\\u003e\\u003c\\u002fextra\\u003e\",\"legendgroup\":\"Greg\",\"marker\":{\"color\":\"#B6E880\",\"size\":[1],\"sizemode\":\"area\",\"sizeref\":0.035,\"symbol\":\"circle\"},\"mode\":\"markers\",\"name\":\"Greg\",\"orientation\":\"v\",\"showlegend\":true,\"x\":[10],\"xaxis\":\"x\",\"y\":[null],\"yaxis\":\"y\",\"type\":\"scatter\"},{\"hovertemplate\":\"firstname=Grorge\\u003cbr\\u003eShot Distance=%{x}\\u003cbr\\u003ePercentage of Made Shots=%{y}\\u003cbr\\u003etimestamp=%{marker.size}\\u003cextra\\u003e\\u003c\\u002fextra\\u003e\",\"legendgroup\":\"Grorge\",\"marker\":{\"color\":\"#FF97FF\",\"size\":[1],\"sizemode\":\"area\",\"sizeref\":0.035,\"symbol\":\"circle\"},\"mode\":\"markers\",\"name\":\"Grorge\",\"orientation\":\"v\",\"showlegend\":true,\"x\":[2],\"xaxis\":\"x\",\"y\":[null],\"yaxis\":\"y\",\"type\":\"scatter\"},{\"hovertemplate\":\"firstname=Gurm\\u003cbr\\u003eShot Distance=%{x}\\u003cbr\\u003ePercentage of Made Shots=%{y}\\u003cbr\\u003etimestamp=%{marker.size}\\u003cextra\\u003e\\u003c\\u002fextra\\u003e\",\"legendgroup\":\"Gurm\",\"marker\":{\"color\":\"#FECB52\",\"size\":[1],\"sizemode\":\"area\",\"sizeref\":0.035,\"symbol\":\"circle\"},\"mode\":\"markers\",\"name\":\"Gurm\",\"orientation\":\"v\",\"showlegend\":true,\"x\":[2],\"xaxis\":\"x\",\"y\":[100.0],\"yaxis\":\"y\",\"type\":\"scatter\"},{\"hovertemplate\":\"firstname=Heoff\\u003cbr\\u003eShot Distance=%{x}\\u003cbr\\u003ePercentage of Made Shots=%{y}\\u003cbr\\u003etimestamp=%{marker.size}\\u003cextra\\u003e\\u003c\\u002fextra\\u003e\",\"legendgroup\":\"Heoff\",\"marker\":{\"color\":\"#636efa\",\"size\":[1],\"sizemode\":\"area\",\"sizeref\":0.035,\"symbol\":\"circle\"},\"mode\":\"markers\",\"name\":\"Heoff\",\"orientation\":\"v\",\"showlegend\":true,\"x\":[2],\"xaxis\":\"x\",\"y\":[100.0],\"yaxis\":\"y\",\"type\":\"scatter\"},{\"hovertemplate\":\"firstname=Hope\\u003cbr\\u003eShot Distance=%{x}\\u003cbr\\u003ePercentage of Made Shots=%{y}\\u003cbr\\u003etimestamp=%{marker.size}\\u003cextra\\u003e\\u003c\\u002fextra\\u003e\",\"legendgroup\":\"Hope\",\"marker\":{\"color\":\"#EF553B\",\"size\":[3,2,4,2,1],\"sizemode\":\"area\",\"sizeref\":0.035,\"symbol\":\"circle\"},\"mode\":\"markers\",\"name\":\"Hope\",\"orientation\":\"v\",\"showlegend\":true,\"x\":[2,4,6,8,10],\"xaxis\":\"x\",\"y\":[66.66666666666666,50.0,25.0,null,100.0],\"yaxis\":\"y\",\"type\":\"scatter\"},{\"hovertemplate\":\"firstname=Hope \\u003cbr\\u003eShot Distance=%{x}\\u003cbr\\u003ePercentage of Made Shots=%{y}\\u003cbr\\u003etimestamp=%{marker.size}\\u003cextra\\u003e\\u003c\\u002fextra\\u003e\",\"legendgroup\":\"Hope \",\"marker\":{\"color\":\"#00cc96\",\"size\":[1],\"sizemode\":\"area\",\"sizeref\":0.035,\"symbol\":\"circle\"},\"mode\":\"markers\",\"name\":\"Hope \",\"orientation\":\"v\",\"showlegend\":true,\"x\":[4],\"xaxis\":\"x\",\"y\":[null],\"yaxis\":\"y\",\"type\":\"scatter\"},{\"hovertemplate\":\"firstname=I\\u003cbr\\u003eShot Distance=%{x}\\u003cbr\\u003ePercentage of Made Shots=%{y}\\u003cbr\\u003etimestamp=%{marker.size}\\u003cextra\\u003e\\u003c\\u002fextra\\u003e\",\"legendgroup\":\"I\",\"marker\":{\"color\":\"#ab63fa\",\"size\":[1],\"sizemode\":\"area\",\"sizeref\":0.035,\"symbol\":\"circle\"},\"mode\":\"markers\",\"name\":\"I\",\"orientation\":\"v\",\"showlegend\":true,\"x\":[8],\"xaxis\":\"x\",\"y\":[null],\"yaxis\":\"y\",\"type\":\"scatter\"},{\"hovertemplate\":\"firstname=IT dept\\u003cbr\\u003eShot Distance=%{x}\\u003cbr\\u003ePercentage of Made Shots=%{y}\\u003cbr\\u003etimestamp=%{marker.size}\\u003cextra\\u003e\\u003c\\u002fextra\\u003e\",\"legendgroup\":\"IT dept\",\"marker\":{\"color\":\"#FFA15A\",\"size\":[4,1,1,1,2],\"sizemode\":\"area\",\"sizeref\":0.035,\"symbol\":\"circle\"},\"mode\":\"markers\",\"name\":\"IT dept\",\"orientation\":\"v\",\"showlegend\":true,\"x\":[2,4,6,8,10],\"xaxis\":\"x\",\"y\":[null,null,null,100.0,null],\"yaxis\":\"y\",\"type\":\"scatter\"},{\"hovertemplate\":\"firstname=Imran \\u003cbr\\u003eShot Distance=%{x}\\u003cbr\\u003ePercentage of Made Shots=%{y}\\u003cbr\\u003etimestamp=%{marker.size}\\u003cextra\\u003e\\u003c\\u002fextra\\u003e\",\"legendgroup\":\"Imran \",\"marker\":{\"color\":\"#19d3f3\",\"size\":[1],\"sizemode\":\"area\",\"sizeref\":0.035,\"symbol\":\"circle\"},\"mode\":\"markers\",\"name\":\"Imran \",\"orientation\":\"v\",\"showlegend\":true,\"x\":[4],\"xaxis\":\"x\",\"y\":[null],\"yaxis\":\"y\",\"type\":\"scatter\"},{\"hovertemplate\":\"firstname=Ishruna\\u003cbr\\u003eShot Distance=%{x}\\u003cbr\\u003ePercentage of Made Shots=%{y}\\u003cbr\\u003etimestamp=%{marker.size}\\u003cextra\\u003e\\u003c\\u002fextra\\u003e\",\"legendgroup\":\"Ishruna\",\"marker\":{\"color\":\"#FF6692\",\"size\":[1],\"sizemode\":\"area\",\"sizeref\":0.035,\"symbol\":\"circle\"},\"mode\":\"markers\",\"name\":\"Ishruna\",\"orientation\":\"v\",\"showlegend\":true,\"x\":[8],\"xaxis\":\"x\",\"y\":[null],\"yaxis\":\"y\",\"type\":\"scatter\"},{\"hovertemplate\":\"firstname=J.G\\u003cbr\\u003eShot Distance=%{x}\\u003cbr\\u003ePercentage of Made Shots=%{y}\\u003cbr\\u003etimestamp=%{marker.size}\\u003cextra\\u003e\\u003c\\u002fextra\\u003e\",\"legendgroup\":\"J.G\",\"marker\":{\"color\":\"#B6E880\",\"size\":[1,1],\"sizemode\":\"area\",\"sizeref\":0.035,\"symbol\":\"circle\"},\"mode\":\"markers\",\"name\":\"J.G\",\"orientation\":\"v\",\"showlegend\":true,\"x\":[8,10],\"xaxis\":\"x\",\"y\":[null,null],\"yaxis\":\"y\",\"type\":\"scatter\"},{\"hovertemplate\":\"firstname=JE\\u003cbr\\u003eShot Distance=%{x}\\u003cbr\\u003ePercentage of Made Shots=%{y}\\u003cbr\\u003etimestamp=%{marker.size}\\u003cextra\\u003e\\u003c\\u002fextra\\u003e\",\"legendgroup\":\"JE\",\"marker\":{\"color\":\"#FF97FF\",\"size\":[2,1,4,2],\"sizemode\":\"area\",\"sizeref\":0.035,\"symbol\":\"circle\"},\"mode\":\"markers\",\"name\":\"JE\",\"orientation\":\"v\",\"showlegend\":true,\"x\":[2,4,6,8],\"xaxis\":\"x\",\"y\":[50.0,100.0,25.0,50.0],\"yaxis\":\"y\",\"type\":\"scatter\"},{\"hovertemplate\":\"firstname=Jessica\\u003cbr\\u003eShot Distance=%{x}\\u003cbr\\u003ePercentage of Made Shots=%{y}\\u003cbr\\u003etimestamp=%{marker.size}\\u003cextra\\u003e\\u003c\\u002fextra\\u003e\",\"legendgroup\":\"Jessica\",\"marker\":{\"color\":\"#FECB52\",\"size\":[1],\"sizemode\":\"area\",\"sizeref\":0.035,\"symbol\":\"circle\"},\"mode\":\"markers\",\"name\":\"Jessica\",\"orientation\":\"v\",\"showlegend\":true,\"x\":[2],\"xaxis\":\"x\",\"y\":[100.0],\"yaxis\":\"y\",\"type\":\"scatter\"},{\"hovertemplate\":\"firstname=Jether\\u003cbr\\u003eShot Distance=%{x}\\u003cbr\\u003ePercentage of Made Shots=%{y}\\u003cbr\\u003etimestamp=%{marker.size}\\u003cextra\\u003e\\u003c\\u002fextra\\u003e\",\"legendgroup\":\"Jether\",\"marker\":{\"color\":\"#636efa\",\"size\":[1,2,3,1,2],\"sizemode\":\"area\",\"sizeref\":0.035,\"symbol\":\"circle\"},\"mode\":\"markers\",\"name\":\"Jether\",\"orientation\":\"v\",\"showlegend\":true,\"x\":[2,4,6,8,10],\"xaxis\":\"x\",\"y\":[100.0,100.0,66.66666666666666,100.0,null],\"yaxis\":\"y\",\"type\":\"scatter\"},{\"hovertemplate\":\"firstname=Jether \\u003cbr\\u003eShot Distance=%{x}\\u003cbr\\u003ePercentage of Made Shots=%{y}\\u003cbr\\u003etimestamp=%{marker.size}\\u003cextra\\u003e\\u003c\\u002fextra\\u003e\",\"legendgroup\":\"Jether \",\"marker\":{\"color\":\"#EF553B\",\"size\":[1],\"sizemode\":\"area\",\"sizeref\":0.035,\"symbol\":\"circle\"},\"mode\":\"markers\",\"name\":\"Jether \",\"orientation\":\"v\",\"showlegend\":true,\"x\":[8],\"xaxis\":\"x\",\"y\":[100.0],\"yaxis\":\"y\",\"type\":\"scatter\"},{\"hovertemplate\":\"firstname=Jhustin\\u003cbr\\u003eShot Distance=%{x}\\u003cbr\\u003ePercentage of Made Shots=%{y}\\u003cbr\\u003etimestamp=%{marker.size}\\u003cextra\\u003e\\u003c\\u002fextra\\u003e\",\"legendgroup\":\"Jhustin\",\"marker\":{\"color\":\"#00cc96\",\"size\":[1],\"sizemode\":\"area\",\"sizeref\":0.035,\"symbol\":\"circle\"},\"mode\":\"markers\",\"name\":\"Jhustin\",\"orientation\":\"v\",\"showlegend\":true,\"x\":[8],\"xaxis\":\"x\",\"y\":[100.0],\"yaxis\":\"y\",\"type\":\"scatter\"},{\"hovertemplate\":\"firstname=Jhustin \\u003cbr\\u003eShot Distance=%{x}\\u003cbr\\u003ePercentage of Made Shots=%{y}\\u003cbr\\u003etimestamp=%{marker.size}\\u003cextra\\u003e\\u003c\\u002fextra\\u003e\",\"legendgroup\":\"Jhustin \",\"marker\":{\"color\":\"#ab63fa\",\"size\":[1,1],\"sizemode\":\"area\",\"sizeref\":0.035,\"symbol\":\"circle\"},\"mode\":\"markers\",\"name\":\"Jhustin \",\"orientation\":\"v\",\"showlegend\":true,\"x\":[4,6],\"xaxis\":\"x\",\"y\":[100.0,100.0],\"yaxis\":\"y\",\"type\":\"scatter\"},{\"hovertemplate\":\"firstname=John\\u003cbr\\u003eShot Distance=%{x}\\u003cbr\\u003ePercentage of Made Shots=%{y}\\u003cbr\\u003etimestamp=%{marker.size}\\u003cextra\\u003e\\u003c\\u002fextra\\u003e\",\"legendgroup\":\"John\",\"marker\":{\"color\":\"#FFA15A\",\"size\":[14],\"sizemode\":\"area\",\"sizeref\":0.035,\"symbol\":\"circle\"},\"mode\":\"markers\",\"name\":\"John\",\"orientation\":\"v\",\"showlegend\":true,\"x\":[4],\"xaxis\":\"x\",\"y\":[71.42857142857143],\"yaxis\":\"y\",\"type\":\"scatter\"},{\"hovertemplate\":\"firstname=Jordan\\u003cbr\\u003eShot Distance=%{x}\\u003cbr\\u003ePercentage of Made Shots=%{y}\\u003cbr\\u003etimestamp=%{marker.size}\\u003cextra\\u003e\\u003c\\u002fextra\\u003e\",\"legendgroup\":\"Jordan\",\"marker\":{\"color\":\"#19d3f3\",\"size\":[1,1],\"sizemode\":\"area\",\"sizeref\":0.035,\"symbol\":\"circle\"},\"mode\":\"markers\",\"name\":\"Jordan\",\"orientation\":\"v\",\"showlegend\":true,\"x\":[2,4],\"xaxis\":\"x\",\"y\":[null,null],\"yaxis\":\"y\",\"type\":\"scatter\"},{\"hovertemplate\":\"firstname=Joshua G\\u003cbr\\u003eShot Distance=%{x}\\u003cbr\\u003ePercentage of Made Shots=%{y}\\u003cbr\\u003etimestamp=%{marker.size}\\u003cextra\\u003e\\u003c\\u002fextra\\u003e\",\"legendgroup\":\"Joshua G\",\"marker\":{\"color\":\"#FF6692\",\"size\":[1,1],\"sizemode\":\"area\",\"sizeref\":0.035,\"symbol\":\"circle\"},\"mode\":\"markers\",\"name\":\"Joshua G\",\"orientation\":\"v\",\"showlegend\":true,\"x\":[8,10],\"xaxis\":\"x\",\"y\":[null,null],\"yaxis\":\"y\",\"type\":\"scatter\"},{\"hovertemplate\":\"firstname=Josip\\u003cbr\\u003eShot Distance=%{x}\\u003cbr\\u003ePercentage of Made Shots=%{y}\\u003cbr\\u003etimestamp=%{marker.size}\\u003cextra\\u003e\\u003c\\u002fextra\\u003e\",\"legendgroup\":\"Josip\",\"marker\":{\"color\":\"#B6E880\",\"size\":[1],\"sizemode\":\"area\",\"sizeref\":0.035,\"symbol\":\"circle\"},\"mode\":\"markers\",\"name\":\"Josip\",\"orientation\":\"v\",\"showlegend\":true,\"x\":[2],\"xaxis\":\"x\",\"y\":[100.0],\"yaxis\":\"y\",\"type\":\"scatter\"},{\"hovertemplate\":\"firstname=Julie\\u003cbr\\u003eShot Distance=%{x}\\u003cbr\\u003ePercentage of Made Shots=%{y}\\u003cbr\\u003etimestamp=%{marker.size}\\u003cextra\\u003e\\u003c\\u002fextra\\u003e\",\"legendgroup\":\"Julie\",\"marker\":{\"color\":\"#FF97FF\",\"size\":[1],\"sizemode\":\"area\",\"sizeref\":0.035,\"symbol\":\"circle\"},\"mode\":\"markers\",\"name\":\"Julie\",\"orientation\":\"v\",\"showlegend\":true,\"x\":[2],\"xaxis\":\"x\",\"y\":[100.0],\"yaxis\":\"y\",\"type\":\"scatter\"},{\"hovertemplate\":\"firstname=KELVIN\\u003cbr\\u003eShot Distance=%{x}\\u003cbr\\u003ePercentage of Made Shots=%{y}\\u003cbr\\u003etimestamp=%{marker.size}\\u003cextra\\u003e\\u003c\\u002fextra\\u003e\",\"legendgroup\":\"KELVIN\",\"marker\":{\"color\":\"#FECB52\",\"size\":[1,1],\"sizemode\":\"area\",\"sizeref\":0.035,\"symbol\":\"circle\"},\"mode\":\"markers\",\"name\":\"KELVIN\",\"orientation\":\"v\",\"showlegend\":true,\"x\":[4,8],\"xaxis\":\"x\",\"y\":[null,null],\"yaxis\":\"y\",\"type\":\"scatter\"},{\"hovertemplate\":\"firstname=Kal\\u003cbr\\u003eShot Distance=%{x}\\u003cbr\\u003ePercentage of Made Shots=%{y}\\u003cbr\\u003etimestamp=%{marker.size}\\u003cextra\\u003e\\u003c\\u002fextra\\u003e\",\"legendgroup\":\"Kal\",\"marker\":{\"color\":\"#636efa\",\"size\":[1],\"sizemode\":\"area\",\"sizeref\":0.035,\"symbol\":\"circle\"},\"mode\":\"markers\",\"name\":\"Kal\",\"orientation\":\"v\",\"showlegend\":true,\"x\":[6],\"xaxis\":\"x\",\"y\":[100.0],\"yaxis\":\"y\",\"type\":\"scatter\"},{\"hovertemplate\":\"firstname=Kate\\u003cbr\\u003eShot Distance=%{x}\\u003cbr\\u003ePercentage of Made Shots=%{y}\\u003cbr\\u003etimestamp=%{marker.size}\\u003cextra\\u003e\\u003c\\u002fextra\\u003e\",\"legendgroup\":\"Kate\",\"marker\":{\"color\":\"#EF553B\",\"size\":[1],\"sizemode\":\"area\",\"sizeref\":0.035,\"symbol\":\"circle\"},\"mode\":\"markers\",\"name\":\"Kate\",\"orientation\":\"v\",\"showlegend\":true,\"x\":[10],\"xaxis\":\"x\",\"y\":[null],\"yaxis\":\"y\",\"type\":\"scatter\"},{\"hovertemplate\":\"firstname=Kelly\\u003cbr\\u003eShot Distance=%{x}\\u003cbr\\u003ePercentage of Made Shots=%{y}\\u003cbr\\u003etimestamp=%{marker.size}\\u003cextra\\u003e\\u003c\\u002fextra\\u003e\",\"legendgroup\":\"Kelly\",\"marker\":{\"color\":\"#00cc96\",\"size\":[1],\"sizemode\":\"area\",\"sizeref\":0.035,\"symbol\":\"circle\"},\"mode\":\"markers\",\"name\":\"Kelly\",\"orientation\":\"v\",\"showlegend\":true,\"x\":[4],\"xaxis\":\"x\",\"y\":[null],\"yaxis\":\"y\",\"type\":\"scatter\"},{\"hovertemplate\":\"firstname=Kevin\\u003cbr\\u003eShot Distance=%{x}\\u003cbr\\u003ePercentage of Made Shots=%{y}\\u003cbr\\u003etimestamp=%{marker.size}\\u003cextra\\u003e\\u003c\\u002fextra\\u003e\",\"legendgroup\":\"Kevin\",\"marker\":{\"color\":\"#ab63fa\",\"size\":[1],\"sizemode\":\"area\",\"sizeref\":0.035,\"symbol\":\"circle\"},\"mode\":\"markers\",\"name\":\"Kevin\",\"orientation\":\"v\",\"showlegend\":true,\"x\":[6],\"xaxis\":\"x\",\"y\":[100.0],\"yaxis\":\"y\",\"type\":\"scatter\"},{\"hovertemplate\":\"firstname=Kirsten\\u003cbr\\u003eShot Distance=%{x}\\u003cbr\\u003ePercentage of Made Shots=%{y}\\u003cbr\\u003etimestamp=%{marker.size}\\u003cextra\\u003e\\u003c\\u002fextra\\u003e\",\"legendgroup\":\"Kirsten\",\"marker\":{\"color\":\"#FFA15A\",\"size\":[1],\"sizemode\":\"area\",\"sizeref\":0.035,\"symbol\":\"circle\"},\"mode\":\"markers\",\"name\":\"Kirsten\",\"orientation\":\"v\",\"showlegend\":true,\"x\":[6],\"xaxis\":\"x\",\"y\":[null],\"yaxis\":\"y\",\"type\":\"scatter\"},{\"hovertemplate\":\"firstname=Kobe\\u003cbr\\u003eShot Distance=%{x}\\u003cbr\\u003ePercentage of Made Shots=%{y}\\u003cbr\\u003etimestamp=%{marker.size}\\u003cextra\\u003e\\u003c\\u002fextra\\u003e\",\"legendgroup\":\"Kobe\",\"marker\":{\"color\":\"#19d3f3\",\"size\":[1,1,1,5],\"sizemode\":\"area\",\"sizeref\":0.035,\"symbol\":\"circle\"},\"mode\":\"markers\",\"name\":\"Kobe\",\"orientation\":\"v\",\"showlegend\":true,\"x\":[4,6,8,10],\"xaxis\":\"x\",\"y\":[100.0,100.0,100.0,100.0],\"yaxis\":\"y\",\"type\":\"scatter\"},{\"hovertemplate\":\"firstname=Kylie\\u003cbr\\u003eShot Distance=%{x}\\u003cbr\\u003ePercentage of Made Shots=%{y}\\u003cbr\\u003etimestamp=%{marker.size}\\u003cextra\\u003e\\u003c\\u002fextra\\u003e\",\"legendgroup\":\"Kylie\",\"marker\":{\"color\":\"#FF6692\",\"size\":[1],\"sizemode\":\"area\",\"sizeref\":0.035,\"symbol\":\"circle\"},\"mode\":\"markers\",\"name\":\"Kylie\",\"orientation\":\"v\",\"showlegend\":true,\"x\":[10],\"xaxis\":\"x\",\"y\":[null],\"yaxis\":\"y\",\"type\":\"scatter\"},{\"hovertemplate\":\"firstname=LN\\u003cbr\\u003eShot Distance=%{x}\\u003cbr\\u003ePercentage of Made Shots=%{y}\\u003cbr\\u003etimestamp=%{marker.size}\\u003cextra\\u003e\\u003c\\u002fextra\\u003e\",\"legendgroup\":\"LN\",\"marker\":{\"color\":\"#B6E880\",\"size\":[2],\"sizemode\":\"area\",\"sizeref\":0.035,\"symbol\":\"circle\"},\"mode\":\"markers\",\"name\":\"LN\",\"orientation\":\"v\",\"showlegend\":true,\"x\":[8],\"xaxis\":\"x\",\"y\":[null],\"yaxis\":\"y\",\"type\":\"scatter\"},{\"hovertemplate\":\"firstname=Lebron\\u003cbr\\u003eShot Distance=%{x}\\u003cbr\\u003ePercentage of Made Shots=%{y}\\u003cbr\\u003etimestamp=%{marker.size}\\u003cextra\\u003e\\u003c\\u002fextra\\u003e\",\"legendgroup\":\"Lebron\",\"marker\":{\"color\":\"#FF97FF\",\"size\":[1],\"sizemode\":\"area\",\"sizeref\":0.035,\"symbol\":\"circle\"},\"mode\":\"markers\",\"name\":\"Lebron\",\"orientation\":\"v\",\"showlegend\":true,\"x\":[10],\"xaxis\":\"x\",\"y\":[100.0],\"yaxis\":\"y\",\"type\":\"scatter\"},{\"hovertemplate\":\"firstname=Lesley\\u003cbr\\u003eShot Distance=%{x}\\u003cbr\\u003ePercentage of Made Shots=%{y}\\u003cbr\\u003etimestamp=%{marker.size}\\u003cextra\\u003e\\u003c\\u002fextra\\u003e\",\"legendgroup\":\"Lesley\",\"marker\":{\"color\":\"#FECB52\",\"size\":[2],\"sizemode\":\"area\",\"sizeref\":0.035,\"symbol\":\"circle\"},\"mode\":\"markers\",\"name\":\"Lesley\",\"orientation\":\"v\",\"showlegend\":true,\"x\":[4],\"xaxis\":\"x\",\"y\":[100.0],\"yaxis\":\"y\",\"type\":\"scatter\"},{\"hovertemplate\":\"firstname=MG\\u003cbr\\u003eShot Distance=%{x}\\u003cbr\\u003ePercentage of Made Shots=%{y}\\u003cbr\\u003etimestamp=%{marker.size}\\u003cextra\\u003e\\u003c\\u002fextra\\u003e\",\"legendgroup\":\"MG\",\"marker\":{\"color\":\"#636efa\",\"size\":[1,5,3],\"sizemode\":\"area\",\"sizeref\":0.035,\"symbol\":\"circle\"},\"mode\":\"markers\",\"name\":\"MG\",\"orientation\":\"v\",\"showlegend\":true,\"x\":[2,8,10],\"xaxis\":\"x\",\"y\":[100.0,60.0,66.66666666666666],\"yaxis\":\"y\",\"type\":\"scatter\"},{\"hovertemplate\":\"firstname=MPT\\u003cbr\\u003eShot Distance=%{x}\\u003cbr\\u003ePercentage of Made Shots=%{y}\\u003cbr\\u003etimestamp=%{marker.size}\\u003cextra\\u003e\\u003c\\u002fextra\\u003e\",\"legendgroup\":\"MPT\",\"marker\":{\"color\":\"#EF553B\",\"size\":[4],\"sizemode\":\"area\",\"sizeref\":0.035,\"symbol\":\"circle\"},\"mode\":\"markers\",\"name\":\"MPT\",\"orientation\":\"v\",\"showlegend\":true,\"x\":[4],\"xaxis\":\"x\",\"y\":[25.0],\"yaxis\":\"y\",\"type\":\"scatter\"},{\"hovertemplate\":\"firstname=Mac\\u003cbr\\u003eShot Distance=%{x}\\u003cbr\\u003ePercentage of Made Shots=%{y}\\u003cbr\\u003etimestamp=%{marker.size}\\u003cextra\\u003e\\u003c\\u002fextra\\u003e\",\"legendgroup\":\"Mac\",\"marker\":{\"color\":\"#00cc96\",\"size\":[1],\"sizemode\":\"area\",\"sizeref\":0.035,\"symbol\":\"circle\"},\"mode\":\"markers\",\"name\":\"Mac\",\"orientation\":\"v\",\"showlegend\":true,\"x\":[6],\"xaxis\":\"x\",\"y\":[100.0],\"yaxis\":\"y\",\"type\":\"scatter\"},{\"hovertemplate\":\"firstname=Marco\\u003cbr\\u003eShot Distance=%{x}\\u003cbr\\u003ePercentage of Made Shots=%{y}\\u003cbr\\u003etimestamp=%{marker.size}\\u003cextra\\u003e\\u003c\\u002fextra\\u003e\",\"legendgroup\":\"Marco\",\"marker\":{\"color\":\"#ab63fa\",\"size\":[1],\"sizemode\":\"area\",\"sizeref\":0.035,\"symbol\":\"circle\"},\"mode\":\"markers\",\"name\":\"Marco\",\"orientation\":\"v\",\"showlegend\":true,\"x\":[6],\"xaxis\":\"x\",\"y\":[100.0],\"yaxis\":\"y\",\"type\":\"scatter\"},{\"hovertemplate\":\"firstname=Marina C\\u003cbr\\u003eShot Distance=%{x}\\u003cbr\\u003ePercentage of Made Shots=%{y}\\u003cbr\\u003etimestamp=%{marker.size}\\u003cextra\\u003e\\u003c\\u002fextra\\u003e\",\"legendgroup\":\"Marina C\",\"marker\":{\"color\":\"#FFA15A\",\"size\":[5,11],\"sizemode\":\"area\",\"sizeref\":0.035,\"symbol\":\"circle\"},\"mode\":\"markers\",\"name\":\"Marina C\",\"orientation\":\"v\",\"showlegend\":true,\"x\":[4,6],\"xaxis\":\"x\",\"y\":[40.0,54.54545454545454],\"yaxis\":\"y\",\"type\":\"scatter\"},{\"hovertemplate\":\"firstname=Marjoire\\u003cbr\\u003eShot Distance=%{x}\\u003cbr\\u003ePercentage of Made Shots=%{y}\\u003cbr\\u003etimestamp=%{marker.size}\\u003cextra\\u003e\\u003c\\u002fextra\\u003e\",\"legendgroup\":\"Marjoire\",\"marker\":{\"color\":\"#19d3f3\",\"size\":[1,1],\"sizemode\":\"area\",\"sizeref\":0.035,\"symbol\":\"circle\"},\"mode\":\"markers\",\"name\":\"Marjoire\",\"orientation\":\"v\",\"showlegend\":true,\"x\":[4,6],\"xaxis\":\"x\",\"y\":[null,null],\"yaxis\":\"y\",\"type\":\"scatter\"},{\"hovertemplate\":\"firstname=Marjorie\\u003cbr\\u003eShot Distance=%{x}\\u003cbr\\u003ePercentage of Made Shots=%{y}\\u003cbr\\u003etimestamp=%{marker.size}\\u003cextra\\u003e\\u003c\\u002fextra\\u003e\",\"legendgroup\":\"Marjorie\",\"marker\":{\"color\":\"#FF6692\",\"size\":[3,2,2,3,1],\"sizemode\":\"area\",\"sizeref\":0.035,\"symbol\":\"circle\"},\"mode\":\"markers\",\"name\":\"Marjorie\",\"orientation\":\"v\",\"showlegend\":true,\"x\":[2,4,6,8,10],\"xaxis\":\"x\",\"y\":[100.0,50.0,null,66.66666666666666,null],\"yaxis\":\"y\",\"type\":\"scatter\"},{\"hovertemplate\":\"firstname=Marjorie \\u003cbr\\u003eShot Distance=%{x}\\u003cbr\\u003ePercentage of Made Shots=%{y}\\u003cbr\\u003etimestamp=%{marker.size}\\u003cextra\\u003e\\u003c\\u002fextra\\u003e\",\"legendgroup\":\"Marjorie \",\"marker\":{\"color\":\"#B6E880\",\"size\":[1,1,1,1,1],\"sizemode\":\"area\",\"sizeref\":0.035,\"symbol\":\"circle\"},\"mode\":\"markers\",\"name\":\"Marjorie \",\"orientation\":\"v\",\"showlegend\":true,\"x\":[2,4,6,8,10],\"xaxis\":\"x\",\"y\":[100.0,100.0,100.0,null,null],\"yaxis\":\"y\",\"type\":\"scatter\"},{\"hovertemplate\":\"firstname=Mark\\u003cbr\\u003eShot Distance=%{x}\\u003cbr\\u003ePercentage of Made Shots=%{y}\\u003cbr\\u003etimestamp=%{marker.size}\\u003cextra\\u003e\\u003c\\u002fextra\\u003e\",\"legendgroup\":\"Mark\",\"marker\":{\"color\":\"#FF97FF\",\"size\":[3],\"sizemode\":\"area\",\"sizeref\":0.035,\"symbol\":\"circle\"},\"mode\":\"markers\",\"name\":\"Mark\",\"orientation\":\"v\",\"showlegend\":true,\"x\":[6],\"xaxis\":\"x\",\"y\":[66.66666666666666],\"yaxis\":\"y\",\"type\":\"scatter\"},{\"hovertemplate\":\"firstname=Meagan\\u003cbr\\u003eShot Distance=%{x}\\u003cbr\\u003ePercentage of Made Shots=%{y}\\u003cbr\\u003etimestamp=%{marker.size}\\u003cextra\\u003e\\u003c\\u002fextra\\u003e\",\"legendgroup\":\"Meagan\",\"marker\":{\"color\":\"#FECB52\",\"size\":[1],\"sizemode\":\"area\",\"sizeref\":0.035,\"symbol\":\"circle\"},\"mode\":\"markers\",\"name\":\"Meagan\",\"orientation\":\"v\",\"showlegend\":true,\"x\":[2],\"xaxis\":\"x\",\"y\":[null],\"yaxis\":\"y\",\"type\":\"scatter\"},{\"hovertemplate\":\"firstname=Michelle\\u003cbr\\u003eShot Distance=%{x}\\u003cbr\\u003ePercentage of Made Shots=%{y}\\u003cbr\\u003etimestamp=%{marker.size}\\u003cextra\\u003e\\u003c\\u002fextra\\u003e\",\"legendgroup\":\"Michelle\",\"marker\":{\"color\":\"#636efa\",\"size\":[1,1],\"sizemode\":\"area\",\"sizeref\":0.035,\"symbol\":\"circle\"},\"mode\":\"markers\",\"name\":\"Michelle\",\"orientation\":\"v\",\"showlegend\":true,\"x\":[6,8],\"xaxis\":\"x\",\"y\":[null,null],\"yaxis\":\"y\",\"type\":\"scatter\"},{\"hovertemplate\":\"firstname=Mike\\u003cbr\\u003eShot Distance=%{x}\\u003cbr\\u003ePercentage of Made Shots=%{y}\\u003cbr\\u003etimestamp=%{marker.size}\\u003cextra\\u003e\\u003c\\u002fextra\\u003e\",\"legendgroup\":\"Mike\",\"marker\":{\"color\":\"#EF553B\",\"size\":[3,1],\"sizemode\":\"area\",\"sizeref\":0.035,\"symbol\":\"circle\"},\"mode\":\"markers\",\"name\":\"Mike\",\"orientation\":\"v\",\"showlegend\":true,\"x\":[8,10],\"xaxis\":\"x\",\"y\":[null,null],\"yaxis\":\"y\",\"type\":\"scatter\"},{\"hovertemplate\":\"firstname=NP\\u003cbr\\u003eShot Distance=%{x}\\u003cbr\\u003ePercentage of Made Shots=%{y}\\u003cbr\\u003etimestamp=%{marker.size}\\u003cextra\\u003e\\u003c\\u002fextra\\u003e\",\"legendgroup\":\"NP\",\"marker\":{\"color\":\"#00cc96\",\"size\":[1,1],\"sizemode\":\"area\",\"sizeref\":0.035,\"symbol\":\"circle\"},\"mode\":\"markers\",\"name\":\"NP\",\"orientation\":\"v\",\"showlegend\":true,\"x\":[4,10],\"xaxis\":\"x\",\"y\":[100.0,null],\"yaxis\":\"y\",\"type\":\"scatter\"},{\"hovertemplate\":\"firstname=Nathan\\u003cbr\\u003eShot Distance=%{x}\\u003cbr\\u003ePercentage of Made Shots=%{y}\\u003cbr\\u003etimestamp=%{marker.size}\\u003cextra\\u003e\\u003c\\u002fextra\\u003e\",\"legendgroup\":\"Nathan\",\"marker\":{\"color\":\"#ab63fa\",\"size\":[1,1],\"sizemode\":\"area\",\"sizeref\":0.035,\"symbol\":\"circle\"},\"mode\":\"markers\",\"name\":\"Nathan\",\"orientation\":\"v\",\"showlegend\":true,\"x\":[2,8],\"xaxis\":\"x\",\"y\":[100.0,null],\"yaxis\":\"y\",\"type\":\"scatter\"},{\"hovertemplate\":\"firstname=Naya\\u003cbr\\u003eShot Distance=%{x}\\u003cbr\\u003ePercentage of Made Shots=%{y}\\u003cbr\\u003etimestamp=%{marker.size}\\u003cextra\\u003e\\u003c\\u002fextra\\u003e\",\"legendgroup\":\"Naya\",\"marker\":{\"color\":\"#FFA15A\",\"size\":[4,1,1,4,4],\"sizemode\":\"area\",\"sizeref\":0.035,\"symbol\":\"circle\"},\"mode\":\"markers\",\"name\":\"Naya\",\"orientation\":\"v\",\"showlegend\":true,\"x\":[2,4,6,8,10],\"xaxis\":\"x\",\"y\":[100.0,100.0,null,25.0,null],\"yaxis\":\"y\",\"type\":\"scatter\"},{\"hovertemplate\":\"firstname=Nico\\u003cbr\\u003eShot Distance=%{x}\\u003cbr\\u003ePercentage of Made Shots=%{y}\\u003cbr\\u003etimestamp=%{marker.size}\\u003cextra\\u003e\\u003c\\u002fextra\\u003e\",\"legendgroup\":\"Nico\",\"marker\":{\"color\":\"#19d3f3\",\"size\":[14],\"sizemode\":\"area\",\"sizeref\":0.035,\"symbol\":\"circle\"},\"mode\":\"markers\",\"name\":\"Nico\",\"orientation\":\"v\",\"showlegend\":true,\"x\":[10],\"xaxis\":\"x\",\"y\":[42.857142857142854],\"yaxis\":\"y\",\"type\":\"scatter\"},{\"hovertemplate\":\"firstname=Omar\\u003cbr\\u003eShot Distance=%{x}\\u003cbr\\u003ePercentage of Made Shots=%{y}\\u003cbr\\u003etimestamp=%{marker.size}\\u003cextra\\u003e\\u003c\\u002fextra\\u003e\",\"legendgroup\":\"Omar\",\"marker\":{\"color\":\"#FF6692\",\"size\":[1],\"sizemode\":\"area\",\"sizeref\":0.035,\"symbol\":\"circle\"},\"mode\":\"markers\",\"name\":\"Omar\",\"orientation\":\"v\",\"showlegend\":true,\"x\":[4],\"xaxis\":\"x\",\"y\":[100.0],\"yaxis\":\"y\",\"type\":\"scatter\"},{\"hovertemplate\":\"firstname=PB\\u003cbr\\u003eShot Distance=%{x}\\u003cbr\\u003ePercentage of Made Shots=%{y}\\u003cbr\\u003etimestamp=%{marker.size}\\u003cextra\\u003e\\u003c\\u002fextra\\u003e\",\"legendgroup\":\"PB\",\"marker\":{\"color\":\"#B6E880\",\"size\":[1,1,2,1],\"sizemode\":\"area\",\"sizeref\":0.035,\"symbol\":\"circle\"},\"mode\":\"markers\",\"name\":\"PB\",\"orientation\":\"v\",\"showlegend\":true,\"x\":[2,4,6,8],\"xaxis\":\"x\",\"y\":[100.0,100.0,50.0,null],\"yaxis\":\"y\",\"type\":\"scatter\"},{\"hovertemplate\":\"firstname=Pooja\\u003cbr\\u003eShot Distance=%{x}\\u003cbr\\u003ePercentage of Made Shots=%{y}\\u003cbr\\u003etimestamp=%{marker.size}\\u003cextra\\u003e\\u003c\\u002fextra\\u003e\",\"legendgroup\":\"Pooja\",\"marker\":{\"color\":\"#FF97FF\",\"size\":[1],\"sizemode\":\"area\",\"sizeref\":0.035,\"symbol\":\"circle\"},\"mode\":\"markers\",\"name\":\"Pooja\",\"orientation\":\"v\",\"showlegend\":true,\"x\":[6],\"xaxis\":\"x\",\"y\":[null],\"yaxis\":\"y\",\"type\":\"scatter\"},{\"hovertemplate\":\"firstname=R.M\\u003cbr\\u003eShot Distance=%{x}\\u003cbr\\u003ePercentage of Made Shots=%{y}\\u003cbr\\u003etimestamp=%{marker.size}\\u003cextra\\u003e\\u003c\\u002fextra\\u003e\",\"legendgroup\":\"R.M\",\"marker\":{\"color\":\"#FECB52\",\"size\":[2,1,3,9],\"sizemode\":\"area\",\"sizeref\":0.035,\"symbol\":\"circle\"},\"mode\":\"markers\",\"name\":\"R.M\",\"orientation\":\"v\",\"showlegend\":true,\"x\":[2,4,8,10],\"xaxis\":\"x\",\"y\":[100.0,100.0,66.66666666666666,22.22222222222222],\"yaxis\":\"y\",\"type\":\"scatter\"},{\"hovertemplate\":\"firstname=Rebecca\\u003cbr\\u003eShot Distance=%{x}\\u003cbr\\u003ePercentage of Made Shots=%{y}\\u003cbr\\u003etimestamp=%{marker.size}\\u003cextra\\u003e\\u003c\\u002fextra\\u003e\",\"legendgroup\":\"Rebecca\",\"marker\":{\"color\":\"#636efa\",\"size\":[1],\"sizemode\":\"area\",\"sizeref\":0.035,\"symbol\":\"circle\"},\"mode\":\"markers\",\"name\":\"Rebecca\",\"orientation\":\"v\",\"showlegend\":true,\"x\":[8],\"xaxis\":\"x\",\"y\":[100.0],\"yaxis\":\"y\",\"type\":\"scatter\"},{\"hovertemplate\":\"firstname=Riley\\u003cbr\\u003eShot Distance=%{x}\\u003cbr\\u003ePercentage of Made Shots=%{y}\\u003cbr\\u003etimestamp=%{marker.size}\\u003cextra\\u003e\\u003c\\u002fextra\\u003e\",\"legendgroup\":\"Riley\",\"marker\":{\"color\":\"#EF553B\",\"size\":[1,2],\"sizemode\":\"area\",\"sizeref\":0.035,\"symbol\":\"circle\"},\"mode\":\"markers\",\"name\":\"Riley\",\"orientation\":\"v\",\"showlegend\":true,\"x\":[4,10],\"xaxis\":\"x\",\"y\":[null,null],\"yaxis\":\"y\",\"type\":\"scatter\"},{\"hovertemplate\":\"firstname=Rolland\\u003cbr\\u003eShot Distance=%{x}\\u003cbr\\u003ePercentage of Made Shots=%{y}\\u003cbr\\u003etimestamp=%{marker.size}\\u003cextra\\u003e\\u003c\\u002fextra\\u003e\",\"legendgroup\":\"Rolland\",\"marker\":{\"color\":\"#00cc96\",\"size\":[1,1,1,1],\"sizemode\":\"area\",\"sizeref\":0.035,\"symbol\":\"circle\"},\"mode\":\"markers\",\"name\":\"Rolland\",\"orientation\":\"v\",\"showlegend\":true,\"x\":[2,4,6,8],\"xaxis\":\"x\",\"y\":[null,null,null,100.0],\"yaxis\":\"y\",\"type\":\"scatter\"},{\"hovertemplate\":\"firstname=Ryan\\u003cbr\\u003eShot Distance=%{x}\\u003cbr\\u003ePercentage of Made Shots=%{y}\\u003cbr\\u003etimestamp=%{marker.size}\\u003cextra\\u003e\\u003c\\u002fextra\\u003e\",\"legendgroup\":\"Ryan\",\"marker\":{\"color\":\"#ab63fa\",\"size\":[1,1],\"sizemode\":\"area\",\"sizeref\":0.035,\"symbol\":\"circle\"},\"mode\":\"markers\",\"name\":\"Ryan\",\"orientation\":\"v\",\"showlegend\":true,\"x\":[4,10],\"xaxis\":\"x\",\"y\":[null,null],\"yaxis\":\"y\",\"type\":\"scatter\"},{\"hovertemplate\":\"firstname=SB\\u003cbr\\u003eShot Distance=%{x}\\u003cbr\\u003ePercentage of Made Shots=%{y}\\u003cbr\\u003etimestamp=%{marker.size}\\u003cextra\\u003e\\u003c\\u002fextra\\u003e\",\"legendgroup\":\"SB\",\"marker\":{\"color\":\"#FFA15A\",\"size\":[1,1],\"sizemode\":\"area\",\"sizeref\":0.035,\"symbol\":\"circle\"},\"mode\":\"markers\",\"name\":\"SB\",\"orientation\":\"v\",\"showlegend\":true,\"x\":[4,8],\"xaxis\":\"x\",\"y\":[100.0,null],\"yaxis\":\"y\",\"type\":\"scatter\"},{\"hovertemplate\":\"firstname=Scooter\\u003cbr\\u003eShot Distance=%{x}\\u003cbr\\u003ePercentage of Made Shots=%{y}\\u003cbr\\u003etimestamp=%{marker.size}\\u003cextra\\u003e\\u003c\\u002fextra\\u003e\",\"legendgroup\":\"Scooter\",\"marker\":{\"color\":\"#19d3f3\",\"size\":[1],\"sizemode\":\"area\",\"sizeref\":0.035,\"symbol\":\"circle\"},\"mode\":\"markers\",\"name\":\"Scooter\",\"orientation\":\"v\",\"showlegend\":true,\"x\":[2],\"xaxis\":\"x\",\"y\":[null],\"yaxis\":\"y\",\"type\":\"scatter\"},{\"hovertemplate\":\"firstname=Scooter \\u003cbr\\u003eShot Distance=%{x}\\u003cbr\\u003ePercentage of Made Shots=%{y}\\u003cbr\\u003etimestamp=%{marker.size}\\u003cextra\\u003e\\u003c\\u002fextra\\u003e\",\"legendgroup\":\"Scooter \",\"marker\":{\"color\":\"#FF6692\",\"size\":[1,1],\"sizemode\":\"area\",\"sizeref\":0.035,\"symbol\":\"circle\"},\"mode\":\"markers\",\"name\":\"Scooter \",\"orientation\":\"v\",\"showlegend\":true,\"x\":[4,6],\"xaxis\":\"x\",\"y\":[null,null],\"yaxis\":\"y\",\"type\":\"scatter\"},{\"hovertemplate\":\"firstname=Scott\\u003cbr\\u003eShot Distance=%{x}\\u003cbr\\u003ePercentage of Made Shots=%{y}\\u003cbr\\u003etimestamp=%{marker.size}\\u003cextra\\u003e\\u003c\\u002fextra\\u003e\",\"legendgroup\":\"Scott\",\"marker\":{\"color\":\"#B6E880\",\"size\":[5,1,1,3,1],\"sizemode\":\"area\",\"sizeref\":0.035,\"symbol\":\"circle\"},\"mode\":\"markers\",\"name\":\"Scott\",\"orientation\":\"v\",\"showlegend\":true,\"x\":[2,4,6,8,10],\"xaxis\":\"x\",\"y\":[null,null,null,null,null],\"yaxis\":\"y\",\"type\":\"scatter\"},{\"hovertemplate\":\"firstname=Simon\\u003cbr\\u003eShot Distance=%{x}\\u003cbr\\u003ePercentage of Made Shots=%{y}\\u003cbr\\u003etimestamp=%{marker.size}\\u003cextra\\u003e\\u003c\\u002fextra\\u003e\",\"legendgroup\":\"Simon\",\"marker\":{\"color\":\"#FF97FF\",\"size\":[3],\"sizemode\":\"area\",\"sizeref\":0.035,\"symbol\":\"circle\"},\"mode\":\"markers\",\"name\":\"Simon\",\"orientation\":\"v\",\"showlegend\":true,\"x\":[10],\"xaxis\":\"x\",\"y\":[100.0],\"yaxis\":\"y\",\"type\":\"scatter\"},{\"hovertemplate\":\"firstname=Sophia\\u003cbr\\u003eShot Distance=%{x}\\u003cbr\\u003ePercentage of Made Shots=%{y}\\u003cbr\\u003etimestamp=%{marker.size}\\u003cextra\\u003e\\u003c\\u002fextra\\u003e\",\"legendgroup\":\"Sophia\",\"marker\":{\"color\":\"#FECB52\",\"size\":[2,2,2,2,2],\"sizemode\":\"area\",\"sizeref\":0.035,\"symbol\":\"circle\"},\"mode\":\"markers\",\"name\":\"Sophia\",\"orientation\":\"v\",\"showlegend\":true,\"x\":[2,4,6,8,10],\"xaxis\":\"x\",\"y\":[100.0,50.0,50.0,100.0,100.0],\"yaxis\":\"y\",\"type\":\"scatter\"},{\"hovertemplate\":\"firstname=Sophia \\u003cbr\\u003eShot Distance=%{x}\\u003cbr\\u003ePercentage of Made Shots=%{y}\\u003cbr\\u003etimestamp=%{marker.size}\\u003cextra\\u003e\\u003c\\u002fextra\\u003e\",\"legendgroup\":\"Sophia \",\"marker\":{\"color\":\"#636efa\",\"size\":[1,1,1,2],\"sizemode\":\"area\",\"sizeref\":0.035,\"symbol\":\"circle\"},\"mode\":\"markers\",\"name\":\"Sophia \",\"orientation\":\"v\",\"showlegend\":true,\"x\":[2,4,6,8],\"xaxis\":\"x\",\"y\":[100.0,100.0,100.0,50.0],\"yaxis\":\"y\",\"type\":\"scatter\"},{\"hovertemplate\":\"firstname=Stefano\\u003cbr\\u003eShot Distance=%{x}\\u003cbr\\u003ePercentage of Made Shots=%{y}\\u003cbr\\u003etimestamp=%{marker.size}\\u003cextra\\u003e\\u003c\\u002fextra\\u003e\",\"legendgroup\":\"Stefano\",\"marker\":{\"color\":\"#EF553B\",\"size\":[1,6],\"sizemode\":\"area\",\"sizeref\":0.035,\"symbol\":\"circle\"},\"mode\":\"markers\",\"name\":\"Stefano\",\"orientation\":\"v\",\"showlegend\":true,\"x\":[8,10],\"xaxis\":\"x\",\"y\":[100.0,33.33333333333333],\"yaxis\":\"y\",\"type\":\"scatter\"},{\"hovertemplate\":\"firstname=Tainy\\u003cbr\\u003eShot Distance=%{x}\\u003cbr\\u003ePercentage of Made Shots=%{y}\\u003cbr\\u003etimestamp=%{marker.size}\\u003cextra\\u003e\\u003c\\u002fextra\\u003e\",\"legendgroup\":\"Tainy\",\"marker\":{\"color\":\"#00cc96\",\"size\":[1,1],\"sizemode\":\"area\",\"sizeref\":0.035,\"symbol\":\"circle\"},\"mode\":\"markers\",\"name\":\"Tainy\",\"orientation\":\"v\",\"showlegend\":true,\"x\":[2,8],\"xaxis\":\"x\",\"y\":[100.0,null],\"yaxis\":\"y\",\"type\":\"scatter\"},{\"hovertemplate\":\"firstname=Terry\\u003cbr\\u003eShot Distance=%{x}\\u003cbr\\u003ePercentage of Made Shots=%{y}\\u003cbr\\u003etimestamp=%{marker.size}\\u003cextra\\u003e\\u003c\\u002fextra\\u003e\",\"legendgroup\":\"Terry\",\"marker\":{\"color\":\"#ab63fa\",\"size\":[2],\"sizemode\":\"area\",\"sizeref\":0.035,\"symbol\":\"circle\"},\"mode\":\"markers\",\"name\":\"Terry\",\"orientation\":\"v\",\"showlegend\":true,\"x\":[8],\"xaxis\":\"x\",\"y\":[100.0],\"yaxis\":\"y\",\"type\":\"scatter\"},{\"hovertemplate\":\"firstname=Terry \\u003cbr\\u003eShot Distance=%{x}\\u003cbr\\u003ePercentage of Made Shots=%{y}\\u003cbr\\u003etimestamp=%{marker.size}\\u003cextra\\u003e\\u003c\\u002fextra\\u003e\",\"legendgroup\":\"Terry \",\"marker\":{\"color\":\"#FFA15A\",\"size\":[4],\"sizemode\":\"area\",\"sizeref\":0.035,\"symbol\":\"circle\"},\"mode\":\"markers\",\"name\":\"Terry \",\"orientation\":\"v\",\"showlegend\":true,\"x\":[8],\"xaxis\":\"x\",\"y\":[25.0],\"yaxis\":\"y\",\"type\":\"scatter\"},{\"hovertemplate\":\"firstname=VSS\\u003cbr\\u003eShot Distance=%{x}\\u003cbr\\u003ePercentage of Made Shots=%{y}\\u003cbr\\u003etimestamp=%{marker.size}\\u003cextra\\u003e\\u003c\\u002fextra\\u003e\",\"legendgroup\":\"VSS\",\"marker\":{\"color\":\"#19d3f3\",\"size\":[1,1],\"sizemode\":\"area\",\"sizeref\":0.035,\"symbol\":\"circle\"},\"mode\":\"markers\",\"name\":\"VSS\",\"orientation\":\"v\",\"showlegend\":true,\"x\":[2,4],\"xaxis\":\"x\",\"y\":[100.0,null],\"yaxis\":\"y\",\"type\":\"scatter\"},{\"hovertemplate\":\"firstname=ale\\u003cbr\\u003eShot Distance=%{x}\\u003cbr\\u003ePercentage of Made Shots=%{y}\\u003cbr\\u003etimestamp=%{marker.size}\\u003cextra\\u003e\\u003c\\u002fextra\\u003e\",\"legendgroup\":\"ale\",\"marker\":{\"color\":\"#FF6692\",\"size\":[7,3,2,2,1],\"sizemode\":\"area\",\"sizeref\":0.035,\"symbol\":\"circle\"},\"mode\":\"markers\",\"name\":\"ale\",\"orientation\":\"v\",\"showlegend\":true,\"x\":[2,4,6,8,10],\"xaxis\":\"x\",\"y\":[57.14285714285714,66.66666666666666,50.0,50.0,100.0],\"yaxis\":\"y\",\"type\":\"scatter\"},{\"hovertemplate\":\"firstname=ben\\u003cbr\\u003eShot Distance=%{x}\\u003cbr\\u003ePercentage of Made Shots=%{y}\\u003cbr\\u003etimestamp=%{marker.size}\\u003cextra\\u003e\\u003c\\u002fextra\\u003e\",\"legendgroup\":\"ben\",\"marker\":{\"color\":\"#B6E880\",\"size\":[1,1,2,1,1],\"sizemode\":\"area\",\"sizeref\":0.035,\"symbol\":\"circle\"},\"mode\":\"markers\",\"name\":\"ben\",\"orientation\":\"v\",\"showlegend\":true,\"x\":[2,4,6,8,10],\"xaxis\":\"x\",\"y\":[null,null,50.0,null,null],\"yaxis\":\"y\",\"type\":\"scatter\"},{\"hovertemplate\":\"firstname=ben \\u003cbr\\u003eShot Distance=%{x}\\u003cbr\\u003ePercentage of Made Shots=%{y}\\u003cbr\\u003etimestamp=%{marker.size}\\u003cextra\\u003e\\u003c\\u002fextra\\u003e\",\"legendgroup\":\"ben \",\"marker\":{\"color\":\"#FF97FF\",\"size\":[1,2],\"sizemode\":\"area\",\"sizeref\":0.035,\"symbol\":\"circle\"},\"mode\":\"markers\",\"name\":\"ben \",\"orientation\":\"v\",\"showlegend\":true,\"x\":[8,10],\"xaxis\":\"x\",\"y\":[null,null],\"yaxis\":\"y\",\"type\":\"scatter\"},{\"hovertemplate\":\"firstname=benjamin \\u003cbr\\u003eShot Distance=%{x}\\u003cbr\\u003ePercentage of Made Shots=%{y}\\u003cbr\\u003etimestamp=%{marker.size}\\u003cextra\\u003e\\u003c\\u002fextra\\u003e\",\"legendgroup\":\"benjamin \",\"marker\":{\"color\":\"#FECB52\",\"size\":[1,1],\"sizemode\":\"area\",\"sizeref\":0.035,\"symbol\":\"circle\"},\"mode\":\"markers\",\"name\":\"benjamin \",\"orientation\":\"v\",\"showlegend\":true,\"x\":[8,10],\"xaxis\":\"x\",\"y\":[null,null],\"yaxis\":\"y\",\"type\":\"scatter\"},{\"hovertemplate\":\"firstname=dyaln\\u003cbr\\u003eShot Distance=%{x}\\u003cbr\\u003ePercentage of Made Shots=%{y}\\u003cbr\\u003etimestamp=%{marker.size}\\u003cextra\\u003e\\u003c\\u002fextra\\u003e\",\"legendgroup\":\"dyaln\",\"marker\":{\"color\":\"#636efa\",\"size\":[1],\"sizemode\":\"area\",\"sizeref\":0.035,\"symbol\":\"circle\"},\"mode\":\"markers\",\"name\":\"dyaln\",\"orientation\":\"v\",\"showlegend\":true,\"x\":[6],\"xaxis\":\"x\",\"y\":[100.0],\"yaxis\":\"y\",\"type\":\"scatter\"},{\"hovertemplate\":\"firstname=dylan\\u003cbr\\u003eShot Distance=%{x}\\u003cbr\\u003ePercentage of Made Shots=%{y}\\u003cbr\\u003etimestamp=%{marker.size}\\u003cextra\\u003e\\u003c\\u002fextra\\u003e\",\"legendgroup\":\"dylan\",\"marker\":{\"color\":\"#EF553B\",\"size\":[2,3],\"sizemode\":\"area\",\"sizeref\":0.035,\"symbol\":\"circle\"},\"mode\":\"markers\",\"name\":\"dylan\",\"orientation\":\"v\",\"showlegend\":true,\"x\":[2,10],\"xaxis\":\"x\",\"y\":[100.0,33.33333333333333],\"yaxis\":\"y\",\"type\":\"scatter\"},{\"hovertemplate\":\"firstname=dylan \\u003cbr\\u003eShot Distance=%{x}\\u003cbr\\u003ePercentage of Made Shots=%{y}\\u003cbr\\u003etimestamp=%{marker.size}\\u003cextra\\u003e\\u003c\\u002fextra\\u003e\",\"legendgroup\":\"dylan \",\"marker\":{\"color\":\"#00cc96\",\"size\":[2,2,1],\"sizemode\":\"area\",\"sizeref\":0.035,\"symbol\":\"circle\"},\"mode\":\"markers\",\"name\":\"dylan \",\"orientation\":\"v\",\"showlegend\":true,\"x\":[6,8,10],\"xaxis\":\"x\",\"y\":[null,null,null],\"yaxis\":\"y\",\"type\":\"scatter\"},{\"hovertemplate\":\"firstname=jacob\\u003cbr\\u003eShot Distance=%{x}\\u003cbr\\u003ePercentage of Made Shots=%{y}\\u003cbr\\u003etimestamp=%{marker.size}\\u003cextra\\u003e\\u003c\\u002fextra\\u003e\",\"legendgroup\":\"jacob\",\"marker\":{\"color\":\"#ab63fa\",\"size\":[1],\"sizemode\":\"area\",\"sizeref\":0.035,\"symbol\":\"circle\"},\"mode\":\"markers\",\"name\":\"jacob\",\"orientation\":\"v\",\"showlegend\":true,\"x\":[10],\"xaxis\":\"x\",\"y\":[null],\"yaxis\":\"y\",\"type\":\"scatter\"},{\"hovertemplate\":\"firstname=jhustin\\u003cbr\\u003eShot Distance=%{x}\\u003cbr\\u003ePercentage of Made Shots=%{y}\\u003cbr\\u003etimestamp=%{marker.size}\\u003cextra\\u003e\\u003c\\u002fextra\\u003e\",\"legendgroup\":\"jhustin\",\"marker\":{\"color\":\"#FFA15A\",\"size\":[1],\"sizemode\":\"area\",\"sizeref\":0.035,\"symbol\":\"circle\"},\"mode\":\"markers\",\"name\":\"jhustin\",\"orientation\":\"v\",\"showlegend\":true,\"x\":[2],\"xaxis\":\"x\",\"y\":[100.0],\"yaxis\":\"y\",\"type\":\"scatter\"},{\"hovertemplate\":\"firstname=josh\\u003cbr\\u003eShot Distance=%{x}\\u003cbr\\u003ePercentage of Made Shots=%{y}\\u003cbr\\u003etimestamp=%{marker.size}\\u003cextra\\u003e\\u003c\\u002fextra\\u003e\",\"legendgroup\":\"josh\",\"marker\":{\"color\":\"#19d3f3\",\"size\":[1,1,1,1],\"sizemode\":\"area\",\"sizeref\":0.035,\"symbol\":\"circle\"},\"mode\":\"markers\",\"name\":\"josh\",\"orientation\":\"v\",\"showlegend\":true,\"x\":[2,4,6,10],\"xaxis\":\"x\",\"y\":[100.0,null,null,null],\"yaxis\":\"y\",\"type\":\"scatter\"},{\"hovertemplate\":\"firstname=josh \\u003cbr\\u003eShot Distance=%{x}\\u003cbr\\u003ePercentage of Made Shots=%{y}\\u003cbr\\u003etimestamp=%{marker.size}\\u003cextra\\u003e\\u003c\\u002fextra\\u003e\",\"legendgroup\":\"josh \",\"marker\":{\"color\":\"#FF6692\",\"size\":[1,2,1],\"sizemode\":\"area\",\"sizeref\":0.035,\"symbol\":\"circle\"},\"mode\":\"markers\",\"name\":\"josh \",\"orientation\":\"v\",\"showlegend\":true,\"x\":[6,8,10],\"xaxis\":\"x\",\"y\":[null,null,null],\"yaxis\":\"y\",\"type\":\"scatter\"},{\"hovertemplate\":\"firstname=kirsten\\u003cbr\\u003eShot Distance=%{x}\\u003cbr\\u003ePercentage of Made Shots=%{y}\\u003cbr\\u003etimestamp=%{marker.size}\\u003cextra\\u003e\\u003c\\u002fextra\\u003e\",\"legendgroup\":\"kirsten\",\"marker\":{\"color\":\"#B6E880\",\"size\":[1,2],\"sizemode\":\"area\",\"sizeref\":0.035,\"symbol\":\"circle\"},\"mode\":\"markers\",\"name\":\"kirsten\",\"orientation\":\"v\",\"showlegend\":true,\"x\":[6,8],\"xaxis\":\"x\",\"y\":[100.0,50.0],\"yaxis\":\"y\",\"type\":\"scatter\"},{\"hovertemplate\":\"firstname=m.o\\u003cbr\\u003eShot Distance=%{x}\\u003cbr\\u003ePercentage of Made Shots=%{y}\\u003cbr\\u003etimestamp=%{marker.size}\\u003cextra\\u003e\\u003c\\u002fextra\\u003e\",\"legendgroup\":\"m.o\",\"marker\":{\"color\":\"#FF97FF\",\"size\":[1,1,1,2],\"sizemode\":\"area\",\"sizeref\":0.035,\"symbol\":\"circle\"},\"mode\":\"markers\",\"name\":\"m.o\",\"orientation\":\"v\",\"showlegend\":true,\"x\":[2,4,8,10],\"xaxis\":\"x\",\"y\":[100.0,100.0,null,null],\"yaxis\":\"y\",\"type\":\"scatter\"},{\"hovertemplate\":\"firstname=mubarak\\u003cbr\\u003eShot Distance=%{x}\\u003cbr\\u003ePercentage of Made Shots=%{y}\\u003cbr\\u003etimestamp=%{marker.size}\\u003cextra\\u003e\\u003c\\u002fextra\\u003e\",\"legendgroup\":\"mubarak\",\"marker\":{\"color\":\"#FECB52\",\"size\":[1,2,1],\"sizemode\":\"area\",\"sizeref\":0.035,\"symbol\":\"circle\"},\"mode\":\"markers\",\"name\":\"mubarak\",\"orientation\":\"v\",\"showlegend\":true,\"x\":[4,6,8],\"xaxis\":\"x\",\"y\":[100.0,null,null],\"yaxis\":\"y\",\"type\":\"scatter\"},{\"hovertemplate\":\"firstname=mubarak \\u003cbr\\u003eShot Distance=%{x}\\u003cbr\\u003ePercentage of Made Shots=%{y}\\u003cbr\\u003etimestamp=%{marker.size}\\u003cextra\\u003e\\u003c\\u002fextra\\u003e\",\"legendgroup\":\"mubarak \",\"marker\":{\"color\":\"#636efa\",\"size\":[1,2,2,2],\"sizemode\":\"area\",\"sizeref\":0.035,\"symbol\":\"circle\"},\"mode\":\"markers\",\"name\":\"mubarak \",\"orientation\":\"v\",\"showlegend\":true,\"x\":[2,6,8,10],\"xaxis\":\"x\",\"y\":[100.0,null,null,null],\"yaxis\":\"y\",\"type\":\"scatter\"},{\"hovertemplate\":\"firstname=naya\\u003cbr\\u003eShot Distance=%{x}\\u003cbr\\u003ePercentage of Made Shots=%{y}\\u003cbr\\u003etimestamp=%{marker.size}\\u003cextra\\u003e\\u003c\\u002fextra\\u003e\",\"legendgroup\":\"naya\",\"marker\":{\"color\":\"#EF553B\",\"size\":[4,2,1,2,2],\"sizemode\":\"area\",\"sizeref\":0.035,\"symbol\":\"circle\"},\"mode\":\"markers\",\"name\":\"naya\",\"orientation\":\"v\",\"showlegend\":true,\"x\":[2,4,6,8,10],\"xaxis\":\"x\",\"y\":[75.0,50.0,100.0,50.0,50.0],\"yaxis\":\"y\",\"type\":\"scatter\"}],                        {\"template\":{\"data\":{\"histogram2dcontour\":[{\"type\":\"histogram2dcontour\",\"colorbar\":{\"outlinewidth\":0,\"ticks\":\"\"},\"colorscale\":[[0.0,\"#0d0887\"],[0.1111111111111111,\"#46039f\"],[0.2222222222222222,\"#7201a8\"],[0.3333333333333333,\"#9c179e\"],[0.4444444444444444,\"#bd3786\"],[0.5555555555555556,\"#d8576b\"],[0.6666666666666666,\"#ed7953\"],[0.7777777777777778,\"#fb9f3a\"],[0.8888888888888888,\"#fdca26\"],[1.0,\"#f0f921\"]]}],\"choropleth\":[{\"type\":\"choropleth\",\"colorbar\":{\"outlinewidth\":0,\"ticks\":\"\"}}],\"histogram2d\":[{\"type\":\"histogram2d\",\"colorbar\":{\"outlinewidth\":0,\"ticks\":\"\"},\"colorscale\":[[0.0,\"#0d0887\"],[0.1111111111111111,\"#46039f\"],[0.2222222222222222,\"#7201a8\"],[0.3333333333333333,\"#9c179e\"],[0.4444444444444444,\"#bd3786\"],[0.5555555555555556,\"#d8576b\"],[0.6666666666666666,\"#ed7953\"],[0.7777777777777778,\"#fb9f3a\"],[0.8888888888888888,\"#fdca26\"],[1.0,\"#f0f921\"]]}],\"heatmap\":[{\"type\":\"heatmap\",\"colorbar\":{\"outlinewidth\":0,\"ticks\":\"\"},\"colorscale\":[[0.0,\"#0d0887\"],[0.1111111111111111,\"#46039f\"],[0.2222222222222222,\"#7201a8\"],[0.3333333333333333,\"#9c179e\"],[0.4444444444444444,\"#bd3786\"],[0.5555555555555556,\"#d8576b\"],[0.6666666666666666,\"#ed7953\"],[0.7777777777777778,\"#fb9f3a\"],[0.8888888888888888,\"#fdca26\"],[1.0,\"#f0f921\"]]}],\"heatmapgl\":[{\"type\":\"heatmapgl\",\"colorbar\":{\"outlinewidth\":0,\"ticks\":\"\"},\"colorscale\":[[0.0,\"#0d0887\"],[0.1111111111111111,\"#46039f\"],[0.2222222222222222,\"#7201a8\"],[0.3333333333333333,\"#9c179e\"],[0.4444444444444444,\"#bd3786\"],[0.5555555555555556,\"#d8576b\"],[0.6666666666666666,\"#ed7953\"],[0.7777777777777778,\"#fb9f3a\"],[0.8888888888888888,\"#fdca26\"],[1.0,\"#f0f921\"]]}],\"contourcarpet\":[{\"type\":\"contourcarpet\",\"colorbar\":{\"outlinewidth\":0,\"ticks\":\"\"}}],\"contour\":[{\"type\":\"contour\",\"colorbar\":{\"outlinewidth\":0,\"ticks\":\"\"},\"colorscale\":[[0.0,\"#0d0887\"],[0.1111111111111111,\"#46039f\"],[0.2222222222222222,\"#7201a8\"],[0.3333333333333333,\"#9c179e\"],[0.4444444444444444,\"#bd3786\"],[0.5555555555555556,\"#d8576b\"],[0.6666666666666666,\"#ed7953\"],[0.7777777777777778,\"#fb9f3a\"],[0.8888888888888888,\"#fdca26\"],[1.0,\"#f0f921\"]]}],\"surface\":[{\"type\":\"surface\",\"colorbar\":{\"outlinewidth\":0,\"ticks\":\"\"},\"colorscale\":[[0.0,\"#0d0887\"],[0.1111111111111111,\"#46039f\"],[0.2222222222222222,\"#7201a8\"],[0.3333333333333333,\"#9c179e\"],[0.4444444444444444,\"#bd3786\"],[0.5555555555555556,\"#d8576b\"],[0.6666666666666666,\"#ed7953\"],[0.7777777777777778,\"#fb9f3a\"],[0.8888888888888888,\"#fdca26\"],[1.0,\"#f0f921\"]]}],\"mesh3d\":[{\"type\":\"mesh3d\",\"colorbar\":{\"outlinewidth\":0,\"ticks\":\"\"}}],\"scatter\":[{\"fillpattern\":{\"fillmode\":\"overlay\",\"size\":10,\"solidity\":0.2},\"type\":\"scatter\"}],\"parcoords\":[{\"type\":\"parcoords\",\"line\":{\"colorbar\":{\"outlinewidth\":0,\"ticks\":\"\"}}}],\"scatterpolargl\":[{\"type\":\"scatterpolargl\",\"marker\":{\"colorbar\":{\"outlinewidth\":0,\"ticks\":\"\"}}}],\"bar\":[{\"error_x\":{\"color\":\"#2a3f5f\"},\"error_y\":{\"color\":\"#2a3f5f\"},\"marker\":{\"line\":{\"color\":\"#E5ECF6\",\"width\":0.5},\"pattern\":{\"fillmode\":\"overlay\",\"size\":10,\"solidity\":0.2}},\"type\":\"bar\"}],\"scattergeo\":[{\"type\":\"scattergeo\",\"marker\":{\"colorbar\":{\"outlinewidth\":0,\"ticks\":\"\"}}}],\"scatterpolar\":[{\"type\":\"scatterpolar\",\"marker\":{\"colorbar\":{\"outlinewidth\":0,\"ticks\":\"\"}}}],\"histogram\":[{\"marker\":{\"pattern\":{\"fillmode\":\"overlay\",\"size\":10,\"solidity\":0.2}},\"type\":\"histogram\"}],\"scattergl\":[{\"type\":\"scattergl\",\"marker\":{\"colorbar\":{\"outlinewidth\":0,\"ticks\":\"\"}}}],\"scatter3d\":[{\"type\":\"scatter3d\",\"line\":{\"colorbar\":{\"outlinewidth\":0,\"ticks\":\"\"}},\"marker\":{\"colorbar\":{\"outlinewidth\":0,\"ticks\":\"\"}}}],\"scattermapbox\":[{\"type\":\"scattermapbox\",\"marker\":{\"colorbar\":{\"outlinewidth\":0,\"ticks\":\"\"}}}],\"scatterternary\":[{\"type\":\"scatterternary\",\"marker\":{\"colorbar\":{\"outlinewidth\":0,\"ticks\":\"\"}}}],\"scattercarpet\":[{\"type\":\"scattercarpet\",\"marker\":{\"colorbar\":{\"outlinewidth\":0,\"ticks\":\"\"}}}],\"carpet\":[{\"aaxis\":{\"endlinecolor\":\"#2a3f5f\",\"gridcolor\":\"white\",\"linecolor\":\"white\",\"minorgridcolor\":\"white\",\"startlinecolor\":\"#2a3f5f\"},\"baxis\":{\"endlinecolor\":\"#2a3f5f\",\"gridcolor\":\"white\",\"linecolor\":\"white\",\"minorgridcolor\":\"white\",\"startlinecolor\":\"#2a3f5f\"},\"type\":\"carpet\"}],\"table\":[{\"cells\":{\"fill\":{\"color\":\"#EBF0F8\"},\"line\":{\"color\":\"white\"}},\"header\":{\"fill\":{\"color\":\"#C8D4E3\"},\"line\":{\"color\":\"white\"}},\"type\":\"table\"}],\"barpolar\":[{\"marker\":{\"line\":{\"color\":\"#E5ECF6\",\"width\":0.5},\"pattern\":{\"fillmode\":\"overlay\",\"size\":10,\"solidity\":0.2}},\"type\":\"barpolar\"}],\"pie\":[{\"automargin\":true,\"type\":\"pie\"}]},\"layout\":{\"autotypenumbers\":\"strict\",\"colorway\":[\"#636efa\",\"#EF553B\",\"#00cc96\",\"#ab63fa\",\"#FFA15A\",\"#19d3f3\",\"#FF6692\",\"#B6E880\",\"#FF97FF\",\"#FECB52\"],\"font\":{\"color\":\"#2a3f5f\"},\"hovermode\":\"closest\",\"hoverlabel\":{\"align\":\"left\"},\"paper_bgcolor\":\"white\",\"plot_bgcolor\":\"#E5ECF6\",\"polar\":{\"bgcolor\":\"#E5ECF6\",\"angularaxis\":{\"gridcolor\":\"white\",\"linecolor\":\"white\",\"ticks\":\"\"},\"radialaxis\":{\"gridcolor\":\"white\",\"linecolor\":\"white\",\"ticks\":\"\"}},\"ternary\":{\"bgcolor\":\"#E5ECF6\",\"aaxis\":{\"gridcolor\":\"white\",\"linecolor\":\"white\",\"ticks\":\"\"},\"baxis\":{\"gridcolor\":\"white\",\"linecolor\":\"white\",\"ticks\":\"\"},\"caxis\":{\"gridcolor\":\"white\",\"linecolor\":\"white\",\"ticks\":\"\"}},\"coloraxis\":{\"colorbar\":{\"outlinewidth\":0,\"ticks\":\"\"}},\"colorscale\":{\"sequential\":[[0.0,\"#0d0887\"],[0.1111111111111111,\"#46039f\"],[0.2222222222222222,\"#7201a8\"],[0.3333333333333333,\"#9c179e\"],[0.4444444444444444,\"#bd3786\"],[0.5555555555555556,\"#d8576b\"],[0.6666666666666666,\"#ed7953\"],[0.7777777777777778,\"#fb9f3a\"],[0.8888888888888888,\"#fdca26\"],[1.0,\"#f0f921\"]],\"sequentialminus\":[[0.0,\"#0d0887\"],[0.1111111111111111,\"#46039f\"],[0.2222222222222222,\"#7201a8\"],[0.3333333333333333,\"#9c179e\"],[0.4444444444444444,\"#bd3786\"],[0.5555555555555556,\"#d8576b\"],[0.6666666666666666,\"#ed7953\"],[0.7777777777777778,\"#fb9f3a\"],[0.8888888888888888,\"#fdca26\"],[1.0,\"#f0f921\"]],\"diverging\":[[0,\"#8e0152\"],[0.1,\"#c51b7d\"],[0.2,\"#de77ae\"],[0.3,\"#f1b6da\"],[0.4,\"#fde0ef\"],[0.5,\"#f7f7f7\"],[0.6,\"#e6f5d0\"],[0.7,\"#b8e186\"],[0.8,\"#7fbc41\"],[0.9,\"#4d9221\"],[1,\"#276419\"]]},\"xaxis\":{\"gridcolor\":\"white\",\"linecolor\":\"white\",\"ticks\":\"\",\"title\":{\"standoff\":15},\"zerolinecolor\":\"white\",\"automargin\":true,\"zerolinewidth\":2},\"yaxis\":{\"gridcolor\":\"white\",\"linecolor\":\"white\",\"ticks\":\"\",\"title\":{\"standoff\":15},\"zerolinecolor\":\"white\",\"automargin\":true,\"zerolinewidth\":2},\"scene\":{\"xaxis\":{\"backgroundcolor\":\"#E5ECF6\",\"gridcolor\":\"white\",\"linecolor\":\"white\",\"showbackground\":true,\"ticks\":\"\",\"zerolinecolor\":\"white\",\"gridwidth\":2},\"yaxis\":{\"backgroundcolor\":\"#E5ECF6\",\"gridcolor\":\"white\",\"linecolor\":\"white\",\"showbackground\":true,\"ticks\":\"\",\"zerolinecolor\":\"white\",\"gridwidth\":2},\"zaxis\":{\"backgroundcolor\":\"#E5ECF6\",\"gridcolor\":\"white\",\"linecolor\":\"white\",\"showbackground\":true,\"ticks\":\"\",\"zerolinecolor\":\"white\",\"gridwidth\":2}},\"shapedefaults\":{\"line\":{\"color\":\"#2a3f5f\"}},\"annotationdefaults\":{\"arrowcolor\":\"#2a3f5f\",\"arrowhead\":0,\"arrowwidth\":1},\"geo\":{\"bgcolor\":\"white\",\"landcolor\":\"#E5ECF6\",\"subunitcolor\":\"white\",\"showland\":true,\"showlakes\":true,\"lakecolor\":\"white\"},\"title\":{\"x\":0.05},\"mapbox\":{\"style\":\"light\"}}},\"xaxis\":{\"anchor\":\"y\",\"domain\":[0.0,1.0],\"title\":{\"text\":\"Shot Distance\"}},\"yaxis\":{\"anchor\":\"x\",\"domain\":[0.0,1.0],\"title\":{\"text\":\"Percentage of Made Shots\"}},\"legend\":{\"title\":{\"text\":\"firstname\"},\"tracegroupgap\":0,\"itemsizing\":\"constant\"},\"title\":{\"text\":\"Percentage of Made Shots at Different Distances with Trend Lines\"}},                        {\"responsive\": true}                    ).then(function(){\n",
       "                            \n",
       "var gd = document.getElementById('507eaa8a-b7a3-4028-9642-7497b9397b85');\n",
       "var x = new MutationObserver(function (mutations, observer) {{\n",
       "        var display = window.getComputedStyle(gd).display;\n",
       "        if (!display || display === 'none') {{\n",
       "            console.log([gd, 'removed!']);\n",
       "            Plotly.purge(gd);\n",
       "            observer.disconnect();\n",
       "        }}\n",
       "}});\n",
       "\n",
       "// Listen for the removal of the full notebook cells\n",
       "var notebookContainer = gd.closest('#notebook-container');\n",
       "if (notebookContainer) {{\n",
       "    x.observe(notebookContainer, {childList: true});\n",
       "}}\n",
       "\n",
       "// Listen for the clearing of the current output cell\n",
       "var outputEl = gd.closest('.output');\n",
       "if (outputEl) {{\n",
       "    x.observe(outputEl, {childList: true});\n",
       "}}\n",
       "\n",
       "                        })                };                });            </script>        </div>"
      ]
     },
     "metadata": {},
     "output_type": "display_data"
    }
   ],
   "source": [
    "# Create a pivot table to get the count of attempts for each player and distance\n",
    "pivot_table = df.pivot_table(index=['firstname', 'shotdistance'], values='timestamp', aggfunc='count', fill_value=0)\n",
    "\n",
    "# Calculate the percentage of made shots for each player and distance\n",
    "pivot_table['Percentage_True'] = (df[df['shotmade']].groupby(['firstname', 'shotdistance']).size() / pivot_table['timestamp']) * 100\n",
    "\n",
    "# Reset index to make 'Player' and 'Distance' columns regular columns\n",
    "pivot_table_reset = pivot_table.reset_index()\n",
    "\n",
    "# Plotly Express scatter plot with trend lines\n",
    "fig = px.scatter(\n",
    "    pivot_table_reset,\n",
    "    x='shotdistance',\n",
    "    y='Percentage_True',\n",
    "    size='timestamp',  # Size based on the number of attempts by each player at a given distance\n",
    "    color='firstname',\n",
    "    labels={'Percentage_True': 'Percentage of Made Shots', 'shotdistance': 'Shot Distance'},\n",
    "    title='Percentage of Made Shots at Different Distances with Trend Lines',\n",
    "    #trendline='ols',  # Ordinary Least Squares regression line\n",
    ")\n",
    "\n",
    "# Show the plot\n",
    "fig.show()"
   ]
  },
  {
   "cell_type": "markdown",
   "metadata": {},
   "source": [
    "---\n",
    "Back to [Data-Dunkers-README](../Data-Dunkers-README.md) ([GitHub link](https://github.com/pbeens/Data-Analysis/blob/main/Data-Dunkers-README.md))"
   ]
  }
 ],
 "metadata": {
  "kernelspec": {
   "display_name": "Python 3 (ipykernel)",
   "language": "python",
   "name": "python3"
  },
  "language_info": {
   "codemirror_mode": {
    "name": "ipython",
    "version": 3
   },
   "file_extension": ".py",
   "mimetype": "text/x-python",
   "name": "python",
   "nbconvert_exporter": "python",
   "pygments_lexer": "ipython3",
   "version": "3.11.6"
  }
 },
 "nbformat": 4,
 "nbformat_minor": 2
}
